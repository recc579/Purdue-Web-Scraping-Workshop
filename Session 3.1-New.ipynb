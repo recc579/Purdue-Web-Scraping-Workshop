{
 "cells": [
  {
   "cell_type": "markdown",
   "id": "bigger-bangladesh",
   "metadata": {},
   "source": [
    "### Getting the data\n",
    "Now let's try to get all of the quotes, authors, and tags in one loop. Then we can put it into a csv.<br>Note that there are many ways to parse the soup. I encourage you to try different approaches and see what works."
   ]
  },
  {
   "cell_type": "code",
   "execution_count": 1,
   "id": "chubby-snapshot",
   "metadata": {},
   "outputs": [],
   "source": [
    "from bs4 import BeautifulSoup as bs\n",
    "import urllib.request\n",
    "import pandas as pd"
   ]
  },
  {
   "cell_type": "code",
   "execution_count": 2,
   "id": "proprietary-tolerance",
   "metadata": {},
   "outputs": [],
   "source": [
    "html = urllib.request.urlopen(\"https://quotes.toscrape.com/\").read().decode('utf-8')\n",
    "soup = bs(html, \"html.parser\")"
   ]
  },
  {
   "cell_type": "code",
   "execution_count": 3,
   "id": "changing-retailer",
   "metadata": {},
   "outputs": [
    {
     "name": "stdout",
     "output_type": "stream",
     "text": [
      "10\n",
      "<div class=\"quote\" itemscope=\"\" itemtype=\"http://schema.org/CreativeWork\">\n",
      " <span class=\"text\" itemprop=\"text\">\n",
      "  “The world as we have created it is a process of our thinking. It cannot be changed without changing our thinking.”\n",
      " </span>\n",
      " <span>\n",
      "  by\n",
      "  <small class=\"author\" itemprop=\"author\">\n",
      "   Albert Einstein\n",
      "  </small>\n",
      "  <a href=\"/author/Albert-Einstein\">\n",
      "   (about)\n",
      "  </a>\n",
      " </span>\n",
      " <div class=\"tags\">\n",
      "  Tags:\n",
      "  <meta class=\"keywords\" content=\"change,deep-thoughts,thinking,world\" itemprop=\"keywords\"/>\n",
      "  <a class=\"tag\" href=\"/tag/change/page/1/\">\n",
      "   change\n",
      "  </a>\n",
      "  <a class=\"tag\" href=\"/tag/deep-thoughts/page/1/\">\n",
      "   deep-thoughts\n",
      "  </a>\n",
      "  <a class=\"tag\" href=\"/tag/thinking/page/1/\">\n",
      "   thinking\n",
      "  </a>\n",
      "  <a class=\"tag\" href=\"/tag/world/page/1/\">\n",
      "   world\n",
      "  </a>\n",
      " </div>\n",
      "</div>\n",
      "\n"
     ]
    }
   ],
   "source": [
    "div = soup.find_all(\"div\",class_=\"quote\")\n",
    "print(len(div))\n",
    "print(div[0].prettify())"
   ]
  },
  {
   "cell_type": "markdown",
   "id": "muslim-conservation",
   "metadata": {},
   "source": [
    "##### A short intermission about other functions"
   ]
  },
  {
   "cell_type": "code",
   "execution_count": 5,
   "id": "gothic-walter",
   "metadata": {},
   "outputs": [
    {
     "name": "stdout",
     "output_type": "stream",
     "text": [
      "\n",
      "\n",
      "------------------\n",
      "<span class=\"text\" itemprop=\"text\">“The world as we have created it is a process of our thinking. It cannot be changed without changing our thinking.”</span>\n",
      "------------------\n",
      "\n",
      "\n",
      "------------------\n",
      "<span>by <small class=\"author\" itemprop=\"author\">Albert Einstein</small>\n",
      "<a href=\"/author/Albert-Einstein\">(about)</a>\n",
      "</span>\n",
      "------------------\n",
      "\n",
      "\n",
      "------------------\n",
      "<div class=\"tags\">\n",
      "            Tags:\n",
      "            <meta class=\"keywords\" content=\"change,deep-thoughts,thinking,world\" itemprop=\"keywords\"/>\n",
      "<a class=\"tag\" href=\"/tag/change/page/1/\">change</a>\n",
      "<a class=\"tag\" href=\"/tag/deep-thoughts/page/1/\">deep-thoughts</a>\n",
      "<a class=\"tag\" href=\"/tag/thinking/page/1/\">thinking</a>\n",
      "<a class=\"tag\" href=\"/tag/world/page/1/\">world</a>\n",
      "</div>\n",
      "------------------\n",
      "\n",
      "\n",
      "------------------\n"
     ]
    }
   ],
   "source": [
    "# Let's learn some new functions to navigate the tree.\n",
    "# tag.find_all() or tag.find() would work in this situation, but for learning\n",
    "# and demonstration purposes, we will avoid them for this part.\n",
    "for child in div[0].children:\n",
    "    print(child)\n",
    "    print(\"------------------\")"
   ]
  },
  {
   "cell_type": "code",
   "execution_count": 6,
   "id": "ordered-chemistry",
   "metadata": {},
   "outputs": [
    {
     "data": {
      "text/plain": [
       "[<span class=\"text\" itemprop=\"text\">“The world as we have created it is a process of our thinking. It cannot be changed without changing our thinking.”</span>,\n",
       " <span>by <small class=\"author\" itemprop=\"author\">Albert Einstein</small>\n",
       " <a href=\"/author/Albert-Einstein\">(about)</a>\n",
       " </span>,\n",
       " <small class=\"author\" itemprop=\"author\">Albert Einstein</small>,\n",
       " <a href=\"/author/Albert-Einstein\">(about)</a>,\n",
       " <div class=\"tags\">\n",
       "             Tags:\n",
       "             <meta class=\"keywords\" content=\"change,deep-thoughts,thinking,world\" itemprop=\"keywords\"/>\n",
       " <a class=\"tag\" href=\"/tag/change/page/1/\">change</a>\n",
       " <a class=\"tag\" href=\"/tag/deep-thoughts/page/1/\">deep-thoughts</a>\n",
       " <a class=\"tag\" href=\"/tag/thinking/page/1/\">thinking</a>\n",
       " <a class=\"tag\" href=\"/tag/world/page/1/\">world</a>\n",
       " </div>,\n",
       " <meta class=\"keywords\" content=\"change,deep-thoughts,thinking,world\" itemprop=\"keywords\"/>,\n",
       " <a class=\"tag\" href=\"/tag/change/page/1/\">change</a>,\n",
       " <a class=\"tag\" href=\"/tag/deep-thoughts/page/1/\">deep-thoughts</a>,\n",
       " <a class=\"tag\" href=\"/tag/thinking/page/1/\">thinking</a>,\n",
       " <a class=\"tag\" href=\"/tag/world/page/1/\">world</a>]"
      ]
     },
     "execution_count": 6,
     "metadata": {},
     "output_type": "execute_result"
    }
   ],
   "source": [
    "div[0].findChildren()"
   ]
  },
  {
   "cell_type": "code",
   "execution_count": 9,
   "id": "helpful-innocent",
   "metadata": {},
   "outputs": [
    {
     "data": {
      "text/plain": [
       "[<span class=\"text\" itemprop=\"text\">“The world as we have created it is a process of our thinking. It cannot be changed without changing our thinking.”</span>,\n",
       " <span>by <small class=\"author\" itemprop=\"author\">Albert Einstein</small>\n",
       " <a href=\"/author/Albert-Einstein\">(about)</a>\n",
       " </span>,\n",
       " <small class=\"author\" itemprop=\"author\">Albert Einstein</small>,\n",
       " <a href=\"/author/Albert-Einstein\">(about)</a>,\n",
       " <div class=\"tags\">\n",
       "             Tags:\n",
       "             <meta class=\"keywords\" content=\"change,deep-thoughts,thinking,world\" itemprop=\"keywords\"/>\n",
       " <a class=\"tag\" href=\"/tag/change/page/1/\">change</a>\n",
       " <a class=\"tag\" href=\"/tag/deep-thoughts/page/1/\">deep-thoughts</a>\n",
       " <a class=\"tag\" href=\"/tag/thinking/page/1/\">thinking</a>\n",
       " <a class=\"tag\" href=\"/tag/world/page/1/\">world</a>\n",
       " </div>,\n",
       " <meta class=\"keywords\" content=\"change,deep-thoughts,thinking,world\" itemprop=\"keywords\"/>,\n",
       " <a class=\"tag\" href=\"/tag/change/page/1/\">change</a>,\n",
       " <a class=\"tag\" href=\"/tag/deep-thoughts/page/1/\">deep-thoughts</a>,\n",
       " <a class=\"tag\" href=\"/tag/thinking/page/1/\">thinking</a>,\n",
       " <a class=\"tag\" href=\"/tag/world/page/1/\">world</a>]"
      ]
     },
     "execution_count": 9,
     "metadata": {},
     "output_type": "execute_result"
    }
   ],
   "source": [
    "div[0].find_all()"
   ]
  },
  {
   "cell_type": "code",
   "execution_count": 8,
   "id": "confirmed-jumping",
   "metadata": {},
   "outputs": [
    {
     "data": {
      "text/plain": [
       "[<a class=\"tag\" href=\"/tag/change/page/1/\">change</a>,\n",
       " <a class=\"tag\" href=\"/tag/deep-thoughts/page/1/\">deep-thoughts</a>,\n",
       " <a class=\"tag\" href=\"/tag/thinking/page/1/\">thinking</a>,\n",
       " <a class=\"tag\" href=\"/tag/world/page/1/\">world</a>]"
      ]
     },
     "execution_count": 8,
     "metadata": {},
     "output_type": "execute_result"
    }
   ],
   "source": [
    "div[0].findChildren(class_=\"tag\")"
   ]
  },
  {
   "cell_type": "markdown",
   "id": "congressional-fireplace",
   "metadata": {},
   "source": [
    "You can also find parents and siblings of tags."
   ]
  },
  {
   "cell_type": "code",
   "execution_count": 10,
   "id": "continued-module",
   "metadata": {},
   "outputs": [
    {
     "name": "stdout",
     "output_type": "stream",
     "text": [
      "“It is our choices, Harry, that show what we truly are, far more than our abilities.”\n"
     ]
    }
   ],
   "source": [
    "# I want the author who talks about Harry.\n",
    "import re\n",
    "quote = soup.find(text=re.compile(\"Harry\"))\n",
    "print(quote)"
   ]
  },
  {
   "cell_type": "code",
   "execution_count": 11,
   "id": "boring-ireland",
   "metadata": {},
   "outputs": [
    {
     "name": "stdout",
     "output_type": "stream",
     "text": [
      "<span class=\"text\" itemprop=\"text\">“It is our choices, Harry, that show what we truly are, far more than our abilities.”</span>\n"
     ]
    }
   ],
   "source": [
    "parent = quote.parent\n",
    "print(parent)"
   ]
  },
  {
   "cell_type": "code",
   "execution_count": 12,
   "id": "covered-athletics",
   "metadata": {},
   "outputs": [
    {
     "name": "stdout",
     "output_type": "stream",
     "text": [
      "<span>by <small class=\"author\" itemprop=\"author\">J.K. Rowling</small>\n",
      "<a href=\"/author/J-K-Rowling\">(about)</a>\n",
      "</span>\n"
     ]
    }
   ],
   "source": [
    "next_sibling = parent.find_next_sibling()\n",
    "print(next_sibling)"
   ]
  },
  {
   "cell_type": "code",
   "execution_count": 13,
   "id": "historical-bibliography",
   "metadata": {},
   "outputs": [
    {
     "name": "stdout",
     "output_type": "stream",
     "text": [
      "[<span>by <small class=\"author\" itemprop=\"author\">J.K. Rowling</small>\n",
      "<a href=\"/author/J-K-Rowling\">(about)</a>\n",
      "</span>, <div class=\"tags\">\n",
      "            Tags:\n",
      "            <meta class=\"keywords\" content=\"abilities,choices\" itemprop=\"keywords\"/>\n",
      "<a class=\"tag\" href=\"/tag/abilities/page/1/\">abilities</a>\n",
      "<a class=\"tag\" href=\"/tag/choices/page/1/\">choices</a>\n",
      "</div>]\n"
     ]
    }
   ],
   "source": [
    "all_siblings = parent.find_next_siblings()\n",
    "print(all_siblings)"
   ]
  },
  {
   "cell_type": "code",
   "execution_count": 14,
   "id": "bulgarian-union",
   "metadata": {},
   "outputs": [
    {
     "name": "stdout",
     "output_type": "stream",
     "text": [
      "by J.K. Rowling\n",
      "(about)\n",
      "\n"
     ]
    }
   ],
   "source": [
    "author = parent.find_next_sibling()\n",
    "print(author.get_text())"
   ]
  },
  {
   "cell_type": "code",
   "execution_count": 18,
   "id": "starting-fiction",
   "metadata": {},
   "outputs": [
    {
     "data": {
      "text/plain": [
       "'J.K. Rowling'"
      ]
     },
     "execution_count": 18,
     "metadata": {},
     "output_type": "execute_result"
    }
   ],
   "source": [
    "# How do we just get J.K. Rowling?\n",
    "author.findChild(\"small\").get_text()"
   ]
  },
  {
   "cell_type": "markdown",
   "id": "valuable-inspector",
   "metadata": {},
   "source": [
    "##### Back to our regularly scheduled coding"
   ]
  },
  {
   "cell_type": "code",
   "execution_count": 19,
   "id": "wrapped-japan",
   "metadata": {},
   "outputs": [
    {
     "name": "stdout",
     "output_type": "stream",
     "text": [
      "<div class=\"quote\" itemscope=\"\" itemtype=\"http://schema.org/CreativeWork\">\n",
      " <span class=\"text\" itemprop=\"text\">\n",
      "  “The world as we have created it is a process of our thinking. It cannot be changed without changing our thinking.”\n",
      " </span>\n",
      " <span>\n",
      "  by\n",
      "  <small class=\"author\" itemprop=\"author\">\n",
      "   Albert Einstein\n",
      "  </small>\n",
      "  <a href=\"/author/Albert-Einstein\">\n",
      "   (about)\n",
      "  </a>\n",
      " </span>\n",
      " <div class=\"tags\">\n",
      "  Tags:\n",
      "  <meta class=\"keywords\" content=\"change,deep-thoughts,thinking,world\" itemprop=\"keywords\"/>\n",
      "  <a class=\"tag\" href=\"/tag/change/page/1/\">\n",
      "   change\n",
      "  </a>\n",
      "  <a class=\"tag\" href=\"/tag/deep-thoughts/page/1/\">\n",
      "   deep-thoughts\n",
      "  </a>\n",
      "  <a class=\"tag\" href=\"/tag/thinking/page/1/\">\n",
      "   thinking\n",
      "  </a>\n",
      "  <a class=\"tag\" href=\"/tag/world/page/1/\">\n",
      "   world\n",
      "  </a>\n",
      " </div>\n",
      "</div>\n",
      "\n"
     ]
    }
   ],
   "source": [
    "print(div[0].prettify())"
   ]
  },
  {
   "cell_type": "code",
   "execution_count": 21,
   "id": "tribal-rhythm",
   "metadata": {},
   "outputs": [],
   "source": [
    "# Now let's get all the quotes\n",
    "quotes = []\n",
    "authors = []\n",
    "tags = []\n",
    "\n",
    "for div in soup.find_all(\"div\",class_=\"quote\"):\n",
    "    text = div.find(itemprop = \"text\").get_text()\n",
    "    author = div.find(itemprop= \"author\").get_text()\n",
    "    tag = div.find(\"div\", class_=\"tags\").get_text(\"|\",strip = True)\n",
    "    quotes.append(text)\n",
    "    authors.append(author)\n",
    "    tags.append(tag)"
   ]
  },
  {
   "cell_type": "code",
   "execution_count": 22,
   "id": "nominated-chicago",
   "metadata": {},
   "outputs": [
    {
     "data": {
      "text/plain": [
       "['“The world as we have created it is a process of our thinking. It cannot be changed without changing our thinking.”',\n",
       " '“It is our choices, Harry, that show what we truly are, far more than our abilities.”',\n",
       " '“There are only two ways to live your life. One is as though nothing is a miracle. The other is as though everything is a miracle.”',\n",
       " '“The person, be it gentleman or lady, who has not pleasure in a good novel, must be intolerably stupid.”',\n",
       " \"“Imperfection is beauty, madness is genius and it's better to be absolutely ridiculous than absolutely boring.”\",\n",
       " '“Try not to become a man of success. Rather become a man of value.”',\n",
       " '“It is better to be hated for what you are than to be loved for what you are not.”',\n",
       " \"“I have not failed. I've just found 10,000 ways that won't work.”\",\n",
       " \"“A woman is like a tea bag; you never know how strong it is until it's in hot water.”\",\n",
       " '“A day without sunshine is like, you know, night.”']"
      ]
     },
     "execution_count": 22,
     "metadata": {},
     "output_type": "execute_result"
    }
   ],
   "source": [
    "quotes"
   ]
  },
  {
   "cell_type": "code",
   "execution_count": 23,
   "id": "tested-scale",
   "metadata": {},
   "outputs": [
    {
     "data": {
      "text/plain": [
       "['Albert Einstein',\n",
       " 'J.K. Rowling',\n",
       " 'Albert Einstein',\n",
       " 'Jane Austen',\n",
       " 'Marilyn Monroe',\n",
       " 'Albert Einstein',\n",
       " 'André Gide',\n",
       " 'Thomas A. Edison',\n",
       " 'Eleanor Roosevelt',\n",
       " 'Steve Martin']"
      ]
     },
     "execution_count": 23,
     "metadata": {},
     "output_type": "execute_result"
    }
   ],
   "source": [
    "authors"
   ]
  },
  {
   "cell_type": "code",
   "execution_count": 24,
   "id": "equal-correlation",
   "metadata": {},
   "outputs": [
    {
     "data": {
      "text/plain": [
       "['Tags:|change|deep-thoughts|thinking|world',\n",
       " 'Tags:|abilities|choices',\n",
       " 'Tags:|inspirational|life|live|miracle|miracles',\n",
       " 'Tags:|aliteracy|books|classic|humor',\n",
       " 'Tags:|be-yourself|inspirational',\n",
       " 'Tags:|adulthood|success|value',\n",
       " 'Tags:|life|love',\n",
       " 'Tags:|edison|failure|inspirational|paraphrased',\n",
       " 'Tags:|misattributed-eleanor-roosevelt',\n",
       " 'Tags:|humor|obvious|simile']"
      ]
     },
     "execution_count": 24,
     "metadata": {},
     "output_type": "execute_result"
    }
   ],
   "source": [
    "tags"
   ]
  },
  {
   "cell_type": "code",
   "execution_count": 25,
   "id": "unable-joyce",
   "metadata": {},
   "outputs": [
    {
     "name": "stdout",
     "output_type": "stream",
     "text": [
      "<div class=\"quote\" itemscope=\"\" itemtype=\"http://schema.org/CreativeWork\">\n",
      " <span class=\"text\" itemprop=\"text\">\n",
      "  “A day without sunshine is like, you know, night.”\n",
      " </span>\n",
      " <span>\n",
      "  by\n",
      "  <small class=\"author\" itemprop=\"author\">\n",
      "   Steve Martin\n",
      "  </small>\n",
      "  <a href=\"/author/Steve-Martin\">\n",
      "   (about)\n",
      "  </a>\n",
      " </span>\n",
      " <div class=\"tags\">\n",
      "  Tags:\n",
      "  <meta class=\"keywords\" content=\"humor,obvious,simile\" itemprop=\"keywords\"/>\n",
      "  <a class=\"tag\" href=\"/tag/humor/page/1/\">\n",
      "   humor\n",
      "  </a>\n",
      "  <a class=\"tag\" href=\"/tag/obvious/page/1/\">\n",
      "   obvious\n",
      "  </a>\n",
      "  <a class=\"tag\" href=\"/tag/simile/page/1/\">\n",
      "   simile\n",
      "  </a>\n",
      " </div>\n",
      "</div>\n",
      "\n"
     ]
    }
   ],
   "source": [
    "print(div.prettify())"
   ]
  },
  {
   "cell_type": "code",
   "execution_count": 29,
   "id": "gentle-nicholas",
   "metadata": {},
   "outputs": [
    {
     "data": {
      "text/plain": [
       "[<a class=\"tag\" href=\"/tag/humor/page/1/\">humor</a>,\n",
       " <a class=\"tag\" href=\"/tag/obvious/page/1/\">obvious</a>,\n",
       " <a class=\"tag\" href=\"/tag/simile/page/1/\">simile</a>]"
      ]
     },
     "metadata": {},
     "output_type": "display_data"
    },
    {
     "data": {
      "text/plain": [
       "['humor', 'obvious', 'simile']"
      ]
     },
     "execution_count": 29,
     "metadata": {},
     "output_type": "execute_result"
    }
   ],
   "source": [
    "a_s = div.find(\"div\", class_=\"tags\").findChildren(\"a\")\n",
    "display(a_s)\n",
    "for i in range(len(a_s)):\n",
    "    a_s[i]=a_s[i].get_text()\n",
    "a_s"
   ]
  },
  {
   "cell_type": "code",
   "execution_count": 30,
   "id": "impressive-circle",
   "metadata": {},
   "outputs": [
    {
     "data": {
      "text/plain": [
       "'humor|obvious|simile'"
      ]
     },
     "execution_count": 30,
     "metadata": {},
     "output_type": "execute_result"
    }
   ],
   "source": [
    "\"|\".join(a_s)"
   ]
  },
  {
   "cell_type": "code",
   "execution_count": 31,
   "id": "revolutionary-given",
   "metadata": {},
   "outputs": [],
   "source": [
    "# Now let's get all the quotes\n",
    "quotes = []\n",
    "authors = []\n",
    "tags = []\n",
    "\n",
    "for div in soup.find_all(\"div\",class_=\"quote\"):\n",
    "    text = div.find(itemprop = \"text\").get_text()\n",
    "    author = div.find(itemprop= \"author\").get_text()\n",
    "    a_s = div.find(\"div\", class_=\"tags\").findChildren(\"a\")\n",
    "    for i in range(len(a_s)):\n",
    "        a_s[i]=a_s[i].get_text()\n",
    "    tag = \"|\".join(a_s)\n",
    "    quotes.append(text)\n",
    "    authors.append(author)\n",
    "    tags.append(tag)"
   ]
  },
  {
   "cell_type": "code",
   "execution_count": 32,
   "id": "existing-intervention",
   "metadata": {},
   "outputs": [
    {
     "data": {
      "text/plain": [
       "['change|deep-thoughts|thinking|world',\n",
       " 'abilities|choices',\n",
       " 'inspirational|life|live|miracle|miracles',\n",
       " 'aliteracy|books|classic|humor',\n",
       " 'be-yourself|inspirational',\n",
       " 'adulthood|success|value',\n",
       " 'life|love',\n",
       " 'edison|failure|inspirational|paraphrased',\n",
       " 'misattributed-eleanor-roosevelt',\n",
       " 'humor|obvious|simile']"
      ]
     },
     "execution_count": 32,
     "metadata": {},
     "output_type": "execute_result"
    }
   ],
   "source": [
    "tags"
   ]
  },
  {
   "cell_type": "code",
   "execution_count": null,
   "id": "competent-april",
   "metadata": {},
   "outputs": [],
   "source": []
  }
 ],
 "metadata": {
  "kernelspec": {
   "display_name": "Python 3",
   "language": "python",
   "name": "python3"
  },
  "language_info": {
   "codemirror_mode": {
    "name": "ipython",
    "version": 3
   },
   "file_extension": ".py",
   "mimetype": "text/x-python",
   "name": "python",
   "nbconvert_exporter": "python",
   "pygments_lexer": "ipython3",
   "version": "3.8.5"
  }
 },
 "nbformat": 4,
 "nbformat_minor": 5
}
