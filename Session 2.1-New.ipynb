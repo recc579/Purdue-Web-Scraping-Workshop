{
 "cells": [
  {
   "cell_type": "markdown",
   "id": "wrong-groove",
   "metadata": {},
   "source": [
    "### A new approach\n",
    "https://www.w3schools.com/python/default.asp"
   ]
  },
  {
   "cell_type": "code",
   "execution_count": 1,
   "id": "antique-debate",
   "metadata": {},
   "outputs": [],
   "source": [
    "import urllib.request"
   ]
  },
  {
   "cell_type": "code",
   "execution_count": 2,
   "id": "caring-analysis",
   "metadata": {},
   "outputs": [],
   "source": [
    "html = urllib.request.urlopen(\"https://www.indiana-demographics.com/cities_by_population\").read().decode('utf-8')"
   ]
  },
  {
   "cell_type": "markdown",
   "id": "creative-calvin",
   "metadata": {},
   "source": [
    "Everything starts out the same. Even getting html2."
   ]
  },
  {
   "cell_type": "code",
   "execution_count": 3,
   "id": "assured-final",
   "metadata": {},
   "outputs": [
    {
     "data": {
      "text/plain": [
       "'<table class=\"ranklist \">\\n\\t\\t<tr>\\n\\t\\t\\t<th>Rank</th>\\n\\t\\t\\t<th>City</th>\\n\\t\\t\\t<th>Population</th>\\n\\t\\t</tr>\\n\\t\\t    <tr>\\n      <td>\\n        1\\n      </td>\\n      <td>\\n          <a href=\"indianapolis-demographics\">Indianapolis</a>\\n      </td>\\n      <td>\\n        874,005\\n\\n      </td>\\n    </tr>\\n    <tr>\\n      <td>\\n        2\\n      </td>\\n      <td>\\n          <a href=\"fort-wayne-demographics\">Fort Wayne</a>\\n      </td>\\n      <td>\\n        265,752\\n\\n      </td>\\n    </tr>\\n    <tr>\\n      <td>\\n        3\\n      </td>\\n      <td>\\n          <a href=\"evansville-demographics\">Evansville</a>\\n      </td>\\n      <td>\\n        118,588\\n\\n      </td>\\n    </tr>\\n    <tr>\\n      <td>\\n        4\\n      </td>\\n      <td>\\n          <a href=\"south-bend-demographics\">South Bend</a>\\n      </td>\\n      <td>\\n        102,037\\n\\n      </td>\\n    </tr>\\n    <tr>\\n      <td>\\n        5\\n      </td>\\n      <td>\\n          <a href=\"carmel-demographics\">Carmel</a>\\n      </td>\\n      <td>\\n        97,464\\n\\n      </td>\\n    </tr>\\n    <tr>\\n      <td>\\n        6\\n      </td>\\n      <td>\\n          <a href=\"fishers-demographics\">Fishers</a>\\n      </td>\\n      <td>\\n        90,332\\n\\n      </td>\\n    </tr>\\n    <tr>\\n      <td>\\n        7\\n      </td>\\n      <td>\\n          <a href=\"bloomington-demographics\">Bloomington</a>\\n      </td>\\n      <td>\\n        84,116\\n\\n      </td>\\n    </tr>\\n    <tr>\\n      <td>\\n        8\\n      </td>\\n      <td>\\n          <a href=\"hammond-demographics\">Hammond</a>\\n      </td>\\n      <td>\\n        76,547\\n\\n      </td>\\n    </tr>\\n    <tr>\\n      <td>\\n        9\\n      </td>\\n      <td>\\n          <a href=\"gary-demographics\">Gary</a>\\n      </td>\\n      <td>\\n        76,010\\n\\n      </td>\\n    </tr>\\n    <tr>\\n      <td>\\n        10\\n      </td>\\n      <td>\\n          <a href=\"lafayette-demographics\">Lafayette</a>\\n      </td>\\n      <td>\\n        72,581\\n\\n      </td>\\n    </tr>\\n    <tr>\\n      <td>\\n        11\\n      </td>\\n      <td>\\n          <a href=\"muncie-demographics\">Muncie</a>\\n      </td>\\n      <td>\\n        68,750\\n\\n      </td>\\n    </tr>\\n    <tr>\\n      <td>\\n        12\\n      </td>\\n      <td>\\n          <a href=\"noblesville-demographics\">Noblesville</a>\\n      </td>\\n      <td>\\n        63,071\\n\\n      </td>\\n    </tr>\\n    <tr>\\n      <td>\\n        13\\n      </td>\\n      <td>\\n          <a href=\"terre-haute-demographics\">Terre Haute</a>\\n      </td>\\n      <td>\\n        60,673\\n\\n      </td>\\n    </tr>\\n    <tr>\\n      <td>\\n        14\\n      </td>\\n      <td>\\n          <a href=\"kokomo-demographics\">Kokomo</a>\\n      </td>\\n      <td>\\n        58,145\\n\\n      </td>\\n    </tr>\\n    <tr>\\n      <td>\\n        15\\n      </td>\\n      <td>\\n          <a href=\"greenwood-demographics\">Greenwood</a>\\n      </td>\\n      <td>\\n        57,764\\n\\n      </td>\\n    </tr>\\n    <tr>\\n      <td>\\n        16\\n      </td>\\n      <td>\\n          <a href=\"anderson-demographics\">Anderson</a>\\n      </td>\\n      <td>\\n        54,513\\n\\n      </td>\\n    </tr>\\n    <tr>\\n      <td>\\n        17\\n      </td>\\n      <td>\\n          <a href=\"elkhart-demographics\">Elkhart</a>\\n      </td>\\n      <td>\\n        52,257\\n\\n      </td>\\n    </tr>\\n    <tr>\\n      <td>\\n        18\\n      </td>\\n      <td>\\n          <a href=\"mishawaka-demographics\">Mishawaka</a>\\n      </td>\\n      <td>\\n        49,245\\n\\n      </td>\\n    </tr>\\n    <tr>\\n      <td>\\n        19\\n      </td>\\n      <td>\\n          <a href=\"lawrence-demographics\">Lawrence</a>\\n      </td>\\n      <td>\\n        48,699\\n\\n      </td>\\n    </tr>\\n    <tr>\\n      <td>\\n        20\\n      </td>\\n      <td>\\n          <a href=\"west-lafayette-demographics\">West Lafayette</a>\\n      </td>\\n      <td>\\n        48,551\\n\\n      </td>\\n    </tr>\\n    <tr>\\n      <td>\\n        21\\n      </td>\\n      <td>\\n          <a href=\"columbus-demographics\">Columbus</a>\\n      </td>\\n      <td>\\n        48,150\\n\\n      </td>\\n    </tr>\\n    <tr>\\n      <td>\\n        22\\n      </td>\\n      <td>\\n          <a href=\"jeffersonville-demographics\">Jeffersonville</a>\\n      </td>\\n      <td>\\n        47,673\\n\\n      </td>\\n    </tr>\\n    <tr>\\n      <td>\\n        23\\n      </td>\\n      <td>\\n          <a href=\"westfield-demographics\">Westfield</a>\\n      </td>\\n      <td>\\n        39,610\\n\\n      </td>\\n    </tr>\\n    <tr>\\n      <td>\\n        24\\n      </td>\\n      <td>\\n          <a href=\"portage-demographics\">Portage</a>\\n      </td>\\n      <td>\\n        36,648\\n\\n      </td>\\n    </tr>\\n    <tr>\\n      <td>\\n        25\\n      </td>\\n      <td>\\n          <a href=\"new-albany-demographics\">New Albany</a>\\n      </td>\\n      <td>\\n        36,647\\n\\n      </td>\\n    </tr>\\n    <tr>\\n      <td>\\n        26\\n      </td>\\n      <td>\\n          <a href=\"richmond-demographics\">Richmond</a>\\n      </td>\\n      <td>\\n        35,539\\n\\n      </td>\\n    </tr>\\n    <tr>\\n      <td>\\n        27\\n      </td>\\n      <td>\\n          <a href=\"merrillville-demographics\">Merrillville</a>\\n      </td>\\n      <td>\\n        34,889\\n\\n      </td>\\n    </tr>\\n    <tr>\\n      <td>\\n        28\\n      </td>\\n      <td>\\n          <a href=\"goshen-demographics\">Goshen</a>\\n      </td>\\n      <td>\\n        34,108\\n\\n      </td>\\n    </tr>\\n    <tr>\\n      <td>\\n        29\\n      </td>\\n      <td>\\n          <a href=\"valparaiso-demographics\">Valparaiso</a>\\n      </td>\\n      <td>\\n        33,355\\n\\n      </td>\\n    </tr>\\n    <tr>\\n      <td>\\n        30\\n      </td>\\n      <td>\\n          <a href=\"plainfield-demographics\">Plainfield</a>\\n      </td>\\n      <td>\\n        32,879\\n\\n      </td>\\n    </tr>\\n    <tr>\\n      <td>\\n        31\\n      </td>\\n      <td>\\n          <a href=\"michigan-city-demographics\">Michigan City</a>\\n      </td>\\n      <td>\\n        31,118\\n\\n      </td>\\n    </tr>\\n    <tr>\\n      <td>\\n        32\\n      </td>\\n      <td>\\n          <a href=\"granger-demographics\">Granger</a>\\n      </td>\\n      <td>\\n        30,776\\n\\n      </td>\\n    </tr>\\n    <tr>\\n      <td>\\n        33\\n      </td>\\n      <td>\\n          <a href=\"crown-point-demographics\">Crown Point</a>\\n      </td>\\n      <td>\\n        29,850\\n\\n      </td>\\n    </tr>\\n    <tr>\\n      <td>\\n        34\\n      </td>\\n      <td>\\n          <a href=\"schererville-demographics\">Schererville</a>\\n      </td>\\n      <td>\\n        28,590\\n\\n      </td>\\n    </tr>\\n    <tr>\\n      <td>\\n        35\\n      </td>\\n      <td>\\n          <a href=\"east-chicago-demographics\">East Chicago</a>\\n      </td>\\n      <td>\\n        28,201\\n\\n      </td>\\n    </tr>\\n    <tr>\\n      <td>\\n        36\\n      </td>\\n      <td>\\n          <a href=\"hobart-demographics\">Hobart</a>\\n      </td>\\n      <td>\\n        28,049\\n\\n      </td>\\n    </tr>\\n    <tr>\\n      <td>\\n        37\\n      </td>\\n      <td>\\n          <a href=\"marion-demographics\">Marion</a>\\n      </td>\\n      <td>\\n        27,956\\n\\n      </td>\\n    </tr>\\n    <tr>\\n      <td>\\n        38\\n      </td>\\n      <td>\\n          <a href=\"zionsville-demographics\">Zionsville</a>\\n      </td>\\n      <td>\\n        27,463\\n\\n      </td>\\n    </tr>\\n    <tr>\\n      <td>\\n        39\\n      </td>\\n      <td>\\n          <a href=\"brownsburg-demographics\">Brownsburg</a>\\n      </td>\\n      <td>\\n        26,046\\n\\n      </td>\\n    </tr>\\n    <tr>\\n      <td>\\n        40\\n      </td>\\n      <td>\\n          <a href=\"franklin-demographics\">Franklin</a>\\n      </td>\\n      <td>\\n        25,106\\n\\n      </td>\\n    </tr>\\n    <tr>\\n      <td>\\n        41\\n      </td>\\n      <td>\\n          <a href=\"munster-demographics\">Munster</a>\\n      </td>\\n      <td>\\n        22,689\\n\\n      </td>\\n    </tr>\\n    <tr>\\n      <td>\\n        42\\n      </td>\\n      <td>\\n          <a href=\"highland-demographics\">Highland</a>\\n      </td>\\n      <td>\\n        22,581\\n\\n      </td>\\n    </tr>\\n    <tr>\\n      <td>\\n        43\\n      </td>\\n      <td>\\n          <a href=\"greenfield-demographics\">Greenfield</a>\\n      </td>\\n      <td>\\n        22,160\\n\\n      </td>\\n    </tr>\\n    <tr>\\n      <td>\\n        44\\n      </td>\\n      <td>\\n          <a href=\"la-porte-demographics\">La Porte</a>\\n      </td>\\n      <td>\\n        21,577\\n\\n      </td>\\n    </tr>\\n    <tr>\\n      <td>\\n        45\\n      </td>\\n      <td>\\n          <a href=\"clarksville-demographics\">Clarksville</a>\\n      </td>\\n      <td>\\n        21,548\\n\\n      </td>\\n    </tr>\\n    <tr>\\n      <td>\\n        46\\n      </td>\\n      <td>\\n          <a href=\"seymour-demographics\">Seymour</a>\\n      </td>\\n      <td>\\n        19,623\\n\\n      </td>\\n    </tr>\\n    <tr>\\n      <td>\\n        47\\n      </td>\\n      <td>\\n          <a href=\"shelbyville-demographics\">Shelbyville</a>\\n      </td>\\n      <td>\\n        18,951\\n\\n      </td>\\n    </tr>\\n    <tr>\\n      <td>\\n        48\\n      </td>\\n      <td>\\n          <a href=\"logansport-demographics\">Logansport</a>\\n      </td>\\n      <td>\\n        17,966\\n\\n      </td>\\n    </tr>\\n    <tr>\\n      <td>\\n        49\\n      </td>\\n      <td>\\n          <a href=\"avon-demographics\">Avon</a>\\n      </td>\\n      <td>\\n        17,453\\n\\n      </td>\\n    </tr>\\n    <tr>\\n      <td>\\n        50\\n      </td>\\n      <td>\\n          <a href=\"st-john-demographics\">St. John</a>\\n      </td>\\n      <td>\\n        17,426\\n\\n      </td>\\n    </tr>\\n    <tr>\\n      <td>\\n        51\\n      </td>\\n      <td>\\n          <a href=\"vincennes-demographics\">Vincennes</a>\\n      </td>\\n      <td>\\n        17,304\\n\\n      </td>\\n    </tr>\\n    <tr>\\n      <td>\\n        52\\n      </td>\\n      <td>\\n          <a href=\"new-castle-demographics\">New Castle</a>\\n      </td>\\n      <td>\\n        17,287\\n\\n      </td>\\n    </tr>\\n    <tr>\\n      <td>\\n        53\\n      </td>\\n      <td>\\n          <a href=\"huntington-demographics\">Huntington</a>\\n      </td>\\n      <td>\\n        17,067\\n\\n      </td>\\n    </tr>\\n    <tr>\\n      <td>\\n        54\\n      </td>\\n      <td>\\n          <a href=\"new-haven-demographics\">New Haven</a>\\n      </td>\\n      <td>\\n        16,279\\n\\n      </td>\\n    </tr>\\n    <tr>\\n      <td>\\n        55\\n      </td>\\n      <td>\\n          <a href=\"griffith-demographics\">Griffith</a>\\n      </td>\\n      <td>\\n        16,228\\n\\n      </td>\\n    </tr>\\n    <tr>\\n      <td>\\n        56\\n      </td>\\n      <td>\\n          <a href=\"crawfordsville-demographics\">Crawfordsville</a>\\n      </td>\\n      <td>\\n        16,090\\n\\n      </td>\\n    </tr>\\n    <tr>\\n      <td>\\n        57\\n      </td>\\n      <td>\\n          <a href=\"dyer-demographics\">Dyer</a>\\n      </td>\\n      <td>\\n        15,953\\n\\n      </td>\\n    </tr>\\n    <tr>\\n      <td>\\n        58\\n      </td>\\n      <td>\\n          <a href=\"lebanon-demographics\">Lebanon</a>\\n      </td>\\n      <td>\\n        15,932\\n\\n      </td>\\n    </tr>\\n    <tr>\\n      <td>\\n        59\\n      </td>\\n      <td>\\n          <a href=\"jasper-demographics\">Jasper</a>\\n      </td>\\n      <td>\\n        15,827\\n\\n      </td>\\n    </tr>\\n    <tr>\\n      <td>\\n        60\\n      </td>\\n      <td>\\n          <a href=\"frankfort-demographics\">Frankfort</a>\\n      </td>\\n      <td>\\n        15,634\\n\\n      </td>\\n    </tr>\\n    <tr>\\n      <td>\\n        61\\n      </td>\\n      <td>\\n          <a href=\"warsaw-demographics\">Warsaw</a>\\n      </td>\\n      <td>\\n        15,458\\n\\n      </td>\\n    </tr>\\n    <tr>\\n      <td>\\n        62\\n      </td>\\n      <td>\\n          <a href=\"beech-grove-demographics\">Beech Grove</a>\\n      </td>\\n      <td>\\n        14,990\\n\\n      </td>\\n    </tr>\\n    <tr>\\n      <td>\\n        63\\n      </td>\\n      <td>\\n          <a href=\"chesterton-demographics\">Chesterton</a>\\n      </td>\\n      <td>\\n        14,119\\n\\n      </td>\\n    </tr>\\n    <tr>\\n      <td>\\n        64\\n      </td>\\n      <td>\\n          <a href=\"bedford-demographics\">Bedford</a>\\n      </td>\\n      <td>\\n        13,272\\n\\n      </td>\\n    </tr>\\n    <tr>\\n      <td>\\n        65\\n      </td>\\n      <td>\\n          <a href=\"connersville-demographics\">Connersville</a>\\n      </td>\\n      <td>\\n        13,165\\n\\n      </td>\\n    </tr>\\n    <tr>\\n      <td>\\n        66\\n      </td>\\n      <td>\\n          <a href=\"auburn-demographics\">Auburn</a>\\n      </td>\\n      <td>\\n        13,056\\n\\n      </td>\\n    </tr>\\n    <tr>\\n      <td>\\n        67\\n      </td>\\n      <td>\\n          <a href=\"cedar-lake-demographics\">Cedar Lake</a>\\n      </td>\\n      <td>\\n        12,491\\n\\n      </td>\\n    </tr>\\n    <tr>\\n      <td>\\n        68\\n      </td>\\n      <td>\\n          <a href=\"washington-demographics\">Washington</a>\\n      </td>\\n      <td>\\n        12,412\\n\\n      </td>\\n    </tr>\\n    <tr>\\n      <td>\\n        69\\n      </td>\\n      <td>\\n          <a href=\"speedway-demographics\">Speedway</a>\\n      </td>\\n      <td>\\n        12,266\\n\\n      </td>\\n    </tr>\\n    <tr>\\n      <td>\\n        70\\n      </td>\\n      <td>\\n          <a href=\"lake-station-demographics\">Lake Station</a>\\n      </td>\\n      <td>\\n        12,002\\n\\n      </td>\\n    </tr>\\n    <tr>\\n      <td>\\n        71\\n      </td>\\n      <td>\\n          <a href=\"madison-demographics\">Madison</a>\\n      </td>\\n      <td>\\n        11,813\\n\\n      </td>\\n    </tr>\\n    <tr>\\n      <td>\\n        72\\n      </td>\\n      <td>\\n          <a href=\"martinsville-demographics\">Martinsville</a>\\n      </td>\\n      <td>\\n        11,635\\n\\n      </td>\\n    </tr>\\n    <tr>\\n      <td>\\n        73\\n      </td>\\n      <td>\\n          <a href=\"peru-demographics\">Peru</a>\\n      </td>\\n      <td>\\n        11,584\\n\\n      </td>\\n    </tr>\\n    <tr>\\n      <td>\\n        74\\n      </td>\\n      <td>\\n          <a href=\"greensburg-demographics\">Greensburg</a>\\n      </td>\\n      <td>\\n        11,228\\n\\n      </td>\\n    </tr>\\n    <tr>\\n      <td>\\n        75\\n      </td>\\n      <td>\\n          <a href=\"yorktown-demographics\">Yorktown</a>\\n      </td>\\n      <td>\\n        11,143\\n\\n      </td>\\n    </tr>\\n    <tr>\\n      <td>\\n        76\\n      </td>\\n      <td>\\n          <a href=\"greencastle-demographics\">Greencastle</a>\\n      </td>\\n      <td>\\n        10,296\\n\\n      </td>\\n    </tr>\\n    <tr>\\n      <td>\\n        77\\n      </td>\\n      <td>\\n          <a href=\"wabash-demographics\">Wabash</a>\\n      </td>\\n      <td>\\n        10,089\\n\\n      </td>\\n    </tr>\\n    <tr>\\n      <td>\\n        78\\n      </td>\\n      <td>\\n          <a href=\"plymouth-demographics\">Plymouth</a>\\n      </td>\\n      <td>\\n        10,054\\n\\n      </td>\\n    </tr>\\n    <tr>\\n      <td>\\n        79\\n      </td>\\n      <td>\\n          <a href=\"danville-demographics\">Danville</a>\\n      </td>\\n      <td>\\n        9,923\\n\\n      </td>\\n    </tr>\\n    <tr>\\n      <td>\\n        80\\n      </td>\\n      <td>\\n          <a href=\"bluffton-demographics\">Bluffton</a>\\n      </td>\\n      <td>\\n        9,919\\n\\n      </td>\\n    </tr>\\n    <tr>\\n      <td>\\n        81\\n      </td>\\n      <td>\\n          <a href=\"decatur-demographics\">Decatur</a>\\n      </td>\\n      <td>\\n        9,863\\n\\n      </td>\\n    </tr>\\n    <tr>\\n      <td>\\n        82\\n      </td>\\n      <td>\\n          <a href=\"mooresville-demographics\">Mooresville</a>\\n      </td>\\n      <td>\\n        9,661\\n\\n      </td>\\n    </tr>\\n    <tr>\\n      <td>\\n        83\\n      </td>\\n      <td>\\n          <a href=\"lowell-demographics\">Lowell</a>\\n      </td>\\n      <td>\\n        9,659\\n\\n      </td>\\n    </tr>\\n    <tr>\\n      <td>\\n        84\\n      </td>\\n      <td>\\n          <a href=\"kendallville-demographics\">Kendallville</a>\\n      </td>\\n      <td>\\n        9,347\\n\\n      </td>\\n    </tr>\\n    <tr>\\n      <td>\\n        85\\n      </td>\\n      <td>\\n          <a href=\"columbia-city-demographics\">Columbia City</a>\\n      </td>\\n      <td>\\n        9,116\\n\\n      </td>\\n    </tr>\\n    <tr>\\n      <td>\\n        86\\n      </td>\\n      <td>\\n          <a href=\"sellersburg-demographics\">Sellersburg</a>\\n      </td>\\n      <td>\\n        9,066\\n\\n      </td>\\n    </tr>\\n    <tr>\\n      <td>\\n        87\\n      </td>\\n      <td>\\n          <a href=\"princeton-demographics\">Princeton</a>\\n      </td>\\n      <td>\\n        8,684\\n\\n      </td>\\n    </tr>\\n    <tr>\\n      <td>\\n        88\\n      </td>\\n      <td>\\n          <a href=\"angola-demographics\">Angola</a>\\n      </td>\\n      <td>\\n        8,660\\n\\n      </td>\\n    </tr>\\n    <tr>\\n      <td>\\n        89\\n      </td>\\n      <td>\\n          <a href=\"elwood-demographics\">Elwood</a>\\n      </td>\\n      <td>\\n        8,441\\n\\n      </td>\\n    </tr>\\n    <tr>\\n      <td>\\n        90\\n      </td>\\n      <td>\\n          <a href=\"brazil-demographics\">Brazil</a>\\n      </td>\\n      <td>\\n        8,380\\n\\n      </td>\\n    </tr>\\n    <tr>\\n      <td>\\n        91\\n      </td>\\n      <td>\\n          <a href=\"whitestown-demographics\">Whitestown</a>\\n      </td>\\n      <td>\\n        8,312\\n\\n      </td>\\n    </tr>\\n    <tr>\\n      <td>\\n        92\\n      </td>\\n      <td>\\n          <a href=\"charlestown-demographics\">Charlestown</a>\\n      </td>\\n      <td>\\n        8,199\\n\\n      </td>\\n    </tr>\\n    <tr>\\n      <td>\\n        93\\n      </td>\\n      <td>\\n          <a href=\"tell-city-demographics\">Tell City</a>\\n      </td>\\n      <td>\\n        7,256\\n\\n      </td>\\n    </tr>\\n    <tr>\\n      <td>\\n        94\\n      </td>\\n      <td>\\n          <a href=\"bargersville-demographics\">Bargersville</a>\\n      </td>\\n      <td>\\n        7,085\\n\\n      </td>\\n    </tr>\\n    <tr>\\n      <td>\\n        95\\n      </td>\\n      <td>\\n          <a href=\"nappanee-demographics\">Nappanee</a>\\n      </td>\\n      <td>\\n        7,033\\n\\n      </td>\\n    </tr>\\n    <tr>\\n      <td>\\n        96\\n      </td>\\n      <td>\\n          <a href=\"mccordsville-demographics\">McCordsville</a>\\n      </td>\\n      <td>\\n        6,857\\n\\n      </td>\\n    </tr>\\n    <tr>\\n      <td>\\n        97\\n      </td>\\n      <td>\\n          <a href=\"lakes-of-the-four-seasons-demographics\">Lakes of the Four Seasons</a>\\n      </td>\\n      <td>\\n        6,809\\n\\n      </td>\\n    </tr>\\n    <tr>\\n      <td>\\n        98\\n      </td>\\n      <td>\\n          <a href=\"huntertown-demographics\">Huntertown</a>\\n      </td>\\n      <td>\\n        6,789\\n\\n      </td>\\n    </tr>\\n    <tr>\\n      <td>\\n        99\\n      </td>\\n      <td>\\n          <a href=\"north-vernon-demographics\">North Vernon</a>\\n      </td>\\n      <td>\\n        6,735\\n\\n      </td>\\n    </tr>\\n    <tr>\\n      <td>\\n        100\\n      </td>\\n      <td>\\n          <a href=\"scottsburg-demographics\">Scottsburg</a>\\n      </td>\\n      <td>\\n        6,702\\n\\n      </td>\\n    </tr>\\n    <tr>\\n      <td>\\n        101\\n      </td>\\n      <td>\\n          Dunlap\\n      </td>\\n      <td>\\n        6,667\\n\\n      </td>\\n    </tr>\\n    <tr>\\n      <td>\\n        102\\n          <span class=\\'badge badge-tie\\'>\\n            TIE\\n          </span>\\n      </td>\\n      <td>\\n          Garrett and Batesville\\n      </td>\\n      <td>\\n        6,651\\n\\n      </td>\\n    </tr>\\n    <tr>\\n      <td>\\n        103\\n      </td>\\n      <td>\\n          Notre Dame\\n      </td>\\n      <td>\\n        6,646\\n\\n      </td>\\n    </tr>\\n    <tr>\\n      <td>\\n        104\\n      </td>\\n      <td>\\n          Ellettsville\\n      </td>\\n      <td>\\n        6,642\\n\\n      </td>\\n    </tr>\\n    <tr>\\n      <td>\\n        105\\n      </td>\\n      <td>\\n          Mount Vernon\\n      </td>\\n      <td>\\n        6,584\\n\\n      </td>\\n    </tr>\\n    <tr>\\n      <td>\\n        106\\n      </td>\\n      <td>\\n          Huntingburg\\n      </td>\\n      <td>\\n        6,522\\n\\n      </td>\\n    </tr>\\n    <tr>\\n      <td>\\n        107\\n      </td>\\n      <td>\\n          Rensselaer\\n      </td>\\n      <td>\\n        6,324\\n\\n      </td>\\n    </tr>\\n    <tr>\\n      <td>\\n        108\\n      </td>\\n      <td>\\n          Boonville\\n      </td>\\n      <td>\\n        6,292\\n\\n      </td>\\n    </tr>\\n    <tr>\\n      <td>\\n        109\\n      </td>\\n      <td>\\n          Salem\\n      </td>\\n      <td>\\n        6,172\\n\\n      </td>\\n    </tr>\\n    <tr>\\n      <td>\\n        110\\n      </td>\\n      <td>\\n          New Whiteland\\n      </td>\\n      <td>\\n        6,051\\n\\n      </td>\\n    </tr>\\n    <tr>\\n      <td>\\n        111\\n      </td>\\n      <td>\\n          Rushville\\n      </td>\\n      <td>\\n        6,050\\n\\n      </td>\\n    </tr>\\n    <tr>\\n      <td>\\n        112\\n      </td>\\n      <td>\\n          Rochester\\n      </td>\\n      <td>\\n        6,045\\n\\n      </td>\\n    </tr>\\n    <tr>\\n      <td>\\n        113\\n      </td>\\n      <td>\\n          Portland\\n      </td>\\n      <td>\\n        5,886\\n\\n      </td>\\n    </tr>\\n    <tr>\\n      <td>\\n        114\\n      </td>\\n      <td>\\n          Westville\\n      </td>\\n      <td>\\n        5,848\\n\\n      </td>\\n    </tr>\\n    <tr>\\n      <td>\\n        115\\n      </td>\\n      <td>\\n          Hartford City\\n      </td>\\n      <td>\\n        5,831\\n\\n      </td>\\n    </tr>\\n    <tr>\\n      <td>\\n        116\\n      </td>\\n      <td>\\n          Bright\\n      </td>\\n      <td>\\n        5,816\\n\\n      </td>\\n    </tr>\\n    <tr>\\n      <td>\\n        117\\n      </td>\\n      <td>\\n          Gas City\\n      </td>\\n      <td>\\n        5,802\\n\\n      </td>\\n    </tr>\\n    <tr>\\n      <td>\\n        118\\n      </td>\\n      <td>\\n          Cumberland\\n      </td>\\n      <td>\\n        5,718\\n\\n      </td>\\n    </tr>\\n    <tr>\\n      <td>\\n        119\\n      </td>\\n      <td>\\n          North Manchester\\n      </td>\\n      <td>\\n        5,710\\n\\n      </td>\\n    </tr>\\n    <tr>\\n      <td>\\n        120\\n      </td>\\n      <td>\\n          Winfield\\n      </td>\\n      <td>\\n        5,705\\n\\n      </td>\\n    </tr>\\n    <tr>\\n      <td>\\n        121\\n      </td>\\n      <td>\\n          Hidden Valley\\n      </td>\\n      <td>\\n        5,531\\n\\n      </td>\\n    </tr>\\n    <tr>\\n      <td>\\n        122\\n      </td>\\n      <td>\\n          Simonton Lake\\n      </td>\\n      <td>\\n        5,362\\n\\n      </td>\\n    </tr>\\n    <tr>\\n      <td>\\n        123\\n      </td>\\n      <td>\\n          Monticello\\n      </td>\\n      <td>\\n        5,262\\n\\n      </td>\\n    </tr>\\n    <tr>\\n      <td>\\n        124\\n      </td>\\n      <td>\\n          Linton\\n      </td>\\n      <td>\\n        5,244\\n\\n      </td>\\n    </tr>\\n    <tr>\\n      <td>\\n        125\\n      </td>\\n      <td>\\n          South Haven\\n      </td>\\n      <td>\\n        5,092\\n\\n      </td>\\n    </tr>\\n    <tr>\\n      <td>\\n        126\\n      </td>\\n      <td>\\n          Alexandria\\n      </td>\\n      <td>\\n        4,988\\n\\n      </td>\\n    </tr>\\n    <tr>\\n      <td>\\n        127\\n      </td>\\n      <td>\\n          Lawrenceburg\\n      </td>\\n      <td>\\n        4,981\\n\\n      </td>\\n    </tr>\\n    <tr>\\n      <td>\\n        128\\n      </td>\\n      <td>\\n          Tipton\\n      </td>\\n      <td>\\n        4,969\\n\\n      </td>\\n    </tr>\\n    <tr>\\n      <td>\\n        129\\n      </td>\\n      <td>\\n          Winona Lake\\n      </td>\\n      <td>\\n        4,910\\n\\n      </td>\\n    </tr>\\n    <tr>\\n      <td>\\n        130\\n      </td>\\n      <td>\\n          Cicero\\n      </td>\\n      <td>\\n        4,891\\n\\n      </td>\\n    </tr>\\n    <tr>\\n      <td>\\n        131\\n      </td>\\n      <td>\\n          Porter\\n      </td>\\n      <td>\\n        4,817\\n\\n      </td>\\n    </tr>\\n    <tr>\\n      <td>\\n        132\\n      </td>\\n      <td>\\n          Whiting\\n      </td>\\n      <td>\\n        4,814\\n\\n      </td>\\n    </tr>\\n    <tr>\\n      <td>\\n        133\\n      </td>\\n      <td>\\n          Edinburgh\\n      </td>\\n      <td>\\n        4,792\\n\\n      </td>\\n    </tr>\\n    <tr>\\n      <td>\\n        134\\n      </td>\\n      <td>\\n          Winchester\\n      </td>\\n      <td>\\n        4,739\\n\\n      </td>\\n    </tr>\\n    <tr>\\n      <td>\\n        135\\n      </td>\\n      <td>\\n          Clinton\\n      </td>\\n      <td>\\n        4,706\\n\\n      </td>\\n    </tr>\\n    <tr>\\n      <td>\\n        136\\n      </td>\\n      <td>\\n          Ligonier\\n      </td>\\n      <td>\\n        4,654\\n\\n      </td>\\n    </tr>\\n    <tr>\\n      <td>\\n        137\\n      </td>\\n      <td>\\n          Highland CDP\\n      </td>\\n      <td>\\n        4,609\\n\\n      </td>\\n    </tr>\\n    <tr>\\n      <td>\\n        138\\n      </td>\\n      <td>\\n          Fortville\\n      </td>\\n      <td>\\n        4,574\\n\\n      </td>\\n    </tr>\\n    <tr>\\n      <td>\\n        139\\n      </td>\\n      <td>\\n          Bremen\\n      </td>\\n      <td>\\n        4,505\\n\\n      </td>\\n    </tr>\\n    <tr>\\n      <td>\\n        140\\n      </td>\\n      <td>\\n          Whiteland\\n      </td>\\n      <td>\\n        4,423\\n\\n      </td>\\n    </tr>\\n    <tr>\\n      <td>\\n        141\\n      </td>\\n      <td>\\n          North Terre Haute\\n      </td>\\n      <td>\\n        4,339\\n\\n      </td>\\n    </tr>\\n    <tr>\\n      <td>\\n        142\\n      </td>\\n      <td>\\n          Greendale\\n      </td>\\n      <td>\\n        4,279\\n\\n      </td>\\n    </tr>\\n    <tr>\\n      <td>\\n        143\\n      </td>\\n      <td>\\n          Mitchell\\n      </td>\\n      <td>\\n        4,261\\n\\n      </td>\\n    </tr>\\n    <tr>\\n      <td>\\n        144\\n      </td>\\n      <td>\\n          Pendleton\\n      </td>\\n      <td>\\n        4,246\\n\\n      </td>\\n    </tr>\\n    <tr>\\n      <td>\\n        145\\n      </td>\\n      <td>\\n          Berne\\n      </td>\\n      <td>\\n        4,235\\n\\n      </td>\\n    </tr>\\n    <tr>\\n      <td>\\n        146\\n      </td>\\n      <td>\\n          Sullivan\\n      </td>\\n      <td>\\n        4,082\\n\\n      </td>\\n    </tr>\\n    <tr>\\n      <td>\\n        147\\n      </td>\\n      <td>\\n          De Motte\\n      </td>\\n      <td>\\n        4,054\\n\\n      </td>\\n    </tr>\\n    <tr>\\n      <td>\\n        148\\n      </td>\\n      <td>\\n          Aurora\\n      </td>\\n      <td>\\n        3,995\\n\\n      </td>\\n    </tr>\\n    <tr>\\n      <td>\\n        149\\n      </td>\\n      <td>\\n          Roselawn\\n      </td>\\n      <td>\\n        3,954\\n\\n      </td>\\n    </tr>\\n    <tr>\\n      <td>\\n        150\\n      </td>\\n      <td>\\n          Leo-Cedarville\\n      </td>\\n      <td>\\n        3,788\\n\\n      </td>\\n    </tr>\\n    <tr>\\n      <td>\\n        151\\n      </td>\\n      <td>\\n          Melody Hill\\n      </td>\\n      <td>\\n        3,761\\n\\n      </td>\\n    </tr>\\n    <tr>\\n      <td>\\n        152\\n      </td>\\n      <td>\\n          Upland\\n      </td>\\n      <td>\\n        3,733\\n\\n      </td>\\n    </tr>\\n    <tr>\\n      <td>\\n        153\\n      </td>\\n      <td>\\n          Austin\\n      </td>\\n      <td>\\n        3,725\\n\\n      </td>\\n    </tr>\\n    <tr>\\n      <td>\\n        154\\n      </td>\\n      <td>\\n          Hebron\\n      </td>\\n      <td>\\n        3,692\\n\\n      </td>\\n    </tr>\\n    <tr>\\n      <td>\\n        155\\n      </td>\\n      <td>\\n          Paoli\\n      </td>\\n      <td>\\n        3,665\\n\\n      </td>\\n    </tr>\\n    <tr>\\n      <td>\\n        156\\n      </td>\\n      <td>\\n          Middlebury\\n      </td>\\n      <td>\\n        3,575\\n\\n      </td>\\n    </tr>\\n    <tr>\\n      <td>\\n        157\\n      </td>\\n      <td>\\n          Knox\\n      </td>\\n      <td>\\n        3,557\\n\\n      </td>\\n    </tr>\\n    <tr>\\n      <td>\\n        158\\n      </td>\\n      <td>\\n          Hanover\\n      </td>\\n      <td>\\n        3,427\\n\\n      </td>\\n    </tr>\\n    <tr>\\n      <td>\\n        159\\n      </td>\\n      <td>\\n          Smithville-Sanders\\n      </td>\\n      <td>\\n        3,424\\n\\n      </td>\\n    </tr>\\n    <tr>\\n      <td>\\n        160\\n      </td>\\n      <td>\\n          Pittsboro\\n      </td>\\n      <td>\\n        3,396\\n\\n      </td>\\n    </tr>\\n    <tr>\\n      <td>\\n        161\\n      </td>\\n      <td>\\n          Chandler\\n      </td>\\n      <td>\\n        3,384\\n\\n      </td>\\n    </tr>\\n    <tr>\\n      <td>\\n        162\\n      </td>\\n      <td>\\n          Ossian\\n      </td>\\n      <td>\\n        3,350\\n\\n      </td>\\n    </tr>\\n    <tr>\\n      <td>\\n        163\\n      </td>\\n      <td>\\n          Union City\\n      </td>\\n      <td>\\n        3,291\\n\\n      </td>\\n    </tr>\\n    <tr>\\n      <td>\\n        164\\n      </td>\\n      <td>\\n          Georgetown\\n      </td>\\n      <td>\\n        3,268\\n\\n      </td>\\n    </tr>\\n    <tr>\\n      <td>\\n        165\\n      </td>\\n      <td>\\n          Newburgh\\n      </td>\\n      <td>\\n        3,245\\n\\n      </td>\\n    </tr>\\n    <tr>\\n      <td>\\n        166\\n      </td>\\n      <td>\\n          Attica\\n      </td>\\n      <td>\\n        3,174\\n\\n      </td>\\n    </tr>\\n    <tr>\\n      <td>\\n        167\\n      </td>\\n      <td>\\n          Corydon\\n      </td>\\n      <td>\\n        3,162\\n\\n      </td>\\n    </tr>\\n    <tr>\\n      <td>\\n        168\\n      </td>\\n      <td>\\n          Fort Branch\\n      </td>\\n      <td>\\n        3,040\\n\\n      </td>\\n    </tr>\\n    <tr>\\n      <td>\\n        169\\n      </td>\\n      <td>\\n          Bicknell\\n      </td>\\n      <td>\\n        2,978\\n\\n      </td>\\n    </tr>\\n    <tr>\\n      <td>\\n        170\\n      </td>\\n      <td>\\n          Sheridan\\n      </td>\\n      <td>\\n        2,959\\n\\n      </td>\\n    </tr>\\n    <tr>\\n      <td>\\n        171\\n      </td>\\n      <td>\\n          Delphi\\n      </td>\\n      <td>\\n        2,935\\n\\n      </td>\\n    </tr>\\n    <tr>\\n      <td>\\n        172\\n      </td>\\n      <td>\\n          Brownstown\\n      </td>\\n      <td>\\n        2,923\\n\\n      </td>\\n    </tr>\\n    <tr>\\n      <td>\\n        173\\n      </td>\\n      <td>\\n          Syracuse\\n      </td>\\n      <td>\\n        2,881\\n\\n      </td>\\n    </tr>\\n    <tr>\\n      <td>\\n        174\\n      </td>\\n      <td>\\n          Shorewood Forest\\n      </td>\\n      <td>\\n        2,825\\n\\n      </td>\\n    </tr>\\n    <tr>\\n      <td>\\n        175\\n      </td>\\n      <td>\\n          Country Squire Lakes\\n      </td>\\n      <td>\\n        2,813\\n\\n      </td>\\n    </tr>\\n    <tr>\\n      <td>\\n        176\\n      </td>\\n      <td>\\n          Lagrange\\n      </td>\\n      <td>\\n        2,789\\n\\n      </td>\\n    </tr>\\n    <tr>\\n      <td>\\n        177\\n      </td>\\n      <td>\\n          Heritage Lake\\n      </td>\\n      <td>\\n        2,782\\n\\n      </td>\\n    </tr>\\n    <tr>\\n      <td>\\n        178\\n      </td>\\n      <td>\\n          Fairmount\\n      </td>\\n      <td>\\n        2,773\\n\\n      </td>\\n    </tr>\\n    <tr>\\n      <td>\\n        179\\n      </td>\\n      <td>\\n          Butler\\n      </td>\\n      <td>\\n        2,715\\n\\n      </td>\\n    </tr>\\n    <tr>\\n      <td>\\n        180\\n      </td>\\n      <td>\\n          Osceola\\n      </td>\\n      <td>\\n        2,707\\n\\n      </td>\\n    </tr>\\n    <tr>\\n      <td>\\n        181\\n      </td>\\n      <td>\\n          Santa Claus\\n      </td>\\n      <td>\\n        2,670\\n\\n      </td>\\n    </tr>\\n    <tr>\\n      <td>\\n        182\\n      </td>\\n      <td>\\n          Winamac\\n      </td>\\n      <td>\\n        2,636\\n\\n      </td>\\n    </tr>\\n    <tr>\\n      <td>\\n        183\\n      </td>\\n      <td>\\n          Centerville\\n      </td>\\n      <td>\\n        2,579\\n\\n      </td>\\n    </tr>\\n    <tr>\\n      <td>\\n        184\\n      </td>\\n      <td>\\n          Oakland City\\n      </td>\\n      <td>\\n        2,576\\n\\n      </td>\\n    </tr>\\n    <tr>\\n      <td>\\n        185\\n      </td>\\n      <td>\\n          Loogootee\\n      </td>\\n      <td>\\n        2,575\\n\\n      </td>\\n    </tr>\\n    <tr>\\n      <td>\\n        186\\n      </td>\\n      <td>\\n          Middletown\\n      </td>\\n      <td>\\n        2,568\\n\\n      </td>\\n    </tr>\\n    <tr>\\n      <td>\\n        187\\n      </td>\\n      <td>\\n          Brookville\\n      </td>\\n      <td>\\n        2,539\\n\\n      </td>\\n    </tr>\\n    <tr>\\n      <td>\\n        188\\n      </td>\\n      <td>\\n          Avilla\\n      </td>\\n      <td>\\n        2,538\\n\\n      </td>\\n    </tr>\\n    <tr>\\n      <td>\\n        189\\n      </td>\\n      <td>\\n          Rockville\\n      </td>\\n      <td>\\n        2,533\\n\\n      </td>\\n    </tr>\\n    <tr>\\n      <td>\\n        190\\n      </td>\\n      <td>\\n          Albion\\n      </td>\\n      <td>\\n        2,477\\n\\n      </td>\\n    </tr>\\n    <tr>\\n      <td>\\n        191\\n      </td>\\n      <td>\\n          Hope\\n      </td>\\n      <td>\\n        2,474\\n\\n      </td>\\n    </tr>\\n    <tr>\\n      <td>\\n        192\\n      </td>\\n      <td>\\n          Chesterfield\\n      </td>\\n      <td>\\n        2,472\\n\\n      </td>\\n    </tr>\\n    <tr>\\n      <td>\\n        193\\n      </td>\\n      <td>\\n          Bloomfield\\n      </td>\\n      <td>\\n        2,463\\n\\n      </td>\\n    </tr>\\n    <tr>\\n      <td>\\n        194\\n      </td>\\n      <td>\\n          Grissom AFB\\n      </td>\\n      <td>\\n        2,453\\n\\n      </td>\\n    </tr>\\n    <tr>\\n      <td>\\n        195\\n      </td>\\n      <td>\\n          Covington\\n      </td>\\n      <td>\\n        2,439\\n\\n      </td>\\n    </tr>\\n    <tr>\\n      <td>\\n        196\\n      </td>\\n      <td>\\n          Rockport\\n      </td>\\n      <td>\\n        2,418\\n\\n      </td>\\n    </tr>\\n    <tr>\\n      <td>\\n        197\\n      </td>\\n      <td>\\n          Petersburg\\n      </td>\\n      <td>\\n        2,408\\n\\n      </td>\\n    </tr>\\n    <tr>\\n      <td>\\n        198\\n      </td>\\n      <td>\\n          New Palestine\\n      </td>\\n      <td>\\n        2,365\\n\\n      </td>\\n    </tr>\\n    <tr>\\n      <td>\\n        199\\n      </td>\\n      <td>\\n          Lapel\\n      </td>\\n      <td>\\n        2,358\\n\\n      </td>\\n    </tr>\\n    <tr>\\n      <td>\\n        200\\n      </td>\\n      <td>\\n          Spencer\\n      </td>\\n      <td>\\n        2,335\\n\\n      </td>\\n    </tr>\\n    <tr>\\n      <td>\\n        201\\n      </td>\\n      <td>\\n          Fowler\\n      </td>\\n      <td>\\n        2,256\\n\\n      </td>\\n    </tr>\\n    <tr>\\n      <td>\\n        202\\n      </td>\\n      <td>\\n          Fremont\\n      </td>\\n      <td>\\n        2,240\\n\\n      </td>\\n    </tr>\\n    <tr>\\n      <td>\\n        203\\n      </td>\\n      <td>\\n          Knightstown\\n      </td>\\n      <td>\\n        2,223\\n\\n      </td>\\n    </tr>\\n    <tr>\\n      <td>\\n        204\\n      </td>\\n      <td>\\n          Waterloo\\n      </td>\\n      <td>\\n        2,221\\n\\n      </td>\\n    </tr>\\n    <tr>\\n      <td>\\n        205\\n      </td>\\n      <td>\\n          Ingalls\\n      </td>\\n      <td>\\n        2,203\\n\\n      </td>\\n    </tr>\\n    <tr>\\n      <td>\\n        206\\n      </td>\\n      <td>\\n          Greentown\\n      </td>\\n      <td>\\n        2,187\\n\\n      </td>\\n    </tr>\\n    <tr>\\n      <td>\\n        207\\n      </td>\\n      <td>\\n          West Terre Haute\\n      </td>\\n      <td>\\n        2,185\\n\\n      </td>\\n    </tr>\\n    <tr>\\n      <td>\\n        208\\n      </td>\\n      <td>\\n          Walkerton\\n      </td>\\n      <td>\\n        2,174\\n\\n      </td>\\n    </tr>\\n    <tr>\\n      <td>\\n        209\\n      </td>\\n      <td>\\n          Salt Creek Commons\\n      </td>\\n      <td>\\n        2,126\\n\\n      </td>\\n    </tr>\\n    <tr>\\n      <td>\\n        210\\n      </td>\\n      <td>\\n          Edgewood\\n      </td>\\n      <td>\\n        2,107\\n\\n      </td>\\n    </tr>\\n    <tr>\\n      <td>\\n        211\\n      </td>\\n      <td>\\n          Rising Sun\\n      </td>\\n      <td>\\n        2,099\\n\\n      </td>\\n    </tr>\\n    <tr>\\n      <td>\\n        212\\n      </td>\\n      <td>\\n          Albany\\n      </td>\\n      <td>\\n        2,094\\n\\n      </td>\\n    </tr>\\n    <tr>\\n      <td>\\n        213\\n      </td>\\n      <td>\\n          Veedersburg\\n      </td>\\n      <td>\\n        2,091\\n\\n      </td>\\n    </tr>\\n    <tr>\\n      <td>\\n        214\\n      </td>\\n      <td>\\n          Frankton\\n      </td>\\n      <td>\\n        2,088\\n\\n      </td>\\n    </tr>\\n    <tr>\\n      <td>\\n        215\\n      </td>\\n      <td>\\n          North Judson\\n      </td>\\n      <td>\\n        2,074\\n\\n      </td>\\n    </tr>\\n    <tr>\\n      <td>\\n        216\\n      </td>\\n      <td>\\n          Ferdinand\\n      </td>\\n      <td>\\n        2,065\\n\\n      </td>\\n    </tr>\\n    <tr>\\n      <td>\\n        217\\n      </td>\\n      <td>\\n          Milan\\n      </td>\\n      <td>\\n        2,040\\n\\n      </td>\\n    </tr>\\n    <tr>\\n      <td>\\n        218\\n          <span class=\\'badge badge-tie\\'>\\n            TIE\\n          </span>\\n      </td>\\n      <td>\\n          Orleans and Williamsport\\n      </td>\\n      <td>\\n        2,028\\n\\n      </td>\\n    </tr>\\n    <tr>\\n      <td>\\n        219\\n      </td>\\n      <td>\\n          Bourbon\\n      </td>\\n      <td>\\n        2,023\\n\\n      </td>\\n    </tr>\\n    <tr>\\n      <td>\\n        220\\n      </td>\\n      <td>\\n          Dunkirk\\n      </td>\\n      <td>\\n        2,022\\n\\n      </td>\\n    </tr>\\n    <tr>\\n      <td>\\n        221\\n      </td>\\n      <td>\\n          Versailles\\n      </td>\\n      <td>\\n        2,021\\n\\n      </td>\\n    </tr>\\n    <tr>\\n      <td>\\n        222\\n      </td>\\n      <td>\\n          Kouts\\n      </td>\\n      <td>\\n        2,018\\n\\n      </td>\\n    </tr>\\n    <tr>\\n      <td>\\n        223\\n      </td>\\n      <td>\\n          Flora\\n      </td>\\n      <td>\\n        2,013\\n\\n      </td>\\n    </tr>\\n    <tr>\\n      <td>\\n        224\\n      </td>\\n      <td>\\n          Burns Harbor\\n      </td>\\n      <td>\\n        1,980\\n\\n      </td>\\n    </tr>\\n    <tr>\\n      <td>\\n        225\\n      </td>\\n      <td>\\n          Jasonville\\n      </td>\\n      <td>\\n        1,966\\n\\n      </td>\\n    </tr>\\n    <tr>\\n      <td>\\n        226\\n      </td>\\n      <td>\\n          Wakarusa\\n      </td>\\n      <td>\\n        1,957\\n\\n      </td>\\n    </tr>\\n    <tr>\\n      <td>\\n        227\\n      </td>\\n      <td>\\n          Hagerstown\\n      </td>\\n      <td>\\n        1,934\\n\\n      </td>\\n    </tr>\\n    <tr>\\n      <td>\\n        228\\n      </td>\\n      <td>\\n          Trail Creek\\n      </td>\\n      <td>\\n        1,917\\n\\n      </td>\\n    </tr>\\n    <tr>\\n      <td>\\n        229\\n      </td>\\n      <td>\\n          New Carlisle\\n      </td>\\n      <td>\\n        1,916\\n\\n      </td>\\n    </tr>\\n    <tr>\\n      <td>\\n        230\\n      </td>\\n      <td>\\n          Shadeland\\n      </td>\\n      <td>\\n        1,913\\n\\n      </td>\\n    </tr>\\n    <tr>\\n      <td>\\n        231\\n      </td>\\n      <td>\\n          Osgood\\n      </td>\\n      <td>\\n        1,912\\n\\n      </td>\\n    </tr>\\n    <tr>\\n      <td>\\n        232\\n      </td>\\n      <td>\\n          Southport\\n      </td>\\n      <td>\\n        1,909\\n\\n      </td>\\n    </tr>\\n    <tr>\\n      <td>\\n        233\\n          <span class=\\'badge badge-tie\\'>\\n            TIE\\n          </span>\\n      </td>\\n      <td>\\n          North Liberty and Henryville\\n      </td>\\n      <td>\\n        1,878\\n\\n      </td>\\n    </tr>\\n    <tr>\\n      <td>\\n        234\\n      </td>\\n      <td>\\n          Eaton\\n      </td>\\n      <td>\\n        1,870\\n\\n      </td>\\n    </tr>\\n    <tr>\\n      <td>\\n        235\\n      </td>\\n      <td>\\n          Battle Ground\\n      </td>\\n      <td>\\n        1,857\\n\\n      </td>\\n    </tr>\\n    <tr>\\n      <td>\\n        236\\n      </td>\\n      <td>\\n          French Lick\\n      </td>\\n      <td>\\n        1,841\\n\\n      </td>\\n    </tr>\\n    <tr>\\n      <td>\\n        237\\n      </td>\\n      <td>\\n          Churubusco\\n      </td>\\n      <td>\\n        1,837\\n\\n      </td>\\n    </tr>\\n    <tr>\\n      <td>\\n        238\\n      </td>\\n      <td>\\n          Monon\\n      </td>\\n      <td>\\n        1,833\\n\\n      </td>\\n    </tr>\\n    <tr>\\n      <td>\\n        239\\n      </td>\\n      <td>\\n          Lake Dalecarlia\\n      </td>\\n      <td>\\n        1,811\\n\\n      </td>\\n    </tr>\\n    <tr>\\n      <td>\\n        240\\n      </td>\\n      <td>\\n          Argos\\n      </td>\\n      <td>\\n        1,802\\n\\n      </td>\\n    </tr>\\n    <tr>\\n      <td>\\n        241\\n      </td>\\n      <td>\\n          Cloverdale\\n      </td>\\n      <td>\\n        1,799\\n\\n      </td>\\n    </tr>\\n    <tr>\\n      <td>\\n        242\\n      </td>\\n      <td>\\n          Crothersville\\n      </td>\\n      <td>\\n        1,788\\n\\n      </td>\\n    </tr>\\n    <tr>\\n      <td>\\n        243\\n      </td>\\n      <td>\\n          Galena\\n      </td>\\n      <td>\\n        1,780\\n\\n      </td>\\n    </tr>\\n    <tr>\\n      <td>\\n        244\\n      </td>\\n      <td>\\n          Tri-Lakes\\n      </td>\\n      <td>\\n        1,750\\n\\n      </td>\\n    </tr>\\n    <tr>\\n      <td>\\n        245\\n      </td>\\n      <td>\\n          Milford\\n      </td>\\n      <td>\\n        1,747\\n\\n      </td>\\n    </tr>\\n    <tr>\\n      <td>\\n        246\\n      </td>\\n      <td>\\n          Cambridge City\\n      </td>\\n      <td>\\n        1,744\\n\\n      </td>\\n    </tr>\\n    <tr>\\n      <td>\\n        247\\n      </td>\\n      <td>\\n          Montpelier\\n      </td>\\n      <td>\\n        1,738\\n\\n      </td>\\n    </tr>\\n    <tr>\\n      <td>\\n        248\\n      </td>\\n      <td>\\n          Kentland\\n      </td>\\n      <td>\\n        1,722\\n\\n      </td>\\n    </tr>\\n    <tr>\\n      <td>\\n        249\\n      </td>\\n      <td>\\n          Vevay\\n      </td>\\n      <td>\\n        1,717\\n\\n      </td>\\n    </tr>\\n    <tr>\\n      <td>\\n        250\\n          <span class=\\'badge badge-tie\\'>\\n            TIE\\n          </span>\\n      </td>\\n      <td>\\n          Woodburn and Liberty\\n      </td>\\n      <td>\\n        1,710\\n\\n      </td>\\n    </tr>\\n    <tr>\\n      <td>\\n        251\\n      </td>\\n      <td>\\n          Roanoke\\n      </td>\\n      <td>\\n        1,688\\n\\n      </td>\\n    </tr>\\n    <tr>\\n      <td>\\n        252\\n      </td>\\n      <td>\\n          Prince\\'s Lakes\\n      </td>\\n      <td>\\n        1,681\\n\\n      </td>\\n    </tr>\\n    <tr>\\n      <td>\\n        253\\n      </td>\\n      <td>\\n          Daleville\\n      </td>\\n      <td>\\n        1,662\\n\\n      </td>\\n    </tr>\\n    <tr>\\n      <td>\\n        254\\n      </td>\\n      <td>\\n          Hudson Lake\\n      </td>\\n      <td>\\n        1,638\\n\\n      </td>\\n    </tr>\\n    <tr>\\n      <td>\\n        255\\n      </td>\\n      <td>\\n          New Chicago\\n      </td>\\n      <td>\\n        1,633\\n\\n      </td>\\n    </tr>\\n    <tr>\\n      <td>\\n        256\\n      </td>\\n      <td>\\n          Harlan\\n      </td>\\n      <td>\\n        1,622\\n\\n      </td>\\n    </tr>\\n    <tr>\\n      <td>\\n        257\\n      </td>\\n      <td>\\n          Monrovia\\n      </td>\\n      <td>\\n        1,610\\n\\n      </td>\\n    </tr>\\n    <tr>\\n      <td>\\n        258\\n      </td>\\n      <td>\\n          Fish Lake\\n      </td>\\n      <td>\\n        1,605\\n\\n      </td>\\n    </tr>\\n    <tr>\\n      <td>\\n        259\\n          <span class=\\'badge badge-tie\\'>\\n            TIE\\n          </span>\\n      </td>\\n      <td>\\n          Aberdeen and Arcadia\\n      </td>\\n      <td>\\n        1,591\\n\\n      </td>\\n    </tr>\\n    <tr>\\n      <td>\\n        260\\n      </td>\\n      <td>\\n          Dayton\\n      </td>\\n      <td>\\n        1,578\\n\\n      </td>\\n    </tr>\\n    <tr>\\n      <td>\\n        261\\n      </td>\\n      <td>\\n          Dillsboro\\n      </td>\\n      <td>\\n        1,569\\n\\n      </td>\\n    </tr>\\n    <tr>\\n      <td>\\n        262\\n      </td>\\n      <td>\\n          South Whitley\\n      </td>\\n      <td>\\n        1,563\\n\\n      </td>\\n    </tr>\\n    <tr>\\n      <td>\\n        263\\n      </td>\\n      <td>\\n          Rossville\\n      </td>\\n      <td>\\n        1,544\\n\\n      </td>\\n    </tr>\\n    <tr>\\n      <td>\\n        264\\n      </td>\\n      <td>\\n          Bristol\\n      </td>\\n      <td>\\n        1,518\\n\\n      </td>\\n    </tr>\\n    <tr>\\n      <td>\\n        265\\n      </td>\\n      <td>\\n          Brookston\\n      </td>\\n      <td>\\n        1,513\\n\\n      </td>\\n    </tr>\\n    <tr>\\n      <td>\\n        266\\n      </td>\\n      <td>\\n          Bass Lake\\n      </td>\\n      <td>\\n        1,510\\n\\n      </td>\\n    </tr>\\n    <tr>\\n      <td>\\n        267\\n      </td>\\n      <td>\\n          Haubstadt\\n      </td>\\n      <td>\\n        1,504\\n\\n      </td>\\n    </tr>\\n    <tr>\\n      <td>\\n        268\\n      </td>\\n      <td>\\n          New Paris\\n      </td>\\n      <td>\\n        1,503\\n\\n      </td>\\n    </tr>\\n    <tr>\\n      <td>\\n        269\\n      </td>\\n      <td>\\n          Hamilton\\n      </td>\\n      <td>\\n        1,500\\n\\n      </td>\\n    </tr>\\n    <tr>\\n      <td>\\n        270\\n      </td>\\n      <td>\\n          Redkey\\n      </td>\\n      <td>\\n        1,490\\n\\n      </td>\\n    </tr>\\n    <tr>\\n      <td>\\n        271\\n      </td>\\n      <td>\\n          Dale\\n      </td>\\n      <td>\\n        1,482\\n\\n      </td>\\n    </tr>\\n    <tr>\\n      <td>\\n        272\\n      </td>\\n      <td>\\n          Nashville\\n      </td>\\n      <td>\\n        1,479\\n\\n      </td>\\n    </tr>\\n    <tr>\\n      <td>\\n        273\\n      </td>\\n      <td>\\n          Cannelton\\n      </td>\\n      <td>\\n        1,470\\n\\n      </td>\\n    </tr>\\n    <tr>\\n      <td>\\n        274\\n      </td>\\n      <td>\\n          New Pekin\\n      </td>\\n      <td>\\n        1,458\\n\\n      </td>\\n    </tr>\\n    <tr>\\n      <td>\\n        275\\n      </td>\\n      <td>\\n          Koontz Lake\\n      </td>\\n      <td>\\n        1,445\\n\\n      </td>\\n    </tr>\\n    <tr>\\n      <td>\\n        276\\n      </td>\\n      <td>\\n          Markle\\n      </td>\\n      <td>\\n        1,435\\n\\n      </td>\\n    </tr>\\n    <tr>\\n      <td>\\n        277\\n      </td>\\n      <td>\\n          Brooklyn\\n      </td>\\n      <td>\\n        1,417\\n\\n      </td>\\n    </tr>\\n    <tr>\\n      <td>\\n        278\\n      </td>\\n      <td>\\n          Farmland\\n      </td>\\n      <td>\\n        1,416\\n\\n      </td>\\n    </tr>\\n    <tr>\\n      <td>\\n        279\\n      </td>\\n      <td>\\n          Owensville\\n      </td>\\n      <td>\\n        1,414\\n\\n      </td>\\n    </tr>\\n    <tr>\\n      <td>\\n        280\\n      </td>\\n      <td>\\n          Shelburn\\n      </td>\\n      <td>\\n        1,406\\n\\n      </td>\\n    </tr>\\n    <tr>\\n      <td>\\n        281\\n      </td>\\n      <td>\\n          Odon\\n      </td>\\n      <td>\\n        1,379\\n\\n      </td>\\n    </tr>\\n    <tr>\\n      <td>\\n        282\\n      </td>\\n      <td>\\n          Palmyra\\n      </td>\\n      <td>\\n        1,367\\n\\n      </td>\\n    </tr>\\n    <tr>\\n      <td>\\n        283\\n      </td>\\n      <td>\\n          Rome City\\n      </td>\\n      <td>\\n        1,343\\n\\n      </td>\\n    </tr>\\n    <tr>\\n      <td>\\n        284\\n      </td>\\n      <td>\\n          Lake Holiday\\n      </td>\\n      <td>\\n        1,323\\n\\n      </td>\\n    </tr>\\n    <tr>\\n      <td>\\n        285\\n      </td>\\n      <td>\\n          Fairview Park\\n      </td>\\n      <td>\\n        1,321\\n\\n      </td>\\n    </tr>\\n    <tr>\\n      <td>\\n        286\\n      </td>\\n      <td>\\n          Mulberry\\n      </td>\\n      <td>\\n        1,318\\n\\n      </td>\\n    </tr>\\n    <tr>\\n      <td>\\n        287\\n      </td>\\n      <td>\\n          Parker City\\n      </td>\\n      <td>\\n        1,315\\n\\n      </td>\\n    </tr>\\n    <tr>\\n      <td>\\n        288\\n      </td>\\n      <td>\\n          Geneva\\n      </td>\\n      <td>\\n        1,312\\n\\n      </td>\\n    </tr>\\n    <tr>\\n      <td>\\n        289\\n      </td>\\n      <td>\\n          Remington\\n      </td>\\n      <td>\\n        1,300\\n\\n      </td>\\n    </tr>\\n    <tr>\\n      <td>\\n        290\\n      </td>\\n      <td>\\n          Grabill\\n      </td>\\n      <td>\\n        1,294\\n\\n      </td>\\n    </tr>\\n    <tr>\\n      <td>\\n        291\\n      </td>\\n      <td>\\n          Sweetser\\n      </td>\\n      <td>\\n        1,292\\n\\n      </td>\\n    </tr>\\n    <tr>\\n      <td>\\n        292\\n      </td>\\n      <td>\\n          Jonesboro\\n      </td>\\n      <td>\\n        1,275\\n\\n      </td>\\n    </tr>\\n    <tr>\\n      <td>\\n        293\\n      </td>\\n      <td>\\n          Ladoga\\n      </td>\\n      <td>\\n        1,271\\n\\n      </td>\\n    </tr>\\n    <tr>\\n      <td>\\n        294\\n      </td>\\n      <td>\\n          Morristown\\n      </td>\\n      <td>\\n        1,269\\n\\n      </td>\\n    </tr>\\n    <tr>\\n      <td>\\n        295\\n      </td>\\n      <td>\\n          Cayuga\\n      </td>\\n      <td>\\n        1,263\\n\\n      </td>\\n    </tr>\\n    <tr>\\n      <td>\\n        296\\n      </td>\\n      <td>\\n          Borden\\n      </td>\\n      <td>\\n        1,244\\n\\n      </td>\\n    </tr>\\n    <tr>\\n      <td>\\n        297\\n      </td>\\n      <td>\\n          Warren\\n      </td>\\n      <td>\\n        1,240\\n\\n      </td>\\n    </tr>\\n    <tr>\\n      <td>\\n        298\\n      </td>\\n      <td>\\n          Mentone\\n      </td>\\n      <td>\\n        1,239\\n\\n      </td>\\n    </tr>\\n    <tr>\\n      <td>\\n        299\\n      </td>\\n      <td>\\n          Wanatah\\n      </td>\\n      <td>\\n        1,235\\n\\n      </td>\\n    </tr>\\n    <tr>\\n      <td>\\n        300\\n      </td>\\n      <td>\\n          Thorntown\\n      </td>\\n      <td>\\n        1,231\\n\\n      </td>\\n    </tr>\\n    <tr>\\n      <td>\\n        301\\n      </td>\\n      <td>\\n          Westport\\n      </td>\\n      <td>\\n        1,230\\n\\n      </td>\\n    </tr>\\n    <tr>\\n      <td>\\n        302\\n      </td>\\n      <td>\\n          Monroeville\\n      </td>\\n      <td>\\n        1,229\\n\\n      </td>\\n    </tr>\\n    <tr>\\n      <td>\\n        303\\n      </td>\\n      <td>\\n          Galveston\\n      </td>\\n      <td>\\n        1,226\\n\\n      </td>\\n    </tr>\\n    <tr>\\n      <td>\\n        304\\n      </td>\\n      <td>\\n          Kingsford Heights\\n      </td>\\n      <td>\\n        1,216\\n\\n      </td>\\n    </tr>\\n    <tr>\\n      <td>\\n        305\\n      </td>\\n      <td>\\n          Worthington\\n      </td>\\n      <td>\\n        1,214\\n\\n      </td>\\n    </tr>\\n    <tr>\\n      <td>\\n        306\\n      </td>\\n      <td>\\n          Patoka\\n      </td>\\n      <td>\\n        1,210\\n\\n      </td>\\n    </tr>\\n    <tr>\\n      <td>\\n        307\\n      </td>\\n      <td>\\n          Akron\\n      </td>\\n      <td>\\n        1,206\\n\\n      </td>\\n    </tr>\\n    <tr>\\n      <td>\\n        308\\n      </td>\\n      <td>\\n          Oxford\\n      </td>\\n      <td>\\n        1,189\\n\\n      </td>\\n    </tr>\\n    <tr>\\n      <td>\\n        309\\n      </td>\\n      <td>\\n          Sunman\\n      </td>\\n      <td>\\n        1,184\\n\\n      </td>\\n    </tr>\\n    <tr>\\n      <td>\\n        310\\n      </td>\\n      <td>\\n          Farmersburg\\n      </td>\\n      <td>\\n        1,180\\n\\n      </td>\\n    </tr>\\n    <tr>\\n      <td>\\n        311\\n      </td>\\n      <td>\\n          Converse\\n      </td>\\n      <td>\\n        1,167\\n\\n      </td>\\n    </tr>\\n    <tr>\\n      <td>\\n        312\\n      </td>\\n      <td>\\n          Ogden Dunes\\n      </td>\\n      <td>\\n        1,163\\n\\n      </td>\\n    </tr>\\n    <tr>\\n      <td>\\n        313\\n      </td>\\n      <td>\\n          North Webster\\n      </td>\\n      <td>\\n        1,151\\n\\n      </td>\\n    </tr>\\n    <tr>\\n      <td>\\n        314\\n      </td>\\n      <td>\\n          Lynn\\n      </td>\\n      <td>\\n        1,149\\n\\n      </td>\\n    </tr>\\n    <tr>\\n      <td>\\n        315\\n      </td>\\n      <td>\\n          Trafalgar\\n      </td>\\n      <td>\\n        1,148\\n\\n      </td>\\n    </tr>\\n    <tr>\\n      <td>\\n        316\\n      </td>\\n      <td>\\n          Morocco\\n      </td>\\n      <td>\\n        1,146\\n\\n      </td>\\n    </tr>\\n    <tr>\\n      <td>\\n        317\\n      </td>\\n      <td>\\n          Long Beach\\n      </td>\\n      <td>\\n        1,141\\n\\n      </td>\\n    </tr>\\n    <tr>\\n      <td>\\n        318\\n      </td>\\n      <td>\\n          Waynetown\\n      </td>\\n      <td>\\n        1,134\\n\\n      </td>\\n    </tr>\\n    <tr>\\n      <td>\\n        319\\n          <span class=\\'badge badge-tie\\'>\\n            TIE\\n          </span>\\n      </td>\\n      <td>\\n          Cordry Sweetwater Lakes and Darmstadt\\n      </td>\\n      <td>\\n        1,131\\n\\n      </td>\\n    </tr>\\n    <tr>\\n      <td>\\n        320\\n      </td>\\n      <td>\\n          Culver\\n      </td>\\n      <td>\\n        1,130\\n\\n      </td>\\n    </tr>\\n    <tr>\\n      <td>\\n        321\\n      </td>\\n      <td>\\n          Greenville\\n      </td>\\n      <td>\\n        1,117\\n\\n      </td>\\n    </tr>\\n    <tr>\\n      <td>\\n        322\\n      </td>\\n      <td>\\n          Clayton\\n      </td>\\n      <td>\\n        1,110\\n\\n      </td>\\n    </tr>\\n    <tr>\\n      <td>\\n        323\\n      </td>\\n      <td>\\n          Walton\\n      </td>\\n      <td>\\n        1,107\\n\\n      </td>\\n    </tr>\\n    <tr>\\n      <td>\\n        324\\n      </td>\\n      <td>\\n          Wolcott\\n      </td>\\n      <td>\\n        1,103\\n\\n      </td>\\n    </tr>\\n    <tr>\\n      <td>\\n        325\\n      </td>\\n      <td>\\n          Oolitic\\n      </td>\\n      <td>\\n        1,088\\n\\n      </td>\\n    </tr>\\n    <tr>\\n      <td>\\n        326\\n      </td>\\n      <td>\\n          Russiaville\\n      </td>\\n      <td>\\n        1,087\\n\\n      </td>\\n    </tr>\\n    <tr>\\n      <td>\\n        327\\n      </td>\\n      <td>\\n          Morgantown\\n      </td>\\n      <td>\\n        1,042\\n\\n      </td>\\n    </tr>\\n    <tr>\\n      <td>\\n        328\\n          <span class=\\'badge badge-tie\\'>\\n            TIE\\n          </span>\\n      </td>\\n      <td>\\n          Winslow and St. Paul\\n      </td>\\n      <td>\\n        1,013\\n\\n      </td>\\n    </tr>\\n    <tr>\\n      <td>\\n        329\\n      </td>\\n      <td>\\n          Brook\\n      </td>\\n      <td>\\n        1,012\\n\\n      </td>\\n    </tr>\\n    <tr>\\n      <td>\\n        330\\n      </td>\\n      <td>\\n          Goodland\\n      </td>\\n      <td>\\n        1,000\\n\\n      </td>\\n    </tr>\\n    <tr>\\n      <td>\\n        331\\n      </td>\\n      <td>\\n          Carthage\\n      </td>\\n      <td>\\n        998\\n\\n      </td>\\n    </tr>\\n    <tr>\\n      <td>\\n        332\\n      </td>\\n      <td>\\n          Grandview\\n      </td>\\n      <td>\\n        995\\n\\n      </td>\\n    </tr>\\n    <tr>\\n      <td>\\n        333\\n      </td>\\n      <td>\\n          Ashley\\n      </td>\\n      <td>\\n        993\\n\\n      </td>\\n    </tr>\\n    <tr>\\n      <td>\\n        334\\n      </td>\\n      <td>\\n          La Fontaine\\n      </td>\\n      <td>\\n        992\\n\\n      </td>\\n    </tr>\\n    <tr>\\n      <td>\\n        335\\n      </td>\\n      <td>\\n          Andrews\\n      </td>\\n      <td>\\n        990\\n\\n      </td>\\n    </tr>\\n    <tr>\\n      <td>\\n        336\\n      </td>\\n      <td>\\n          Jamestown\\n      </td>\\n      <td>\\n        989\\n\\n      </td>\\n    </tr>\\n    <tr>\\n      <td>\\n        337\\n      </td>\\n      <td>\\n          Taylorsville\\n      </td>\\n      <td>\\n        979\\n\\n      </td>\\n    </tr>\\n    <tr>\\n      <td>\\n        338\\n      </td>\\n      <td>\\n          Mexico\\n      </td>\\n      <td>\\n        978\\n\\n      </td>\\n    </tr>\\n    <tr>\\n      <td>\\n        339\\n      </td>\\n      <td>\\n          Wolcottville\\n      </td>\\n      <td>\\n        974\\n\\n      </td>\\n    </tr>\\n    <tr>\\n      <td>\\n        340\\n      </td>\\n      <td>\\n          Atlanta\\n      </td>\\n      <td>\\n        954\\n\\n      </td>\\n    </tr>\\n    <tr>\\n      <td>\\n        341\\n      </td>\\n      <td>\\n          Otterbein\\n      </td>\\n      <td>\\n        953\\n\\n      </td>\\n    </tr>\\n    <tr>\\n      <td>\\n        342\\n      </td>\\n      <td>\\n          Shirley\\n      </td>\\n      <td>\\n        952\\n\\n      </td>\\n    </tr>\\n    <tr>\\n      <td>\\n        343\\n      </td>\\n      <td>\\n          Hoagland\\n      </td>\\n      <td>\\n        951\\n\\n      </td>\\n    </tr>\\n    <tr>\\n      <td>\\n        344\\n      </td>\\n      <td>\\n          Silver Lake\\n      </td>\\n      <td>\\n        948\\n\\n      </td>\\n    </tr>\\n    <tr>\\n      <td>\\n        345\\n      </td>\\n      <td>\\n          Summitville\\n      </td>\\n      <td>\\n        947\\n\\n      </td>\\n    </tr>\\n    <tr>\\n      <td>\\n        346\\n          <span class=\\'badge badge-tie\\'>\\n            TIE\\n          </span>\\n      </td>\\n      <td>\\n          Swayzee and Shipshewana\\n      </td>\\n      <td>\\n        946\\n\\n      </td>\\n    </tr>\\n    <tr>\\n      <td>\\n        347\\n      </td>\\n      <td>\\n          Monroe\\n      </td>\\n      <td>\\n        945\\n\\n      </td>\\n    </tr>\\n    <tr>\\n      <td>\\n        348\\n      </td>\\n      <td>\\n          Lynnville\\n      </td>\\n      <td>\\n        937\\n\\n      </td>\\n    </tr>\\n    <tr>\\n      <td>\\n        349\\n      </td>\\n      <td>\\n          Topeka\\n      </td>\\n      <td>\\n        933\\n\\n      </td>\\n    </tr>\\n    <tr>\\n      <td>\\n        350\\n      </td>\\n      <td>\\n          Wheatfield\\n      </td>\\n      <td>\\n        928\\n\\n      </td>\\n    </tr>\\n    <tr>\\n      <td>\\n        351\\n      </td>\\n      <td>\\n          Kirklin\\n      </td>\\n      <td>\\n        924\\n\\n      </td>\\n    </tr>\\n    <tr>\\n      <td>\\n        352\\n      </td>\\n      <td>\\n          Francesville\\n      </td>\\n      <td>\\n        908\\n\\n      </td>\\n    </tr>\\n    <tr>\\n      <td>\\n        353\\n      </td>\\n      <td>\\n          Poseyville\\n      </td>\\n      <td>\\n        905\\n\\n      </td>\\n    </tr>\\n    <tr>\\n      <td>\\n        354\\n      </td>\\n      <td>\\n          Memphis\\n      </td>\\n      <td>\\n        891\\n\\n      </td>\\n    </tr>\\n    <tr>\\n      <td>\\n        355\\n      </td>\\n      <td>\\n          Selma\\n      </td>\\n      <td>\\n        890\\n\\n      </td>\\n    </tr>\\n    <tr>\\n      <td>\\n        356\\n      </td>\\n      <td>\\n          Van Buren\\n      </td>\\n      <td>\\n        889\\n\\n      </td>\\n    </tr>\\n    <tr>\\n      <td>\\n        357\\n      </td>\\n      <td>\\n          Montezuma\\n      </td>\\n      <td>\\n        887\\n\\n      </td>\\n    </tr>\\n    <tr>\\n      <td>\\n        358\\n      </td>\\n      <td>\\n          Dugger\\n      </td>\\n      <td>\\n        883\\n\\n      </td>\\n    </tr>\\n    <tr>\\n      <td>\\n        359\\n      </td>\\n      <td>\\n          Pierceton\\n      </td>\\n      <td>\\n        880\\n\\n      </td>\\n    </tr>\\n    <tr>\\n      <td>\\n        360\\n      </td>\\n      <td>\\n          Gaston\\n      </td>\\n      <td>\\n        875\\n\\n      </td>\\n    </tr>\\n    <tr>\\n      <td>\\n        361\\n      </td>\\n      <td>\\n          St. Leon\\n      </td>\\n      <td>\\n        872\\n\\n      </td>\\n    </tr>\\n    <tr>\\n      <td>\\n        362\\n      </td>\\n      <td>\\n          St. Mary of the Woods\\n      </td>\\n      <td>\\n        868\\n\\n      </td>\\n    </tr>\\n    <tr>\\n      <td>\\n        363\\n      </td>\\n      <td>\\n          Seelyville\\n      </td>\\n      <td>\\n        864\\n\\n      </td>\\n    </tr>\\n    <tr>\\n      <td>\\n        364\\n      </td>\\n      <td>\\n          Lake Santee\\n      </td>\\n      <td>\\n        860\\n\\n      </td>\\n    </tr>\\n    <tr>\\n      <td>\\n        365\\n      </td>\\n      <td>\\n          Darlington\\n      </td>\\n      <td>\\n        857\\n\\n      </td>\\n    </tr>\\n    <tr>\\n      <td>\\n        366\\n      </td>\\n      <td>\\n          Clay City\\n      </td>\\n      <td>\\n        852\\n\\n      </td>\\n    </tr>\\n    <tr>\\n      <td>\\n        367\\n      </td>\\n      <td>\\n          Lakeville\\n      </td>\\n      <td>\\n        851\\n\\n      </td>\\n    </tr>\\n    <tr>\\n      <td>\\n        368\\n      </td>\\n      <td>\\n          Harmony\\n      </td>\\n      <td>\\n        849\\n\\n      </td>\\n    </tr>\\n    <tr>\\n      <td>\\n        369\\n      </td>\\n      <td>\\n          Rosedale\\n      </td>\\n      <td>\\n        845\\n\\n      </td>\\n    </tr>\\n    <tr>\\n      <td>\\n        370\\n      </td>\\n      <td>\\n          Milltown\\n      </td>\\n      <td>\\n        843\\n\\n      </td>\\n    </tr>\\n    <tr>\\n      <td>\\n        371\\n      </td>\\n      <td>\\n          Hatfield\\n      </td>\\n      <td>\\n        838\\n\\n      </td>\\n    </tr>\\n    <tr>\\n      <td>\\n        372\\n      </td>\\n      <td>\\n          Gosport\\n      </td>\\n      <td>\\n        834\\n\\n      </td>\\n    </tr>\\n    <tr>\\n      <td>\\n        373\\n      </td>\\n      <td>\\n          Royal Center\\n      </td>\\n      <td>\\n        833\\n\\n      </td>\\n    </tr>\\n    <tr>\\n      <td>\\n        374\\n      </td>\\n      <td>\\n          Spiceland\\n      </td>\\n      <td>\\n        825\\n\\n      </td>\\n    </tr>\\n    <tr>\\n      <td>\\n        375\\n      </td>\\n      <td>\\n          Millersburg\\n      </td>\\n      <td>\\n        820\\n\\n      </td>\\n    </tr>\\n    <tr>\\n      <td>\\n        376\\n      </td>\\n      <td>\\n          Avoca\\n      </td>\\n      <td>\\n        816\\n\\n      </td>\\n    </tr>\\n    <tr>\\n      <td>\\n        377\\n      </td>\\n      <td>\\n          Montgomery\\n      </td>\\n      <td>\\n        814\\n\\n      </td>\\n    </tr>\\n    <tr>\\n      <td>\\n        378\\n      </td>\\n      <td>\\n          Freelandville\\n      </td>\\n      <td>\\n        800\\n\\n      </td>\\n    </tr>\\n    <tr>\\n      <td>\\n        379\\n      </td>\\n      <td>\\n          Tecumseh\\n      </td>\\n      <td>\\n        799\\n\\n      </td>\\n    </tr>\\n    <tr>\\n      <td>\\n        380\\n          <span class=\\'badge badge-tie\\'>\\n            TIE\\n          </span>\\n      </td>\\n      <td>\\n          Laurel and Dublin\\n      </td>\\n      <td>\\n        794\\n\\n      </td>\\n    </tr>\\n    <tr>\\n      <td>\\n        381\\n      </td>\\n      <td>\\n          Colfax\\n      </td>\\n      <td>\\n        787\\n\\n      </td>\\n    </tr>\\n    <tr>\\n      <td>\\n        382\\n      </td>\\n      <td>\\n          Sharpsville\\n      </td>\\n      <td>\\n        785\\n\\n      </td>\\n    </tr>\\n    <tr>\\n      <td>\\n        383\\n      </td>\\n      <td>\\n          Roachdale\\n      </td>\\n      <td>\\n        781\\n\\n      </td>\\n    </tr>\\n    <tr>\\n      <td>\\n        384\\n          <span class=\\'badge badge-tie\\'>\\n            TIE\\n          </span>\\n      </td>\\n      <td>\\n          Hymera and Leesburg\\n      </td>\\n      <td>\\n        776\\n\\n      </td>\\n    </tr>\\n    <tr>\\n      <td>\\n        385\\n      </td>\\n      <td>\\n          Lake Village\\n      </td>\\n      <td>\\n        773\\n\\n      </td>\\n    </tr>\\n    <tr>\\n      <td>\\n        386\\n      </td>\\n      <td>\\n          Clarks Hill\\n      </td>\\n      <td>\\n        763\\n\\n      </td>\\n    </tr>\\n    <tr>\\n      <td>\\n        387\\n      </td>\\n      <td>\\n          Chrisney\\n      </td>\\n      <td>\\n        742\\n\\n      </td>\\n    </tr>\\n    <tr>\\n      <td>\\n        388\\n      </td>\\n      <td>\\n          Fountain City\\n      </td>\\n      <td>\\n        740\\n\\n      </td>\\n    </tr>\\n    <tr>\\n      <td>\\n        389\\n      </td>\\n      <td>\\n          Windfall City\\n      </td>\\n      <td>\\n        739\\n\\n      </td>\\n    </tr>\\n    <tr>\\n      <td>\\n        390\\n      </td>\\n      <td>\\n          Boswell\\n      </td>\\n      <td>\\n        736\\n\\n      </td>\\n    </tr>\\n    <tr>\\n      <td>\\n        391\\n      </td>\\n      <td>\\n          Elberfeld\\n      </td>\\n      <td>\\n        732\\n\\n      </td>\\n    </tr>\\n    <tr>\\n      <td>\\n        392\\n      </td>\\n      <td>\\n          Shoals\\n      </td>\\n      <td>\\n        731\\n\\n      </td>\\n    </tr>\\n    <tr>\\n      <td>\\n        393\\n      </td>\\n      <td>\\n          Bainbridge\\n      </td>\\n      <td>\\n        728\\n\\n      </td>\\n    </tr>\\n    <tr>\\n      <td>\\n        394\\n      </td>\\n      <td>\\n          Pennville\\n      </td>\\n      <td>\\n        724\\n\\n      </td>\\n    </tr>\\n    <tr>\\n      <td>\\n        395\\n      </td>\\n      <td>\\n          New Washington\\n      </td>\\n      <td>\\n        720\\n\\n      </td>\\n    </tr>\\n    <tr>\\n      <td>\\n        396\\n      </td>\\n      <td>\\n          New Harmony\\n      </td>\\n      <td>\\n        719\\n\\n      </td>\\n    </tr>\\n    <tr>\\n      <td>\\n        397\\n      </td>\\n      <td>\\n          Town of Pines\\n      </td>\\n      <td>\\n        717\\n\\n      </td>\\n    </tr>\\n    <tr>\\n      <td>\\n        398\\n          <span class=\\'badge badge-tie\\'>\\n            TIE\\n          </span>\\n      </td>\\n      <td>\\n          Zanesville and Monroe City\\n      </td>\\n      <td>\\n        715\\n\\n      </td>\\n    </tr>\\n    <tr>\\n      <td>\\n        399\\n      </td>\\n      <td>\\n          English\\n      </td>\\n      <td>\\n        711\\n\\n      </td>\\n    </tr>\\n    <tr>\\n      <td>\\n        400\\n      </td>\\n      <td>\\n          Knightsville\\n      </td>\\n      <td>\\n        707\\n\\n      </td>\\n    </tr>\\n    <tr>\\n      <td>\\n        401\\n      </td>\\n      <td>\\n          Medaryville\\n      </td>\\n      <td>\\n        701\\n\\n      </td>\\n    </tr>\\n    <tr>\\n      <td>\\n        402\\n      </td>\\n      <td>\\n          Buffalo\\n      </td>\\n      <td>\\n        698\\n\\n      </td>\\n    </tr>\\n    <tr>\\n      <td>\\n        403\\n      </td>\\n      <td>\\n          Linden\\n      </td>\\n      <td>\\n        690\\n\\n      </td>\\n    </tr>\\n    <tr>\\n      <td>\\n        404\\n      </td>\\n      <td>\\n          Harrodsburg\\n      </td>\\n      <td>\\n        686\\n\\n      </td>\\n    </tr>\\n    <tr>\\n      <td>\\n        405\\n      </td>\\n      <td>\\n          Van Bibber Lake\\n      </td>\\n      <td>\\n        679\\n\\n      </td>\\n    </tr>\\n    <tr>\\n      <td>\\n        406\\n          <span class=\\'badge badge-tie\\'>\\n            TIE\\n          </span>\\n      </td>\\n      <td>\\n          Campbellsburg, Lyons, and Moores Hill\\n      </td>\\n      <td>\\n        676\\n\\n      </td>\\n    </tr>\\n    <tr>\\n      <td>\\n        407\\n      </td>\\n      <td>\\n          Holland\\n      </td>\\n      <td>\\n        673\\n\\n      </td>\\n    </tr>\\n    <tr>\\n      <td>\\n        408\\n      </td>\\n      <td>\\n          West Lebanon\\n      </td>\\n      <td>\\n        664\\n\\n      </td>\\n    </tr>\\n    <tr>\\n      <td>\\n        409\\n      </td>\\n      <td>\\n          Carlisle\\n      </td>\\n      <td>\\n        660\\n\\n      </td>\\n    </tr>\\n    <tr>\\n      <td>\\n        410\\n      </td>\\n      <td>\\n          St. Meinrad\\n      </td>\\n      <td>\\n        658\\n\\n      </td>\\n    </tr>\\n    <tr>\\n      <td>\\n        411\\n      </td>\\n      <td>\\n          Marengo\\n      </td>\\n      <td>\\n        656\\n\\n      </td>\\n    </tr>\\n    <tr>\\n      <td>\\n        412\\n      </td>\\n      <td>\\n          Waldron\\n      </td>\\n      <td>\\n        647\\n\\n      </td>\\n    </tr>\\n    <tr>\\n      <td>\\n        413\\n      </td>\\n      <td>\\n          Elnora\\n      </td>\\n      <td>\\n        642\\n\\n      </td>\\n    </tr>\\n    <tr>\\n      <td>\\n        414\\n          <span class=\\'badge badge-tie\\'>\\n            TIE\\n          </span>\\n      </td>\\n      <td>\\n          Francisco and Utica\\n      </td>\\n      <td>\\n        639\\n\\n      </td>\\n    </tr>\\n    <tr>\\n      <td>\\n        415\\n      </td>\\n      <td>\\n          Matthews\\n      </td>\\n      <td>\\n        622\\n\\n      </td>\\n    </tr>\\n    <tr>\\n      <td>\\n        416\\n      </td>\\n      <td>\\n          Medora\\n      </td>\\n      <td>\\n        618\\n\\n      </td>\\n    </tr>\\n    <tr>\\n      <td>\\n        417\\n      </td>\\n      <td>\\n          Lanesville\\n      </td>\\n      <td>\\n        615\\n\\n      </td>\\n    </tr>\\n    <tr>\\n      <td>\\n        418\\n      </td>\\n      <td>\\n          Oaktown\\n      </td>\\n      <td>\\n        614\\n\\n      </td>\\n    </tr>\\n    <tr>\\n      <td>\\n        419\\n      </td>\\n      <td>\\n          Fairland\\n      </td>\\n      <td>\\n        612\\n\\n      </td>\\n    </tr>\\n    <tr>\\n      <td>\\n        420\\n          <span class=\\'badge badge-tie\\'>\\n            TIE\\n          </span>\\n      </td>\\n      <td>\\n          Cynthiana and New Market\\n      </td>\\n      <td>\\n        599\\n\\n      </td>\\n    </tr>\\n    <tr>\\n      <td>\\n        421\\n      </td>\\n      <td>\\n          Michigantown\\n      </td>\\n      <td>\\n        592\\n\\n      </td>\\n    </tr>\\n    <tr>\\n      <td>\\n        422\\n      </td>\\n      <td>\\n          New Salisbury\\n      </td>\\n      <td>\\n        590\\n\\n      </td>\\n    </tr>\\n    <tr>\\n      <td>\\n        423\\n      </td>\\n      <td>\\n          Hayden\\n      </td>\\n      <td>\\n        589\\n\\n      </td>\\n    </tr>\\n    <tr>\\n      <td>\\n        424\\n      </td>\\n      <td>\\n          Dana\\n      </td>\\n      <td>\\n        586\\n\\n      </td>\\n    </tr>\\n    <tr>\\n      <td>\\n        425\\n      </td>\\n      <td>\\n          Etna Green\\n      </td>\\n      <td>\\n        582\\n\\n      </td>\\n    </tr>\\n    <tr>\\n      <td>\\n        426\\n      </td>\\n      <td>\\n          Camden\\n      </td>\\n      <td>\\n        580\\n\\n      </td>\\n    </tr>\\n    <tr>\\n      <td>\\n        427\\n      </td>\\n      <td>\\n          Fillmore\\n      </td>\\n      <td>\\n        575\\n\\n      </td>\\n    </tr>\\n    <tr>\\n      <td>\\n        428\\n          <span class=\\'badge badge-tie\\'>\\n            TIE\\n          </span>\\n      </td>\\n      <td>\\n          Hamlet and Kimmell\\n      </td>\\n      <td>\\n        574\\n\\n      </td>\\n    </tr>\\n    <tr>\\n      <td>\\n        429\\n      </td>\\n      <td>\\n          Lizton\\n      </td>\\n      <td>\\n        573\\n\\n      </td>\\n    </tr>\\n    <tr>\\n      <td>\\n        430\\n      </td>\\n      <td>\\n          West College Corner\\n      </td>\\n      <td>\\n        570\\n\\n      </td>\\n    </tr>\\n    <tr>\\n      <td>\\n        431\\n      </td>\\n      <td>\\n          Paragon\\n      </td>\\n      <td>\\n        567\\n\\n      </td>\\n    </tr>\\n    <tr>\\n      <td>\\n        432\\n      </td>\\n      <td>\\n          Orestes\\n      </td>\\n      <td>\\n        566\\n\\n      </td>\\n    </tr>\\n    <tr>\\n      <td>\\n        433\\n      </td>\\n      <td>\\n          La Paz\\n      </td>\\n      <td>\\n        562\\n\\n      </td>\\n    </tr>\\n    <tr>\\n      <td>\\n        434\\n      </td>\\n      <td>\\n          Hudson\\n      </td>\\n      <td>\\n        557\\n\\n      </td>\\n    </tr>\\n    <tr>\\n      <td>\\n        435\\n      </td>\\n      <td>\\n          Coatesville\\n      </td>\\n      <td>\\n        555\\n\\n      </td>\\n    </tr>\\n    <tr>\\n      <td>\\n        436\\n      </td>\\n      <td>\\n          La Crosse\\n      </td>\\n      <td>\\n        549\\n\\n      </td>\\n    </tr>\\n    <tr>\\n      <td>\\n        437\\n      </td>\\n      <td>\\n          Collegeville\\n      </td>\\n      <td>\\n        547\\n\\n      </td>\\n    </tr>\\n    <tr>\\n      <td>\\n        438\\n      </td>\\n      <td>\\n          Ridgeville\\n      </td>\\n      <td>\\n        544\\n\\n      </td>\\n    </tr>\\n    <tr>\\n      <td>\\n        439\\n      </td>\\n      <td>\\n          Kennard\\n      </td>\\n      <td>\\n        540\\n\\n      </td>\\n    </tr>\\n    <tr>\\n      <td>\\n        440\\n      </td>\\n      <td>\\n          Elizabethtown\\n      </td>\\n      <td>\\n        538\\n\\n      </td>\\n    </tr>\\n    <tr>\\n      <td>\\n        441\\n      </td>\\n      <td>\\n          Parkers Settlement\\n      </td>\\n      <td>\\n        537\\n\\n      </td>\\n    </tr>\\n    <tr>\\n      <td>\\n        442\\n      </td>\\n      <td>\\n          Claypool\\n      </td>\\n      <td>\\n        534\\n\\n      </td>\\n    </tr>\\n    <tr>\\n      <td>\\n        443\\n      </td>\\n      <td>\\n          Painted Hills\\n      </td>\\n      <td>\\n        532\\n\\n      </td>\\n    </tr>\\n    <tr>\\n      <td>\\n        444\\n      </td>\\n      <td>\\n          Birdseye\\n      </td>\\n      <td>\\n        529\\n\\n      </td>\\n    </tr>\\n    <tr>\\n      <td>\\n        445\\n      </td>\\n      <td>\\n          Burlington\\n      </td>\\n      <td>\\n        528\\n\\n      </td>\\n    </tr>\\n    <tr>\\n      <td>\\n        446\\n          <span class=\\'badge badge-tie\\'>\\n            TIE\\n          </span>\\n      </td>\\n      <td>\\n          Patriot and Hillsboro\\n      </td>\\n      <td>\\n        527\\n\\n      </td>\\n    </tr>\\n    <tr>\\n      <td>\\n        447\\n      </td>\\n      <td>\\n          Waveland\\n      </td>\\n      <td>\\n        522\\n\\n      </td>\\n    </tr>\\n    <tr>\\n      <td>\\n        448\\n      </td>\\n      <td>\\n          Kewanna\\n      </td>\\n      <td>\\n        519\\n\\n      </td>\\n    </tr>\\n    <tr>\\n      <td>\\n        449\\n      </td>\\n      <td>\\n          Beverly Shores\\n      </td>\\n      <td>\\n        516\\n\\n      </td>\\n    </tr>\\n    <tr>\\n      <td>\\n        450\\n      </td>\\n      <td>\\n          Bunker Hill\\n      </td>\\n      <td>\\n        513\\n\\n      </td>\\n    </tr>\\n    <tr>\\n      <td>\\n        451\\n          <span class=\\'badge badge-tie\\'>\\n            TIE\\n          </span>\\n      </td>\\n      <td>\\n          Milroy and West Baden Springs\\n      </td>\\n      <td>\\n        511\\n\\n      </td>\\n    </tr>\\n    <tr>\\n      <td>\\n        452\\n      </td>\\n      <td>\\n          Reynolds\\n      </td>\\n      <td>\\n        505\\n\\n      </td>\\n    </tr>\\n    <tr>\\n      <td>\\n        453\\n      </td>\\n      <td>\\n          Mount Summit\\n      </td>\\n      <td>\\n        502\\n\\n      </td>\\n    </tr>\\n    <tr>\\n      <td>\\n        454\\n      </td>\\n      <td>\\n          Holton\\n      </td>\\n      <td>\\n        500\\n\\n      </td>\\n    </tr>\\n    <tr>\\n      <td>\\n        455\\n      </td>\\n      <td>\\n          Perrysville\\n      </td>\\n      <td>\\n        497\\n\\n      </td>\\n    </tr>\\n    <tr>\\n      <td>\\n        456\\n      </td>\\n      <td>\\n          Amo\\n      </td>\\n      <td>\\n        493\\n\\n      </td>\\n    </tr>\\n    <tr>\\n      <td>\\n        457\\n      </td>\\n      <td>\\n          Owensburg\\n      </td>\\n      <td>\\n        483\\n\\n      </td>\\n    </tr>\\n    <tr>\\n      <td>\\n        458\\n      </td>\\n      <td>\\n          St. Joe\\n      </td>\\n      <td>\\n        481\\n\\n      </td>\\n    </tr>\\n    <tr>\\n      <td>\\n        459\\n      </td>\\n      <td>\\n          Cromwell\\n      </td>\\n      <td>\\n        476\\n\\n      </td>\\n    </tr>\\n    <tr>\\n      <td>\\n        460\\n      </td>\\n      <td>\\n          Wheatland\\n      </td>\\n      <td>\\n        474\\n\\n      </td>\\n    </tr>\\n    <tr>\\n      <td>\\n        461\\n          <span class=\\'badge badge-tie\\'>\\n            TIE\\n          </span>\\n      </td>\\n      <td>\\n          Roseland and West Point\\n      </td>\\n      <td>\\n        465\\n\\n      </td>\\n    </tr>\\n    <tr>\\n      <td>\\n        462\\n          <span class=\\'badge badge-tie\\'>\\n            TIE\\n          </span>\\n      </td>\\n      <td>\\n          Rolling Prairie, St. Bernice, and Markleville\\n      </td>\\n      <td>\\n        463\\n\\n      </td>\\n    </tr>\\n    <tr>\\n      <td>\\n        463\\n          <span class=\\'badge badge-tie\\'>\\n            TIE\\n          </span>\\n      </td>\\n      <td>\\n          Advance and Oldenburg\\n      </td>\\n      <td>\\n        458\\n\\n      </td>\\n    </tr>\\n    <tr>\\n      <td>\\n        464\\n      </td>\\n      <td>\\n          Spring Grove\\n      </td>\\n      <td>\\n        456\\n\\n      </td>\\n    </tr>\\n    <tr>\\n      <td>\\n        465\\n          <span class=\\'badge badge-tie\\'>\\n            TIE\\n          </span>\\n      </td>\\n      <td>\\n          Fontanet and New Ross\\n      </td>\\n      <td>\\n        455\\n\\n      </td>\\n    </tr>\\n    <tr>\\n      <td>\\n        466\\n      </td>\\n      <td>\\n          Laketon\\n      </td>\\n      <td>\\n        454\\n\\n      </td>\\n    </tr>\\n    <tr>\\n      <td>\\n        467\\n      </td>\\n      <td>\\n          Lagro\\n      </td>\\n      <td>\\n        450\\n\\n      </td>\\n    </tr>\\n    <tr>\\n      <td>\\n        468\\n      </td>\\n      <td>\\n          Chalmers\\n      </td>\\n      <td>\\n        445\\n\\n      </td>\\n    </tr>\\n    <tr>\\n      <td>\\n        469\\n      </td>\\n      <td>\\n          Denver\\n      </td>\\n      <td>\\n        436\\n\\n      </td>\\n    </tr>\\n    <tr>\\n      <td>\\n        470\\n      </td>\\n      <td>\\n          Stockwell\\n      </td>\\n      <td>\\n        435\\n\\n      </td>\\n    </tr>\\n    <tr>\\n      <td>\\n        471\\n      </td>\\n      <td>\\n          New Goshen\\n      </td>\\n      <td>\\n        434\\n\\n      </td>\\n    </tr>\\n    <tr>\\n      <td>\\n        472\\n      </td>\\n      <td>\\n          Kingman\\n      </td>\\n      <td>\\n        433\\n\\n      </td>\\n    </tr>\\n    <tr>\\n      <td>\\n        473\\n      </td>\\n      <td>\\n          Greens Fork\\n      </td>\\n      <td>\\n        430\\n\\n      </td>\\n    </tr>\\n    <tr>\\n      <td>\\n        474\\n      </td>\\n      <td>\\n          Orland\\n      </td>\\n      <td>\\n        425\\n\\n      </td>\\n    </tr>\\n    <tr>\\n      <td>\\n        475\\n      </td>\\n      <td>\\n          Lewisville\\n      </td>\\n      <td>\\n        424\\n\\n      </td>\\n    </tr>\\n    <tr>\\n      <td>\\n        476\\n      </td>\\n      <td>\\n          North Salem\\n      </td>\\n      <td>\\n        423\\n\\n      </td>\\n    </tr>\\n    <tr>\\n      <td>\\n        477\\n      </td>\\n      <td>\\n          Somerset\\n      </td>\\n      <td>\\n        420\\n\\n      </td>\\n    </tr>\\n    <tr>\\n      <td>\\n        478\\n      </td>\\n      <td>\\n          Wilkinson\\n      </td>\\n      <td>\\n        413\\n\\n      </td>\\n    </tr>\\n    <tr>\\n      <td>\\n        479\\n      </td>\\n      <td>\\n          Burnettsville\\n      </td>\\n      <td>\\n        409\\n\\n      </td>\\n    </tr>\\n    <tr>\\n      <td>\\n        480\\n      </td>\\n      <td>\\n          Hartsville\\n      </td>\\n      <td>\\n        407\\n\\n      </td>\\n    </tr>\\n    <tr>\\n      <td>\\n        481\\n      </td>\\n      <td>\\n          Carbon\\n      </td>\\n      <td>\\n        402\\n\\n      </td>\\n    </tr>\\n    <tr>\\n      <td>\\n        482\\n      </td>\\n      <td>\\n          Manilla\\n      </td>\\n      <td>\\n        401\\n\\n      </td>\\n    </tr>\\n    <tr>\\n      <td>\\n        483\\n      </td>\\n      <td>\\n          Amboy\\n      </td>\\n      <td>\\n        400\\n\\n      </td>\\n    </tr>\\n    <tr>\\n      <td>\\n        484\\n          <span class=\\'badge badge-tie\\'>\\n            TIE\\n          </span>\\n      </td>\\n      <td>\\n          Clear Lake and Richland\\n      </td>\\n      <td>\\n        398\\n\\n      </td>\\n    </tr>\\n    <tr>\\n      <td>\\n        485\\n          <span class=\\'badge badge-tie\\'>\\n            TIE\\n          </span>\\n      </td>\\n      <td>\\n          Idaville and Shelby\\n      </td>\\n      <td>\\n        397\\n\\n      </td>\\n    </tr>\\n    <tr>\\n      <td>\\n        486\\n      </td>\\n      <td>\\n          Otwell\\n      </td>\\n      <td>\\n        390\\n\\n      </td>\\n    </tr>\\n    <tr>\\n      <td>\\n        487\\n      </td>\\n      <td>\\n          Vallonia\\n      </td>\\n      <td>\\n        388\\n\\n      </td>\\n    </tr>\\n    <tr>\\n      <td>\\n        488\\n          <span class=\\'badge badge-tie\\'>\\n            TIE\\n          </span>\\n      </td>\\n      <td>\\n          Troy and Staunton\\n      </td>\\n      <td>\\n        384\\n\\n      </td>\\n    </tr>\\n    <tr>\\n      <td>\\n        489\\n      </td>\\n      <td>\\n          Newport\\n      </td>\\n      <td>\\n        375\\n\\n      </td>\\n    </tr>\\n    <tr>\\n      <td>\\n        490\\n      </td>\\n      <td>\\n          Earl Park\\n      </td>\\n      <td>\\n        373\\n\\n      </td>\\n    </tr>\\n    <tr>\\n      <td>\\n        491\\n      </td>\\n      <td>\\n          New Point\\n      </td>\\n      <td>\\n        372\\n\\n      </td>\\n    </tr>\\n    <tr>\\n      <td>\\n        492\\n      </td>\\n      <td>\\n          Hazleton\\n      </td>\\n      <td>\\n        369\\n\\n      </td>\\n    </tr>\\n    <tr>\\n      <td>\\n        493\\n          <span class=\\'badge badge-tie\\'>\\n            TIE\\n          </span>\\n      </td>\\n      <td>\\n          Mecca and Russellville\\n      </td>\\n      <td>\\n        365\\n\\n      </td>\\n    </tr>\\n    <tr>\\n      <td>\\n        494\\n      </td>\\n      <td>\\n          Bloomingdale\\n      </td>\\n      <td>\\n        363\\n\\n      </td>\\n    </tr>\\n    <tr>\\n      <td>\\n        495\\n          <span class=\\'badge badge-tie\\'>\\n            TIE\\n          </span>\\n      </td>\\n      <td>\\n          Altona and Fulton\\n      </td>\\n      <td>\\n        358\\n\\n      </td>\\n    </tr>\\n    <tr>\\n      <td>\\n        496\\n      </td>\\n      <td>\\n          Norway\\n      </td>\\n      <td>\\n        355\\n\\n      </td>\\n    </tr>\\n    <tr>\\n      <td>\\n        497\\n      </td>\\n      <td>\\n          Roann\\n      </td>\\n      <td>\\n        352\\n\\n      </td>\\n    </tr>\\n    <tr>\\n      <td>\\n        498\\n      </td>\\n      <td>\\n          Milton\\n      </td>\\n      <td>\\n        351\\n\\n      </td>\\n    </tr>\\n    <tr>\\n      <td>\\n        499\\n      </td>\\n      <td>\\n          Monterey\\n      </td>\\n      <td>\\n        350\\n\\n      </td>\\n    </tr>\\n    <tr>\\n      <td>\\n        500\\n      </td>\\n      <td>\\n          Montmorenci\\n      </td>\\n      <td>\\n        348\\n\\n      </td>\\n    </tr>\\n    <tr>\\n      <td>\\n        501\\n          <span class=\\'badge badge-tie\\'>\\n            TIE\\n          </span>\\n      </td>\\n      <td>\\n          Kempton, Switz City, and Somerville\\n      </td>\\n      <td>\\n        343\\n\\n      </td>\\n    </tr>\\n    <tr>\\n      <td>\\n        502\\n      </td>\\n      <td>\\n          Plainville\\n      </td>\\n      <td>\\n        341\\n\\n      </td>\\n    </tr>\\n    <tr>\\n      <td>\\n        503\\n      </td>\\n      <td>\\n          Edwardsport\\n      </td>\\n      <td>\\n        340\\n\\n      </td>\\n    </tr>\\n    <tr>\\n      <td>\\n        504\\n      </td>\\n      <td>\\n          Freetown\\n      </td>\\n      <td>\\n        337\\n\\n      </td>\\n    </tr>\\n    <tr>\\n      <td>\\n        505\\n      </td>\\n      <td>\\n          Sulphur Springs\\n      </td>\\n      <td>\\n        335\\n\\n      </td>\\n    </tr>\\n    <tr>\\n      <td>\\n        506\\n      </td>\\n      <td>\\n          New Richmond\\n      </td>\\n      <td>\\n        333\\n\\n      </td>\\n    </tr>\\n    <tr>\\n      <td>\\n        507\\n      </td>\\n      <td>\\n          Leavenworth\\n      </td>\\n      <td>\\n        328\\n\\n      </td>\\n    </tr>\\n    <tr>\\n      <td>\\n        508\\n      </td>\\n      <td>\\n          East Germantown\\n      </td>\\n      <td>\\n        327\\n\\n      </td>\\n    </tr>\\n    <tr>\\n      <td>\\n        509\\n      </td>\\n      <td>\\n          Vernon\\n      </td>\\n      <td>\\n        326\\n\\n      </td>\\n    </tr>\\n    <tr>\\n      <td>\\n        510\\n      </td>\\n      <td>\\n          Universal\\n      </td>\\n      <td>\\n        325\\n\\n      </td>\\n    </tr>\\n    <tr>\\n      <td>\\n        511\\n      </td>\\n      <td>\\n          Dupont\\n      </td>\\n      <td>\\n        324\\n\\n      </td>\\n    </tr>\\n    <tr>\\n      <td>\\n        512\\n      </td>\\n      <td>\\n          Riley\\n      </td>\\n      <td>\\n        321\\n\\n      </td>\\n    </tr>\\n    <tr>\\n      <td>\\n        513\\n      </td>\\n      <td>\\n          Bruceville\\n      </td>\\n      <td>\\n        318\\n\\n      </td>\\n    </tr>\\n    <tr>\\n      <td>\\n        514\\n      </td>\\n      <td>\\n          Sandborn\\n      </td>\\n      <td>\\n        317\\n\\n      </td>\\n    </tr>\\n    <tr>\\n      <td>\\n        515\\n      </td>\\n      <td>\\n          Wheeler\\n      </td>\\n      <td>\\n        313\\n\\n      </td>\\n    </tr>\\n    <tr>\\n      <td>\\n        516\\n      </td>\\n      <td>\\n          Arlington\\n      </td>\\n      <td>\\n        312\\n\\n      </td>\\n    </tr>\\n    <tr>\\n      <td>\\n        517\\n      </td>\\n      <td>\\n          Larwill\\n      </td>\\n      <td>\\n        305\\n\\n      </td>\\n    </tr>\\n    <tr>\\n      <td>\\n        518\\n      </td>\\n      <td>\\n          Coalmont\\n      </td>\\n      <td>\\n        304\\n\\n      </td>\\n    </tr>\\n    <tr>\\n      <td>\\n        519\\n          <span class=\\'badge badge-tie\\'>\\n            TIE\\n          </span>\\n      </td>\\n      <td>\\n          Gentryville and Hanna\\n      </td>\\n      <td>\\n        295\\n\\n      </td>\\n    </tr>\\n    <tr>\\n      <td>\\n        520\\n      </td>\\n      <td>\\n          Michiana Shores\\n      </td>\\n      <td>\\n        294\\n\\n      </td>\\n    </tr>\\n    <tr>\\n      <td>\\n        521\\n      </td>\\n      <td>\\n          Marshall\\n      </td>\\n      <td>\\n        293\\n\\n      </td>\\n    </tr>\\n    <tr>\\n      <td>\\n        522\\n      </td>\\n      <td>\\n          Americus\\n      </td>\\n      <td>\\n        292\\n\\n      </td>\\n    </tr>\\n    <tr>\\n      <td>\\n        523\\n      </td>\\n      <td>\\n          Uniondale\\n      </td>\\n      <td>\\n        289\\n\\n      </td>\\n    </tr>\\n    <tr>\\n      <td>\\n        524\\n      </td>\\n      <td>\\n          Saratoga\\n      </td>\\n      <td>\\n        288\\n\\n      </td>\\n    </tr>\\n    <tr>\\n      <td>\\n        525\\n      </td>\\n      <td>\\n          Colburn\\n      </td>\\n      <td>\\n        287\\n\\n      </td>\\n    </tr>\\n    <tr>\\n      <td>\\n        526\\n      </td>\\n      <td>\\n          New Trenton\\n      </td>\\n      <td>\\n        283\\n\\n      </td>\\n    </tr>\\n    <tr>\\n      <td>\\n        527\\n      </td>\\n      <td>\\n          Clifford\\n      </td>\\n      <td>\\n        276\\n\\n      </td>\\n    </tr>\\n    <tr>\\n      <td>\\n        528\\n      </td>\\n      <td>\\n          West Harrison\\n      </td>\\n      <td>\\n        274\\n\\n      </td>\\n    </tr>\\n    <tr>\\n      <td>\\n        529\\n          <span class=\\'badge badge-tie\\'>\\n            TIE\\n          </span>\\n      </td>\\n      <td>\\n          Howe and Mooreland\\n      </td>\\n      <td>\\n        270\\n\\n      </td>\\n    </tr>\\n    <tr>\\n      <td>\\n        530\\n      </td>\\n      <td>\\n          Wingate\\n      </td>\\n      <td>\\n        268\\n\\n      </td>\\n    </tr>\\n    <tr>\\n      <td>\\n        531\\n      </td>\\n      <td>\\n          Center Point\\n      </td>\\n      <td>\\n        267\\n\\n      </td>\\n    </tr>\\n    <tr>\\n      <td>\\n        532\\n      </td>\\n      <td>\\n          Pottawattamie Park\\n      </td>\\n      <td>\\n        266\\n\\n      </td>\\n    </tr>\\n    <tr>\\n      <td>\\n        533\\n      </td>\\n      <td>\\n          Ragsdale\\n      </td>\\n      <td>\\n        265\\n\\n      </td>\\n    </tr>\\n    <tr>\\n      <td>\\n        534\\n          <span class=\\'badge badge-tie\\'>\\n            TIE\\n          </span>\\n      </td>\\n      <td>\\n          Fowlerton and Little York\\n      </td>\\n      <td>\\n        262\\n\\n      </td>\\n    </tr>\\n    <tr>\\n      <td>\\n        535\\n      </td>\\n      <td>\\n          Straughn\\n      </td>\\n      <td>\\n        260\\n\\n      </td>\\n    </tr>\\n    <tr>\\n      <td>\\n        536\\n          <span class=\\'badge badge-tie\\'>\\n            TIE\\n          </span>\\n      </td>\\n      <td>\\n          Ambia and Corunna\\n      </td>\\n      <td>\\n        255\\n\\n      </td>\\n    </tr>\\n    <tr>\\n      <td>\\n        537\\n      </td>\\n      <td>\\n          Glenwood\\n      </td>\\n      <td>\\n        254\\n\\n      </td>\\n    </tr>\\n    <tr>\\n      <td>\\n        538\\n      </td>\\n      <td>\\n          Shamrock Lakes\\n      </td>\\n      <td>\\n        252\\n\\n      </td>\\n    </tr>\\n    <tr>\\n      <td>\\n        539\\n      </td>\\n      <td>\\n          Macy\\n      </td>\\n      <td>\\n        250\\n\\n      </td>\\n    </tr>\\n    <tr>\\n      <td>\\n        540\\n      </td>\\n      <td>\\n          Tennyson\\n      </td>\\n      <td>\\n        248\\n\\n      </td>\\n    </tr>\\n    <tr>\\n      <td>\\n        541\\n      </td>\\n      <td>\\n          Jonesville\\n      </td>\\n      <td>\\n        247\\n\\n      </td>\\n    </tr>\\n    <tr>\\n      <td>\\n        542\\n      </td>\\n      <td>\\n          Decker\\n      </td>\\n      <td>\\n        241\\n\\n      </td>\\n    </tr>\\n    <tr>\\n      <td>\\n        543\\n          <span class=\\'badge badge-tie\\'>\\n            TIE\\n          </span>\\n      </td>\\n      <td>\\n          Williams and Stilesville\\n      </td>\\n      <td>\\n        235\\n\\n      </td>\\n    </tr>\\n    <tr>\\n      <td>\\n        544\\n          <span class=\\'badge badge-tie\\'>\\n            TIE\\n          </span>\\n      </td>\\n      <td>\\n          Napoleon and Schneider\\n      </td>\\n      <td>\\n        234\\n\\n      </td>\\n    </tr>\\n    <tr>\\n      <td>\\n        545\\n      </td>\\n      <td>\\n          Newtown\\n      </td>\\n      <td>\\n        230\\n\\n      </td>\\n    </tr>\\n    <tr>\\n      <td>\\n        546\\n      </td>\\n      <td>\\n          Blanford\\n      </td>\\n      <td>\\n        226\\n\\n      </td>\\n    </tr>\\n    <tr>\\n      <td>\\n        547\\n      </td>\\n      <td>\\n          Cadiz\\n      </td>\\n      <td>\\n        222\\n\\n      </td>\\n    </tr>\\n    <tr>\\n      <td>\\n        548\\n          <span class=\\'badge badge-tie\\'>\\n            TIE\\n          </span>\\n      </td>\\n      <td>\\n          Crane and East Enterprise\\n      </td>\\n      <td>\\n        219\\n\\n      </td>\\n    </tr>\\n    <tr>\\n      <td>\\n        549\\n      </td>\\n      <td>\\n          Pine Village\\n      </td>\\n      <td>\\n        218\\n\\n      </td>\\n    </tr>\\n    <tr>\\n      <td>\\n        550\\n      </td>\\n      <td>\\n          Toad Hop\\n      </td>\\n      <td>\\n        216\\n\\n      </td>\\n    </tr>\\n    <tr>\\n      <td>\\n        551\\n      </td>\\n      <td>\\n          Spring Lake\\n      </td>\\n      <td>\\n        214\\n\\n      </td>\\n    </tr>\\n    <tr>\\n      <td>\\n        552\\n      </td>\\n      <td>\\n          Stinesville\\n      </td>\\n      <td>\\n        213\\n\\n      </td>\\n    </tr>\\n    <tr>\\n      <td>\\n        553\\n      </td>\\n      <td>\\n          Jalapa\\n      </td>\\n      <td>\\n        212\\n\\n      </td>\\n    </tr>\\n    <tr>\\n      <td>\\n        554\\n      </td>\\n      <td>\\n          Dubois\\n      </td>\\n      <td>\\n        207\\n\\n      </td>\\n    </tr>\\n    <tr>\\n      <td>\\n        555\\n      </td>\\n      <td>\\n          Newberry\\n      </td>\\n      <td>\\n        199\\n\\n      </td>\\n    </tr>\\n    <tr>\\n      <td>\\n        556\\n      </td>\\n      <td>\\n          Dune Acres\\n      </td>\\n      <td>\\n        198\\n\\n      </td>\\n    </tr>\\n    <tr>\\n      <td>\\n        557\\n      </td>\\n      <td>\\n          Losantville\\n      </td>\\n      <td>\\n        197\\n\\n      </td>\\n    </tr>\\n    <tr>\\n      <td>\\n        558\\n      </td>\\n      <td>\\n          Merom\\n      </td>\\n      <td>\\n        193\\n\\n      </td>\\n    </tr>\\n    <tr>\\n      <td>\\n        559\\n          <span class=\\'badge badge-tie\\'>\\n            TIE\\n          </span>\\n      </td>\\n      <td>\\n          Ulen and Scotland\\n      </td>\\n      <td>\\n        192\\n\\n      </td>\\n    </tr>\\n    <tr>\\n      <td>\\n        560\\n      </td>\\n      <td>\\n          Modoc\\n      </td>\\n      <td>\\n        190\\n\\n      </td>\\n    </tr>\\n    <tr>\\n      <td>\\n        561\\n      </td>\\n      <td>\\n          Kingsbury\\n      </td>\\n      <td>\\n        186\\n\\n      </td>\\n    </tr>\\n    <tr>\\n      <td>\\n        562\\n      </td>\\n      <td>\\n          Butlerville\\n      </td>\\n      <td>\\n        181\\n\\n      </td>\\n    </tr>\\n    <tr>\\n      <td>\\n        563\\n      </td>\\n      <td>\\n          Point Isabel\\n      </td>\\n      <td>\\n        179\\n\\n      </td>\\n    </tr>\\n    <tr>\\n      <td>\\n        564\\n      </td>\\n      <td>\\n          Bryant\\n      </td>\\n      <td>\\n        177\\n\\n      </td>\\n    </tr>\\n    <tr>\\n      <td>\\n        565\\n          <span class=\\'badge badge-tie\\'>\\n            TIE\\n          </span>\\n      </td>\\n      <td>\\n          Indian Village and Poneto\\n      </td>\\n      <td>\\n        175\\n\\n      </td>\\n    </tr>\\n    <tr>\\n      <td>\\n        566\\n      </td>\\n      <td>\\n          State Line City\\n      </td>\\n      <td>\\n        173\\n\\n      </td>\\n    </tr>\\n    <tr>\\n      <td>\\n        567\\n      </td>\\n      <td>\\n          Star City\\n      </td>\\n      <td>\\n        171\\n\\n      </td>\\n    </tr>\\n    <tr>\\n      <td>\\n        568\\n      </td>\\n      <td>\\n          Fredericksburg\\n      </td>\\n      <td>\\n        168\\n\\n      </td>\\n    </tr>\\n    <tr>\\n      <td>\\n        569\\n      </td>\\n      <td>\\n          Cedar Grove\\n      </td>\\n      <td>\\n        167\\n\\n      </td>\\n    </tr>\\n    <tr>\\n      <td>\\n        570\\n      </td>\\n      <td>\\n          Millhousen\\n      </td>\\n      <td>\\n        164\\n\\n      </td>\\n    </tr>\\n    <tr>\\n      <td>\\n        571\\n      </td>\\n      <td>\\n          Buck Creek\\n      </td>\\n      <td>\\n        162\\n\\n      </td>\\n    </tr>\\n    <tr>\\n      <td>\\n        572\\n      </td>\\n      <td>\\n          Scipio\\n      </td>\\n      <td>\\n        158\\n\\n      </td>\\n    </tr>\\n    <tr>\\n      <td>\\n        573\\n          <span class=\\'badge badge-tie\\'>\\n            TIE\\n          </span>\\n      </td>\\n      <td>\\n          Elizabeth and Springport\\n      </td>\\n      <td>\\n        156\\n\\n      </td>\\n    </tr>\\n    <tr>\\n      <td>\\n        574\\n      </td>\\n      <td>\\n          Griffin\\n      </td>\\n      <td>\\n        152\\n\\n      </td>\\n    </tr>\\n    <tr>\\n      <td>\\n        575\\n      </td>\\n      <td>\\n          Metamora\\n      </td>\\n      <td>\\n        151\\n\\n      </td>\\n    </tr>\\n    <tr>\\n      <td>\\n        576\\n      </td>\\n      <td>\\n          Boston\\n      </td>\\n      <td>\\n        149\\n\\n      </td>\\n    </tr>\\n    <tr>\\n      <td>\\n        577\\n      </td>\\n      <td>\\n          Salamonia\\n      </td>\\n      <td>\\n        147\\n\\n      </td>\\n    </tr>\\n    <tr>\\n      <td>\\n        578\\n      </td>\\n      <td>\\n          Mount Etna\\n      </td>\\n      <td>\\n        145\\n\\n      </td>\\n    </tr>\\n    <tr>\\n      <td>\\n        579\\n      </td>\\n      <td>\\n          Herbst\\n      </td>\\n      <td>\\n        143\\n\\n      </td>\\n    </tr>\\n    <tr>\\n      <td>\\n        580\\n      </td>\\n      <td>\\n          Greensboro\\n      </td>\\n      <td>\\n        142\\n\\n      </td>\\n    </tr>\\n    <tr>\\n      <td>\\n        581\\n      </td>\\n      <td>\\n          Mellott\\n      </td>\\n      <td>\\n        140\\n\\n      </td>\\n    </tr>\\n    <tr>\\n      <td>\\n        582\\n          <span class=\\'badge badge-tie\\'>\\n            TIE\\n          </span>\\n      </td>\\n      <td>\\n          Crandall and Spurgeon\\n      </td>\\n      <td>\\n        139\\n\\n      </td>\\n    </tr>\\n    <tr>\\n      <td>\\n        583\\n      </td>\\n      <td>\\n          Dunreith\\n      </td>\\n      <td>\\n        138\\n\\n      </td>\\n    </tr>\\n    <tr>\\n      <td>\\n        584\\n      </td>\\n      <td>\\n          Hardinsburg\\n      </td>\\n      <td>\\n        137\\n\\n      </td>\\n    </tr>\\n    <tr>\\n      <td>\\n        585\\n      </td>\\n      <td>\\n          Economy\\n      </td>\\n      <td>\\n        135\\n\\n      </td>\\n    </tr>\\n    <tr>\\n      <td>\\n        586\\n      </td>\\n      <td>\\n          Yeoman\\n      </td>\\n      <td>\\n        134\\n\\n      </td>\\n    </tr>\\n    <tr>\\n      <td>\\n        587\\n      </td>\\n      <td>\\n          Mackey\\n      </td>\\n      <td>\\n        131\\n\\n      </td>\\n    </tr>\\n    <tr>\\n      <td>\\n        588\\n      </td>\\n      <td>\\n          Shepardsville\\n      </td>\\n      <td>\\n        130\\n\\n      </td>\\n    </tr>\\n    <tr>\\n      <td>\\n        589\\n          <span class=\\'badge badge-tie\\'>\\n            TIE\\n          </span>\\n      </td>\\n      <td>\\n          Cannelburg and Landess\\n      </td>\\n      <td>\\n        119\\n\\n      </td>\\n    </tr>\\n    <tr>\\n      <td>\\n        590\\n      </td>\\n      <td>\\n          Emison\\n      </td>\\n      <td>\\n        118\\n\\n      </td>\\n    </tr>\\n    <tr>\\n      <td>\\n        591\\n          <span class=\\'badge badge-tie\\'>\\n            TIE\\n          </span>\\n      </td>\\n      <td>\\n          Burket, New Middletown, and Brooksburg\\n      </td>\\n      <td>\\n        113\\n\\n      </td>\\n    </tr>\\n    <tr>\\n      <td>\\n        592\\n      </td>\\n      <td>\\n          Mount Ayr\\n      </td>\\n      <td>\\n        110\\n\\n      </td>\\n    </tr>\\n    <tr>\\n      <td>\\n        593\\n          <span class=\\'badge badge-tie\\'>\\n            TIE\\n          </span>\\n      </td>\\n      <td>\\n          Saltillo and Sims\\n      </td>\\n      <td>\\n        106\\n\\n      </td>\\n    </tr>\\n    <tr>\\n      <td>\\n        594\\n      </td>\\n      <td>\\n          Mount Auburn\\n      </td>\\n      <td>\\n        103\\n\\n      </td>\\n    </tr>\\n    <tr>\\n      <td>\\n        595\\n      </td>\\n      <td>\\n          Country Club Heights\\n      </td>\\n      <td>\\n        102\\n\\n      </td>\\n    </tr>\\n    <tr>\\n      <td>\\n        596\\n      </td>\\n      <td>\\n          Onward\\n      </td>\\n      <td>\\n        100\\n\\n      </td>\\n    </tr>\\n    <tr>\\n      <td>\\n        597\\n      </td>\\n      <td>\\n          Vera Cruz\\n      </td>\\n      <td>\\n        97\\n\\n      </td>\\n    </tr>\\n    <tr>\\n      <td>\\n        598\\n          <span class=\\'badge badge-tie\\'>\\n            TIE\\n          </span>\\n      </td>\\n      <td>\\n          Burns City and Livonia\\n      </td>\\n      <td>\\n        90\\n\\n      </td>\\n    </tr>\\n    <tr>\\n      <td>\\n        599\\n      </td>\\n      <td>\\n          Woodlawn Heights\\n      </td>\\n      <td>\\n        87\\n\\n      </td>\\n    </tr>\\n    <tr>\\n      <td>\\n        600\\n      </td>\\n      <td>\\n          San Pierre\\n      </td>\\n      <td>\\n        86\\n\\n      </td>\\n    </tr>\\n    <tr>\\n      <td>\\n        601\\n      </td>\\n      <td>\\n          Blountsville\\n      </td>\\n      <td>\\n        76\\n\\n      </td>\\n    </tr>\\n    <tr>\\n      <td>\\n        602\\n      </td>\\n      <td>\\n          Wallace\\n      </td>\\n      <td>\\n        74\\n\\n      </td>\\n    </tr>\\n    <tr>\\n      <td>\\n        603\\n          <span class=\\'badge badge-tie\\'>\\n            TIE\\n          </span>\\n      </td>\\n      <td>\\n          Canaan and Westphalia\\n      </td>\\n      <td>\\n        71\\n\\n      </td>\\n    </tr>\\n    <tr>\\n      <td>\\n        604\\n      </td>\\n      <td>\\n          Whitewater\\n      </td>\\n      <td>\\n        70\\n\\n      </td>\\n    </tr>\\n    <tr>\\n      <td>\\n        605\\n      </td>\\n      <td>\\n          Kent\\n      </td>\\n      <td>\\n        68\\n\\n      </td>\\n    </tr>\\n    <tr>\\n      <td>\\n        606\\n      </td>\\n      <td>\\n          Bethany\\n      </td>\\n      <td>\\n        62\\n\\n      </td>\\n    </tr>\\n    <tr>\\n      <td>\\n        607\\n      </td>\\n      <td>\\n          Sidney\\n      </td>\\n      <td>\\n        51\\n\\n      </td>\\n    </tr>\\n    <tr>\\n      <td>\\n        608\\n      </td>\\n      <td>\\n          Alfordsville\\n      </td>\\n      <td>\\n        49\\n\\n      </td>\\n    </tr>\\n    <tr>\\n      <td>\\n        609\\n          <span class=\\'badge badge-tie\\'>\\n            TIE\\n          </span>\\n      </td>\\n      <td>\\n          Deputy and Laconia\\n      </td>\\n      <td>\\n        47\\n\\n      </td>\\n    </tr>\\n    <tr>\\n      <td>\\n        610\\n          <span class=\\'badge badge-tie\\'>\\n            TIE\\n          </span>\\n      </td>\\n      <td>\\n          Mauckport and Clarksburg\\n      </td>\\n      <td>\\n        46\\n\\n      </td>\\n    </tr>\\n    <tr>\\n      <td>\\n        611\\n      </td>\\n      <td>\\n          Alamo\\n      </td>\\n      <td>\\n        43\\n\\n      </td>\\n    </tr>\\n    <tr>\\n      <td>\\n        612\\n      </td>\\n      <td>\\n          Mier\\n      </td>\\n      <td>\\n        41\\n\\n      </td>\\n    </tr>\\n    <tr>\\n      <td>\\n        613\\n      </td>\\n      <td>\\n          Dresser\\n      </td>\\n      <td>\\n        38\\n\\n      </td>\\n    </tr>\\n    <tr>\\n      <td>\\n        614\\n      </td>\\n      <td>\\n          Alton\\n      </td>\\n      <td>\\n        34\\n\\n      </td>\\n    </tr>\\n    <tr>\\n      <td>\\n        615\\n      </td>\\n      <td>\\n          Florence\\n      </td>\\n      <td>\\n        29\\n\\n      </td>\\n    </tr>\\n    <tr>\\n      <td>\\n        616\\n      </td>\\n      <td>\\n          Dover Hill\\n      </td>\\n      <td>\\n        26\\n\\n      </td>\\n    </tr>\\n    <tr>\\n      <td>\\n        617\\n      </td>\\n      <td>\\n          New Amsterdam\\n      </td>\\n      <td>\\n        15\\n\\n      </td>\\n    </tr>\\n    <tr>\\n      <td>\\n        618\\n      </td>\\n      <td>\\n          River Forest\\n      </td>\\n      <td>\\n        12\\n\\n      </td>\\n    </tr>\\n    <tr>\\n      <td>\\n        619\\n      </td>\\n      <td>\\n          Mount Carmel\\n      </td>\\n      <td>\\n        10\\n\\n      </td>\\n    </tr>\\n\\n\\n\\n\\t\\t<tr>\\n\\t\\t\\t<td colspan=\"3\">\\n\\t\\t\\t\\t<p class=\\'source\\'>The table above displays the most recent population estimates data for all cities where data are available from the following datasets:</p>\\n\\t\\t\\t\\t<ul class=\\'bulleted source\\'>\\n\\t\\t\\t\\t\\t<li>United States Census Bureau. Annual Estimates of the Resident Population: April 1, 2010 to July 1, 2019. U.S. Census Bureau, Population Division. Web. May 2020. http://www.census.gov/.</li>\\n\\t\\t\\t\\t\\t<li>United States Census Bureau. B01001 SEX BY AGE, 2019 American Community Survey 5-Year Estimates. U.S. Census Bureau, American Community Survey Office. Web. 10 December 2020. http://www.census.gov/.</li>\\n\\t\\t\\t\\t</ul>\\n\\t\\t\\t</td>\\n\\t\\t</tr>\\n\\t</table>\\n\\t</div>\\n</div>\\n\\n\\n\\n\\n\\t\\t<div class=\"row superfooter\">\\n\\t\\t\\t<div class=\"span3\">\\n\\t\\t\\t\\t<h3>Products &amp; Services</h3>\\n\\t\\t\\t\\t<ul>\\n\\t\\t\\t\\t\\t<li><a href=\"/demographics_reports\">Demographics Reports</a></li>\\n\\t\\t\\t\\t\\t<li><a href=\"/radius_reports\">Radius Reports</a></li>\\n\\t\\t\\t\\t\\t<li><a href=\"https://demographics-by-cubit.helpscoutdocs.com/\">FAQ</a></li>\\n\\t\\t\\t\\t\\t<li><a href=\"/about\">About Us</a></li>\\n\\t\\t\\t\\t</ul>\\n\\t\\t\\t</div>\\n\\t\\t\\t<div class=\"span3\">\\n\\t\\t\\t\\t<h3>Plumbing</h3>\\n\\t\\t\\t\\t<ul>\\n\\t\\t\\t\\t\\t<li><a href=\"/terms_and_conditions\">Terms &amp; Conditions</a></li>\\n\\t\\t\\t\\t\\t<li><a href=\"/terms_and_conditions#PRIVACY\">Privacy Policy</a></li>\\n\\t\\t\\t\\t\\t<li><a href=\"/sitemap\">Site Map</a></li>\\n\\t\\t\\t\\t</ul>\\n\\t\\t\\t</div>\\n\\t\\t\\t<div class=\"span3\">\\n\\t\\t\\t\\t<h3>Connect</h3>\\n\\t\\t\\t\\t<ul>\\n\\t\\t\\t\\t\\t<li class=\"icn_phone\">1-800-939-2130</li>\\n\\t\\t\\t\\t\\t<li><a class=\"icn_email\" href=\"/contact\">Contact Us</a></li>\\n\\t\\t\\t\\t</ul>\\n\\t\\t\\t\\t<div class=\\'newsletter-form\\'>\\n          <div class=\"createsend-button\" style=\"height:22px;display:inline-block;\" data-listid=\"y/32/256/B3D/5DE5FA8679E170E2\"></div>\\n\\t\\t\\t\\t\\t<script type=\"text/javascript\">\\n\\t\\t\\t\\t\\t(function () { var e = document.createElement(\\'script\\'); e.type = \\'text/javascript\\'; e.async = true; e.src = (\\'https:\\' == document.location.protocol ? \\'https\\' : \\'http\\') + \\'://btn.createsend1.com/js/sb.min.js?v=3\\'; e.className = \\'createsend-script\\'; var s = document.getElementsByTagName(\\'script\\')[0]; s.parentNode.insertBefore(e, s); })();\\n\\t\\t\\t\\t\\t</script>\\n\\n        </div>\\n\\t\\t\\t</div>\\n\\t\\t\\t<div class=\"span3\">\\n\\t\\t\\t\\t<p><img alt=\"Cubit logo\" src=\"https://d1llprvlh6ol41.cloudfront.net/assets/logo-eb57ef07d553e47e5af882206d4b58edadc460c6fd18c6aca9227cea9debb52c.gif\" /> <br><span class=\"copyright\">Copyright 2021 Cubit Planning, Inc.</span> </p>\\n\\t\\t\\t</div>\\n\\t\\t</div>\\n\\t</div>\\n\\n\\n\\n \\t<script src=\"//ajax.googleapis.com/ajax/libs/jquery/1.11.0/jquery.min.js\"></script>\\n \\t<script src=\"https://code.highcharts.com/4.0/highcharts.js\"></script>\\n\\n\\t<script src=\"https://d1llprvlh6ol41.cloudfront.net/assets/application-aab012d393a77cbb87a79bf865ee1f6ecd1a5318eaea26fd198160c1a81d789e.js\"></script>\\n\\n\\t\\n\\n\\n</body>\\n</html>\\n'"
      ]
     },
     "execution_count": 3,
     "metadata": {},
     "output_type": "execute_result"
    }
   ],
   "source": [
    "index = html.find('<table class=\"ranklist \">')\n",
    "html2 = html[index:]\n",
    "html2 # Not using print so we can see the new lines."
   ]
  },
  {
   "cell_type": "markdown",
   "id": "living-helena",
   "metadata": {},
   "source": [
    "Another way to parse a string is to use split."
   ]
  },
  {
   "cell_type": "code",
   "execution_count": 4,
   "id": "august-maine",
   "metadata": {},
   "outputs": [
    {
     "data": {
      "text/plain": [
       "620"
      ]
     },
     "execution_count": 4,
     "metadata": {},
     "output_type": "execute_result"
    }
   ],
   "source": [
    "split = html2.split(\"<tr>\\n      <td>\\n\")\n",
    "len(split)"
   ]
  },
  {
   "cell_type": "code",
   "execution_count": 5,
   "id": "broad-paper",
   "metadata": {},
   "outputs": [
    {
     "data": {
      "text/plain": [
       "'<table class=\"ranklist \">\\n\\t\\t<tr>\\n\\t\\t\\t<th>Rank</th>\\n\\t\\t\\t<th>City</th>\\n\\t\\t\\t<th>Population</th>\\n\\t\\t</tr>\\n\\t\\t    '"
      ]
     },
     "metadata": {},
     "output_type": "display_data"
    },
    {
     "name": "stdout",
     "output_type": "stream",
     "text": [
      "-----\n"
     ]
    },
    {
     "data": {
      "text/plain": [
       "'        1\\n      </td>\\n      <td>\\n          <a href=\"indianapolis-demographics\">Indianapolis</a>\\n      </td>\\n      <td>\\n        874,005\\n\\n      </td>\\n    </tr>\\n    '"
      ]
     },
     "metadata": {},
     "output_type": "display_data"
    },
    {
     "name": "stdout",
     "output_type": "stream",
     "text": [
      "-----\n"
     ]
    },
    {
     "data": {
      "text/plain": [
       "'        2\\n      </td>\\n      <td>\\n          <a href=\"fort-wayne-demographics\">Fort Wayne</a>\\n      </td>\\n      <td>\\n        265,752\\n\\n      </td>\\n    </tr>\\n    '"
      ]
     },
     "metadata": {},
     "output_type": "display_data"
    },
    {
     "name": "stdout",
     "output_type": "stream",
     "text": [
      "-----\n"
     ]
    },
    {
     "data": {
      "text/plain": [
       "'        3\\n      </td>\\n      <td>\\n          <a href=\"evansville-demographics\">Evansville</a>\\n      </td>\\n      <td>\\n        118,588\\n\\n      </td>\\n    </tr>\\n    '"
      ]
     },
     "metadata": {},
     "output_type": "display_data"
    },
    {
     "name": "stdout",
     "output_type": "stream",
     "text": [
      "-----\n"
     ]
    },
    {
     "data": {
      "text/plain": [
       "'        4\\n      </td>\\n      <td>\\n          <a href=\"south-bend-demographics\">South Bend</a>\\n      </td>\\n      <td>\\n        102,037\\n\\n      </td>\\n    </tr>\\n    '"
      ]
     },
     "metadata": {},
     "output_type": "display_data"
    },
    {
     "name": "stdout",
     "output_type": "stream",
     "text": [
      "-----\n"
     ]
    },
    {
     "data": {
      "text/plain": [
       "'        5\\n      </td>\\n      <td>\\n          <a href=\"carmel-demographics\">Carmel</a>\\n      </td>\\n      <td>\\n        97,464\\n\\n      </td>\\n    </tr>\\n    '"
      ]
     },
     "metadata": {},
     "output_type": "display_data"
    },
    {
     "name": "stdout",
     "output_type": "stream",
     "text": [
      "-----\n"
     ]
    },
    {
     "data": {
      "text/plain": [
       "'        6\\n      </td>\\n      <td>\\n          <a href=\"fishers-demographics\">Fishers</a>\\n      </td>\\n      <td>\\n        90,332\\n\\n      </td>\\n    </tr>\\n    '"
      ]
     },
     "metadata": {},
     "output_type": "display_data"
    },
    {
     "name": "stdout",
     "output_type": "stream",
     "text": [
      "-----\n"
     ]
    },
    {
     "data": {
      "text/plain": [
       "'        7\\n      </td>\\n      <td>\\n          <a href=\"bloomington-demographics\">Bloomington</a>\\n      </td>\\n      <td>\\n        84,116\\n\\n      </td>\\n    </tr>\\n    '"
      ]
     },
     "metadata": {},
     "output_type": "display_data"
    },
    {
     "name": "stdout",
     "output_type": "stream",
     "text": [
      "-----\n"
     ]
    },
    {
     "data": {
      "text/plain": [
       "'        8\\n      </td>\\n      <td>\\n          <a href=\"hammond-demographics\">Hammond</a>\\n      </td>\\n      <td>\\n        76,547\\n\\n      </td>\\n    </tr>\\n    '"
      ]
     },
     "metadata": {},
     "output_type": "display_data"
    },
    {
     "name": "stdout",
     "output_type": "stream",
     "text": [
      "-----\n"
     ]
    },
    {
     "data": {
      "text/plain": [
       "'        9\\n      </td>\\n      <td>\\n          <a href=\"gary-demographics\">Gary</a>\\n      </td>\\n      <td>\\n        76,010\\n\\n      </td>\\n    </tr>\\n    '"
      ]
     },
     "metadata": {},
     "output_type": "display_data"
    },
    {
     "name": "stdout",
     "output_type": "stream",
     "text": [
      "-----\n"
     ]
    },
    {
     "data": {
      "text/plain": [
       "'        10\\n      </td>\\n      <td>\\n          <a href=\"lafayette-demographics\">Lafayette</a>\\n      </td>\\n      <td>\\n        72,581\\n\\n      </td>\\n    </tr>\\n    '"
      ]
     },
     "metadata": {},
     "output_type": "display_data"
    },
    {
     "name": "stdout",
     "output_type": "stream",
     "text": [
      "-----\n"
     ]
    },
    {
     "data": {
      "text/plain": [
       "'        11\\n      </td>\\n      <td>\\n          <a href=\"muncie-demographics\">Muncie</a>\\n      </td>\\n      <td>\\n        68,750\\n\\n      </td>\\n    </tr>\\n    '"
      ]
     },
     "metadata": {},
     "output_type": "display_data"
    },
    {
     "name": "stdout",
     "output_type": "stream",
     "text": [
      "-----\n"
     ]
    },
    {
     "data": {
      "text/plain": [
       "'        12\\n      </td>\\n      <td>\\n          <a href=\"noblesville-demographics\">Noblesville</a>\\n      </td>\\n      <td>\\n        63,071\\n\\n      </td>\\n    </tr>\\n    '"
      ]
     },
     "metadata": {},
     "output_type": "display_data"
    },
    {
     "name": "stdout",
     "output_type": "stream",
     "text": [
      "-----\n"
     ]
    },
    {
     "data": {
      "text/plain": [
       "'        13\\n      </td>\\n      <td>\\n          <a href=\"terre-haute-demographics\">Terre Haute</a>\\n      </td>\\n      <td>\\n        60,673\\n\\n      </td>\\n    </tr>\\n    '"
      ]
     },
     "metadata": {},
     "output_type": "display_data"
    },
    {
     "name": "stdout",
     "output_type": "stream",
     "text": [
      "-----\n"
     ]
    },
    {
     "data": {
      "text/plain": [
       "'        14\\n      </td>\\n      <td>\\n          <a href=\"kokomo-demographics\">Kokomo</a>\\n      </td>\\n      <td>\\n        58,145\\n\\n      </td>\\n    </tr>\\n    '"
      ]
     },
     "metadata": {},
     "output_type": "display_data"
    },
    {
     "name": "stdout",
     "output_type": "stream",
     "text": [
      "-----\n"
     ]
    },
    {
     "data": {
      "text/plain": [
       "'        15\\n      </td>\\n      <td>\\n          <a href=\"greenwood-demographics\">Greenwood</a>\\n      </td>\\n      <td>\\n        57,764\\n\\n      </td>\\n    </tr>\\n    '"
      ]
     },
     "metadata": {},
     "output_type": "display_data"
    },
    {
     "name": "stdout",
     "output_type": "stream",
     "text": [
      "-----\n"
     ]
    },
    {
     "data": {
      "text/plain": [
       "'        16\\n      </td>\\n      <td>\\n          <a href=\"anderson-demographics\">Anderson</a>\\n      </td>\\n      <td>\\n        54,513\\n\\n      </td>\\n    </tr>\\n    '"
      ]
     },
     "metadata": {},
     "output_type": "display_data"
    },
    {
     "name": "stdout",
     "output_type": "stream",
     "text": [
      "-----\n"
     ]
    },
    {
     "data": {
      "text/plain": [
       "'        17\\n      </td>\\n      <td>\\n          <a href=\"elkhart-demographics\">Elkhart</a>\\n      </td>\\n      <td>\\n        52,257\\n\\n      </td>\\n    </tr>\\n    '"
      ]
     },
     "metadata": {},
     "output_type": "display_data"
    },
    {
     "name": "stdout",
     "output_type": "stream",
     "text": [
      "-----\n"
     ]
    },
    {
     "data": {
      "text/plain": [
       "'        18\\n      </td>\\n      <td>\\n          <a href=\"mishawaka-demographics\">Mishawaka</a>\\n      </td>\\n      <td>\\n        49,245\\n\\n      </td>\\n    </tr>\\n    '"
      ]
     },
     "metadata": {},
     "output_type": "display_data"
    },
    {
     "name": "stdout",
     "output_type": "stream",
     "text": [
      "-----\n"
     ]
    },
    {
     "data": {
      "text/plain": [
       "'        19\\n      </td>\\n      <td>\\n          <a href=\"lawrence-demographics\">Lawrence</a>\\n      </td>\\n      <td>\\n        48,699\\n\\n      </td>\\n    </tr>\\n    '"
      ]
     },
     "metadata": {},
     "output_type": "display_data"
    },
    {
     "name": "stdout",
     "output_type": "stream",
     "text": [
      "-----\n"
     ]
    },
    {
     "data": {
      "text/plain": [
       "'        20\\n      </td>\\n      <td>\\n          <a href=\"west-lafayette-demographics\">West Lafayette</a>\\n      </td>\\n      <td>\\n        48,551\\n\\n      </td>\\n    </tr>\\n    '"
      ]
     },
     "metadata": {},
     "output_type": "display_data"
    },
    {
     "name": "stdout",
     "output_type": "stream",
     "text": [
      "-----\n"
     ]
    },
    {
     "data": {
      "text/plain": [
       "'        21\\n      </td>\\n      <td>\\n          <a href=\"columbus-demographics\">Columbus</a>\\n      </td>\\n      <td>\\n        48,150\\n\\n      </td>\\n    </tr>\\n    '"
      ]
     },
     "metadata": {},
     "output_type": "display_data"
    },
    {
     "name": "stdout",
     "output_type": "stream",
     "text": [
      "-----\n"
     ]
    },
    {
     "data": {
      "text/plain": [
       "'        22\\n      </td>\\n      <td>\\n          <a href=\"jeffersonville-demographics\">Jeffersonville</a>\\n      </td>\\n      <td>\\n        47,673\\n\\n      </td>\\n    </tr>\\n    '"
      ]
     },
     "metadata": {},
     "output_type": "display_data"
    },
    {
     "name": "stdout",
     "output_type": "stream",
     "text": [
      "-----\n"
     ]
    },
    {
     "data": {
      "text/plain": [
       "'        23\\n      </td>\\n      <td>\\n          <a href=\"westfield-demographics\">Westfield</a>\\n      </td>\\n      <td>\\n        39,610\\n\\n      </td>\\n    </tr>\\n    '"
      ]
     },
     "metadata": {},
     "output_type": "display_data"
    },
    {
     "name": "stdout",
     "output_type": "stream",
     "text": [
      "-----\n"
     ]
    },
    {
     "data": {
      "text/plain": [
       "'        24\\n      </td>\\n      <td>\\n          <a href=\"portage-demographics\">Portage</a>\\n      </td>\\n      <td>\\n        36,648\\n\\n      </td>\\n    </tr>\\n    '"
      ]
     },
     "metadata": {},
     "output_type": "display_data"
    },
    {
     "name": "stdout",
     "output_type": "stream",
     "text": [
      "-----\n"
     ]
    },
    {
     "data": {
      "text/plain": [
       "'        25\\n      </td>\\n      <td>\\n          <a href=\"new-albany-demographics\">New Albany</a>\\n      </td>\\n      <td>\\n        36,647\\n\\n      </td>\\n    </tr>\\n    '"
      ]
     },
     "metadata": {},
     "output_type": "display_data"
    },
    {
     "name": "stdout",
     "output_type": "stream",
     "text": [
      "-----\n"
     ]
    },
    {
     "data": {
      "text/plain": [
       "'        26\\n      </td>\\n      <td>\\n          <a href=\"richmond-demographics\">Richmond</a>\\n      </td>\\n      <td>\\n        35,539\\n\\n      </td>\\n    </tr>\\n    '"
      ]
     },
     "metadata": {},
     "output_type": "display_data"
    },
    {
     "name": "stdout",
     "output_type": "stream",
     "text": [
      "-----\n"
     ]
    },
    {
     "data": {
      "text/plain": [
       "'        27\\n      </td>\\n      <td>\\n          <a href=\"merrillville-demographics\">Merrillville</a>\\n      </td>\\n      <td>\\n        34,889\\n\\n      </td>\\n    </tr>\\n    '"
      ]
     },
     "metadata": {},
     "output_type": "display_data"
    },
    {
     "name": "stdout",
     "output_type": "stream",
     "text": [
      "-----\n"
     ]
    },
    {
     "data": {
      "text/plain": [
       "'        28\\n      </td>\\n      <td>\\n          <a href=\"goshen-demographics\">Goshen</a>\\n      </td>\\n      <td>\\n        34,108\\n\\n      </td>\\n    </tr>\\n    '"
      ]
     },
     "metadata": {},
     "output_type": "display_data"
    },
    {
     "name": "stdout",
     "output_type": "stream",
     "text": [
      "-----\n"
     ]
    },
    {
     "data": {
      "text/plain": [
       "'        29\\n      </td>\\n      <td>\\n          <a href=\"valparaiso-demographics\">Valparaiso</a>\\n      </td>\\n      <td>\\n        33,355\\n\\n      </td>\\n    </tr>\\n    '"
      ]
     },
     "metadata": {},
     "output_type": "display_data"
    },
    {
     "name": "stdout",
     "output_type": "stream",
     "text": [
      "-----\n"
     ]
    },
    {
     "data": {
      "text/plain": [
       "'        30\\n      </td>\\n      <td>\\n          <a href=\"plainfield-demographics\">Plainfield</a>\\n      </td>\\n      <td>\\n        32,879\\n\\n      </td>\\n    </tr>\\n    '"
      ]
     },
     "metadata": {},
     "output_type": "display_data"
    },
    {
     "name": "stdout",
     "output_type": "stream",
     "text": [
      "-----\n"
     ]
    },
    {
     "data": {
      "text/plain": [
       "'        31\\n      </td>\\n      <td>\\n          <a href=\"michigan-city-demographics\">Michigan City</a>\\n      </td>\\n      <td>\\n        31,118\\n\\n      </td>\\n    </tr>\\n    '"
      ]
     },
     "metadata": {},
     "output_type": "display_data"
    },
    {
     "name": "stdout",
     "output_type": "stream",
     "text": [
      "-----\n"
     ]
    },
    {
     "data": {
      "text/plain": [
       "'        32\\n      </td>\\n      <td>\\n          <a href=\"granger-demographics\">Granger</a>\\n      </td>\\n      <td>\\n        30,776\\n\\n      </td>\\n    </tr>\\n    '"
      ]
     },
     "metadata": {},
     "output_type": "display_data"
    },
    {
     "name": "stdout",
     "output_type": "stream",
     "text": [
      "-----\n"
     ]
    },
    {
     "data": {
      "text/plain": [
       "'        33\\n      </td>\\n      <td>\\n          <a href=\"crown-point-demographics\">Crown Point</a>\\n      </td>\\n      <td>\\n        29,850\\n\\n      </td>\\n    </tr>\\n    '"
      ]
     },
     "metadata": {},
     "output_type": "display_data"
    },
    {
     "name": "stdout",
     "output_type": "stream",
     "text": [
      "-----\n"
     ]
    },
    {
     "data": {
      "text/plain": [
       "'        34\\n      </td>\\n      <td>\\n          <a href=\"schererville-demographics\">Schererville</a>\\n      </td>\\n      <td>\\n        28,590\\n\\n      </td>\\n    </tr>\\n    '"
      ]
     },
     "metadata": {},
     "output_type": "display_data"
    },
    {
     "name": "stdout",
     "output_type": "stream",
     "text": [
      "-----\n"
     ]
    },
    {
     "data": {
      "text/plain": [
       "'        35\\n      </td>\\n      <td>\\n          <a href=\"east-chicago-demographics\">East Chicago</a>\\n      </td>\\n      <td>\\n        28,201\\n\\n      </td>\\n    </tr>\\n    '"
      ]
     },
     "metadata": {},
     "output_type": "display_data"
    },
    {
     "name": "stdout",
     "output_type": "stream",
     "text": [
      "-----\n"
     ]
    },
    {
     "data": {
      "text/plain": [
       "'        36\\n      </td>\\n      <td>\\n          <a href=\"hobart-demographics\">Hobart</a>\\n      </td>\\n      <td>\\n        28,049\\n\\n      </td>\\n    </tr>\\n    '"
      ]
     },
     "metadata": {},
     "output_type": "display_data"
    },
    {
     "name": "stdout",
     "output_type": "stream",
     "text": [
      "-----\n"
     ]
    },
    {
     "data": {
      "text/plain": [
       "'        37\\n      </td>\\n      <td>\\n          <a href=\"marion-demographics\">Marion</a>\\n      </td>\\n      <td>\\n        27,956\\n\\n      </td>\\n    </tr>\\n    '"
      ]
     },
     "metadata": {},
     "output_type": "display_data"
    },
    {
     "name": "stdout",
     "output_type": "stream",
     "text": [
      "-----\n"
     ]
    },
    {
     "data": {
      "text/plain": [
       "'        38\\n      </td>\\n      <td>\\n          <a href=\"zionsville-demographics\">Zionsville</a>\\n      </td>\\n      <td>\\n        27,463\\n\\n      </td>\\n    </tr>\\n    '"
      ]
     },
     "metadata": {},
     "output_type": "display_data"
    },
    {
     "name": "stdout",
     "output_type": "stream",
     "text": [
      "-----\n"
     ]
    },
    {
     "data": {
      "text/plain": [
       "'        39\\n      </td>\\n      <td>\\n          <a href=\"brownsburg-demographics\">Brownsburg</a>\\n      </td>\\n      <td>\\n        26,046\\n\\n      </td>\\n    </tr>\\n    '"
      ]
     },
     "metadata": {},
     "output_type": "display_data"
    },
    {
     "name": "stdout",
     "output_type": "stream",
     "text": [
      "-----\n"
     ]
    },
    {
     "data": {
      "text/plain": [
       "'        40\\n      </td>\\n      <td>\\n          <a href=\"franklin-demographics\">Franklin</a>\\n      </td>\\n      <td>\\n        25,106\\n\\n      </td>\\n    </tr>\\n    '"
      ]
     },
     "metadata": {},
     "output_type": "display_data"
    },
    {
     "name": "stdout",
     "output_type": "stream",
     "text": [
      "-----\n"
     ]
    },
    {
     "data": {
      "text/plain": [
       "'        41\\n      </td>\\n      <td>\\n          <a href=\"munster-demographics\">Munster</a>\\n      </td>\\n      <td>\\n        22,689\\n\\n      </td>\\n    </tr>\\n    '"
      ]
     },
     "metadata": {},
     "output_type": "display_data"
    },
    {
     "name": "stdout",
     "output_type": "stream",
     "text": [
      "-----\n"
     ]
    },
    {
     "data": {
      "text/plain": [
       "'        42\\n      </td>\\n      <td>\\n          <a href=\"highland-demographics\">Highland</a>\\n      </td>\\n      <td>\\n        22,581\\n\\n      </td>\\n    </tr>\\n    '"
      ]
     },
     "metadata": {},
     "output_type": "display_data"
    },
    {
     "name": "stdout",
     "output_type": "stream",
     "text": [
      "-----\n"
     ]
    },
    {
     "data": {
      "text/plain": [
       "'        43\\n      </td>\\n      <td>\\n          <a href=\"greenfield-demographics\">Greenfield</a>\\n      </td>\\n      <td>\\n        22,160\\n\\n      </td>\\n    </tr>\\n    '"
      ]
     },
     "metadata": {},
     "output_type": "display_data"
    },
    {
     "name": "stdout",
     "output_type": "stream",
     "text": [
      "-----\n"
     ]
    },
    {
     "data": {
      "text/plain": [
       "'        44\\n      </td>\\n      <td>\\n          <a href=\"la-porte-demographics\">La Porte</a>\\n      </td>\\n      <td>\\n        21,577\\n\\n      </td>\\n    </tr>\\n    '"
      ]
     },
     "metadata": {},
     "output_type": "display_data"
    },
    {
     "name": "stdout",
     "output_type": "stream",
     "text": [
      "-----\n"
     ]
    },
    {
     "data": {
      "text/plain": [
       "'        45\\n      </td>\\n      <td>\\n          <a href=\"clarksville-demographics\">Clarksville</a>\\n      </td>\\n      <td>\\n        21,548\\n\\n      </td>\\n    </tr>\\n    '"
      ]
     },
     "metadata": {},
     "output_type": "display_data"
    },
    {
     "name": "stdout",
     "output_type": "stream",
     "text": [
      "-----\n"
     ]
    },
    {
     "data": {
      "text/plain": [
       "'        46\\n      </td>\\n      <td>\\n          <a href=\"seymour-demographics\">Seymour</a>\\n      </td>\\n      <td>\\n        19,623\\n\\n      </td>\\n    </tr>\\n    '"
      ]
     },
     "metadata": {},
     "output_type": "display_data"
    },
    {
     "name": "stdout",
     "output_type": "stream",
     "text": [
      "-----\n"
     ]
    },
    {
     "data": {
      "text/plain": [
       "'        47\\n      </td>\\n      <td>\\n          <a href=\"shelbyville-demographics\">Shelbyville</a>\\n      </td>\\n      <td>\\n        18,951\\n\\n      </td>\\n    </tr>\\n    '"
      ]
     },
     "metadata": {},
     "output_type": "display_data"
    },
    {
     "name": "stdout",
     "output_type": "stream",
     "text": [
      "-----\n"
     ]
    },
    {
     "data": {
      "text/plain": [
       "'        48\\n      </td>\\n      <td>\\n          <a href=\"logansport-demographics\">Logansport</a>\\n      </td>\\n      <td>\\n        17,966\\n\\n      </td>\\n    </tr>\\n    '"
      ]
     },
     "metadata": {},
     "output_type": "display_data"
    },
    {
     "name": "stdout",
     "output_type": "stream",
     "text": [
      "-----\n"
     ]
    },
    {
     "data": {
      "text/plain": [
       "'        49\\n      </td>\\n      <td>\\n          <a href=\"avon-demographics\">Avon</a>\\n      </td>\\n      <td>\\n        17,453\\n\\n      </td>\\n    </tr>\\n    '"
      ]
     },
     "metadata": {},
     "output_type": "display_data"
    },
    {
     "name": "stdout",
     "output_type": "stream",
     "text": [
      "-----\n"
     ]
    },
    {
     "data": {
      "text/plain": [
       "'        50\\n      </td>\\n      <td>\\n          <a href=\"st-john-demographics\">St. John</a>\\n      </td>\\n      <td>\\n        17,426\\n\\n      </td>\\n    </tr>\\n    '"
      ]
     },
     "metadata": {},
     "output_type": "display_data"
    },
    {
     "name": "stdout",
     "output_type": "stream",
     "text": [
      "-----\n"
     ]
    },
    {
     "data": {
      "text/plain": [
       "'        51\\n      </td>\\n      <td>\\n          <a href=\"vincennes-demographics\">Vincennes</a>\\n      </td>\\n      <td>\\n        17,304\\n\\n      </td>\\n    </tr>\\n    '"
      ]
     },
     "metadata": {},
     "output_type": "display_data"
    },
    {
     "name": "stdout",
     "output_type": "stream",
     "text": [
      "-----\n"
     ]
    },
    {
     "data": {
      "text/plain": [
       "'        52\\n      </td>\\n      <td>\\n          <a href=\"new-castle-demographics\">New Castle</a>\\n      </td>\\n      <td>\\n        17,287\\n\\n      </td>\\n    </tr>\\n    '"
      ]
     },
     "metadata": {},
     "output_type": "display_data"
    },
    {
     "name": "stdout",
     "output_type": "stream",
     "text": [
      "-----\n"
     ]
    },
    {
     "data": {
      "text/plain": [
       "'        53\\n      </td>\\n      <td>\\n          <a href=\"huntington-demographics\">Huntington</a>\\n      </td>\\n      <td>\\n        17,067\\n\\n      </td>\\n    </tr>\\n    '"
      ]
     },
     "metadata": {},
     "output_type": "display_data"
    },
    {
     "name": "stdout",
     "output_type": "stream",
     "text": [
      "-----\n"
     ]
    },
    {
     "data": {
      "text/plain": [
       "'        54\\n      </td>\\n      <td>\\n          <a href=\"new-haven-demographics\">New Haven</a>\\n      </td>\\n      <td>\\n        16,279\\n\\n      </td>\\n    </tr>\\n    '"
      ]
     },
     "metadata": {},
     "output_type": "display_data"
    },
    {
     "name": "stdout",
     "output_type": "stream",
     "text": [
      "-----\n"
     ]
    },
    {
     "data": {
      "text/plain": [
       "'        55\\n      </td>\\n      <td>\\n          <a href=\"griffith-demographics\">Griffith</a>\\n      </td>\\n      <td>\\n        16,228\\n\\n      </td>\\n    </tr>\\n    '"
      ]
     },
     "metadata": {},
     "output_type": "display_data"
    },
    {
     "name": "stdout",
     "output_type": "stream",
     "text": [
      "-----\n"
     ]
    },
    {
     "data": {
      "text/plain": [
       "'        56\\n      </td>\\n      <td>\\n          <a href=\"crawfordsville-demographics\">Crawfordsville</a>\\n      </td>\\n      <td>\\n        16,090\\n\\n      </td>\\n    </tr>\\n    '"
      ]
     },
     "metadata": {},
     "output_type": "display_data"
    },
    {
     "name": "stdout",
     "output_type": "stream",
     "text": [
      "-----\n"
     ]
    },
    {
     "data": {
      "text/plain": [
       "'        57\\n      </td>\\n      <td>\\n          <a href=\"dyer-demographics\">Dyer</a>\\n      </td>\\n      <td>\\n        15,953\\n\\n      </td>\\n    </tr>\\n    '"
      ]
     },
     "metadata": {},
     "output_type": "display_data"
    },
    {
     "name": "stdout",
     "output_type": "stream",
     "text": [
      "-----\n"
     ]
    },
    {
     "data": {
      "text/plain": [
       "'        58\\n      </td>\\n      <td>\\n          <a href=\"lebanon-demographics\">Lebanon</a>\\n      </td>\\n      <td>\\n        15,932\\n\\n      </td>\\n    </tr>\\n    '"
      ]
     },
     "metadata": {},
     "output_type": "display_data"
    },
    {
     "name": "stdout",
     "output_type": "stream",
     "text": [
      "-----\n"
     ]
    },
    {
     "data": {
      "text/plain": [
       "'        59\\n      </td>\\n      <td>\\n          <a href=\"jasper-demographics\">Jasper</a>\\n      </td>\\n      <td>\\n        15,827\\n\\n      </td>\\n    </tr>\\n    '"
      ]
     },
     "metadata": {},
     "output_type": "display_data"
    },
    {
     "name": "stdout",
     "output_type": "stream",
     "text": [
      "-----\n"
     ]
    },
    {
     "data": {
      "text/plain": [
       "'        60\\n      </td>\\n      <td>\\n          <a href=\"frankfort-demographics\">Frankfort</a>\\n      </td>\\n      <td>\\n        15,634\\n\\n      </td>\\n    </tr>\\n    '"
      ]
     },
     "metadata": {},
     "output_type": "display_data"
    },
    {
     "name": "stdout",
     "output_type": "stream",
     "text": [
      "-----\n"
     ]
    },
    {
     "data": {
      "text/plain": [
       "'        61\\n      </td>\\n      <td>\\n          <a href=\"warsaw-demographics\">Warsaw</a>\\n      </td>\\n      <td>\\n        15,458\\n\\n      </td>\\n    </tr>\\n    '"
      ]
     },
     "metadata": {},
     "output_type": "display_data"
    },
    {
     "name": "stdout",
     "output_type": "stream",
     "text": [
      "-----\n"
     ]
    },
    {
     "data": {
      "text/plain": [
       "'        62\\n      </td>\\n      <td>\\n          <a href=\"beech-grove-demographics\">Beech Grove</a>\\n      </td>\\n      <td>\\n        14,990\\n\\n      </td>\\n    </tr>\\n    '"
      ]
     },
     "metadata": {},
     "output_type": "display_data"
    },
    {
     "name": "stdout",
     "output_type": "stream",
     "text": [
      "-----\n"
     ]
    },
    {
     "data": {
      "text/plain": [
       "'        63\\n      </td>\\n      <td>\\n          <a href=\"chesterton-demographics\">Chesterton</a>\\n      </td>\\n      <td>\\n        14,119\\n\\n      </td>\\n    </tr>\\n    '"
      ]
     },
     "metadata": {},
     "output_type": "display_data"
    },
    {
     "name": "stdout",
     "output_type": "stream",
     "text": [
      "-----\n"
     ]
    },
    {
     "data": {
      "text/plain": [
       "'        64\\n      </td>\\n      <td>\\n          <a href=\"bedford-demographics\">Bedford</a>\\n      </td>\\n      <td>\\n        13,272\\n\\n      </td>\\n    </tr>\\n    '"
      ]
     },
     "metadata": {},
     "output_type": "display_data"
    },
    {
     "name": "stdout",
     "output_type": "stream",
     "text": [
      "-----\n"
     ]
    },
    {
     "data": {
      "text/plain": [
       "'        65\\n      </td>\\n      <td>\\n          <a href=\"connersville-demographics\">Connersville</a>\\n      </td>\\n      <td>\\n        13,165\\n\\n      </td>\\n    </tr>\\n    '"
      ]
     },
     "metadata": {},
     "output_type": "display_data"
    },
    {
     "name": "stdout",
     "output_type": "stream",
     "text": [
      "-----\n"
     ]
    },
    {
     "data": {
      "text/plain": [
       "'        66\\n      </td>\\n      <td>\\n          <a href=\"auburn-demographics\">Auburn</a>\\n      </td>\\n      <td>\\n        13,056\\n\\n      </td>\\n    </tr>\\n    '"
      ]
     },
     "metadata": {},
     "output_type": "display_data"
    },
    {
     "name": "stdout",
     "output_type": "stream",
     "text": [
      "-----\n"
     ]
    },
    {
     "data": {
      "text/plain": [
       "'        67\\n      </td>\\n      <td>\\n          <a href=\"cedar-lake-demographics\">Cedar Lake</a>\\n      </td>\\n      <td>\\n        12,491\\n\\n      </td>\\n    </tr>\\n    '"
      ]
     },
     "metadata": {},
     "output_type": "display_data"
    },
    {
     "name": "stdout",
     "output_type": "stream",
     "text": [
      "-----\n"
     ]
    },
    {
     "data": {
      "text/plain": [
       "'        68\\n      </td>\\n      <td>\\n          <a href=\"washington-demographics\">Washington</a>\\n      </td>\\n      <td>\\n        12,412\\n\\n      </td>\\n    </tr>\\n    '"
      ]
     },
     "metadata": {},
     "output_type": "display_data"
    },
    {
     "name": "stdout",
     "output_type": "stream",
     "text": [
      "-----\n"
     ]
    },
    {
     "data": {
      "text/plain": [
       "'        69\\n      </td>\\n      <td>\\n          <a href=\"speedway-demographics\">Speedway</a>\\n      </td>\\n      <td>\\n        12,266\\n\\n      </td>\\n    </tr>\\n    '"
      ]
     },
     "metadata": {},
     "output_type": "display_data"
    },
    {
     "name": "stdout",
     "output_type": "stream",
     "text": [
      "-----\n"
     ]
    },
    {
     "data": {
      "text/plain": [
       "'        70\\n      </td>\\n      <td>\\n          <a href=\"lake-station-demographics\">Lake Station</a>\\n      </td>\\n      <td>\\n        12,002\\n\\n      </td>\\n    </tr>\\n    '"
      ]
     },
     "metadata": {},
     "output_type": "display_data"
    },
    {
     "name": "stdout",
     "output_type": "stream",
     "text": [
      "-----\n"
     ]
    },
    {
     "data": {
      "text/plain": [
       "'        71\\n      </td>\\n      <td>\\n          <a href=\"madison-demographics\">Madison</a>\\n      </td>\\n      <td>\\n        11,813\\n\\n      </td>\\n    </tr>\\n    '"
      ]
     },
     "metadata": {},
     "output_type": "display_data"
    },
    {
     "name": "stdout",
     "output_type": "stream",
     "text": [
      "-----\n"
     ]
    },
    {
     "data": {
      "text/plain": [
       "'        72\\n      </td>\\n      <td>\\n          <a href=\"martinsville-demographics\">Martinsville</a>\\n      </td>\\n      <td>\\n        11,635\\n\\n      </td>\\n    </tr>\\n    '"
      ]
     },
     "metadata": {},
     "output_type": "display_data"
    },
    {
     "name": "stdout",
     "output_type": "stream",
     "text": [
      "-----\n"
     ]
    },
    {
     "data": {
      "text/plain": [
       "'        73\\n      </td>\\n      <td>\\n          <a href=\"peru-demographics\">Peru</a>\\n      </td>\\n      <td>\\n        11,584\\n\\n      </td>\\n    </tr>\\n    '"
      ]
     },
     "metadata": {},
     "output_type": "display_data"
    },
    {
     "name": "stdout",
     "output_type": "stream",
     "text": [
      "-----\n"
     ]
    },
    {
     "data": {
      "text/plain": [
       "'        74\\n      </td>\\n      <td>\\n          <a href=\"greensburg-demographics\">Greensburg</a>\\n      </td>\\n      <td>\\n        11,228\\n\\n      </td>\\n    </tr>\\n    '"
      ]
     },
     "metadata": {},
     "output_type": "display_data"
    },
    {
     "name": "stdout",
     "output_type": "stream",
     "text": [
      "-----\n"
     ]
    },
    {
     "data": {
      "text/plain": [
       "'        75\\n      </td>\\n      <td>\\n          <a href=\"yorktown-demographics\">Yorktown</a>\\n      </td>\\n      <td>\\n        11,143\\n\\n      </td>\\n    </tr>\\n    '"
      ]
     },
     "metadata": {},
     "output_type": "display_data"
    },
    {
     "name": "stdout",
     "output_type": "stream",
     "text": [
      "-----\n"
     ]
    },
    {
     "data": {
      "text/plain": [
       "'        76\\n      </td>\\n      <td>\\n          <a href=\"greencastle-demographics\">Greencastle</a>\\n      </td>\\n      <td>\\n        10,296\\n\\n      </td>\\n    </tr>\\n    '"
      ]
     },
     "metadata": {},
     "output_type": "display_data"
    },
    {
     "name": "stdout",
     "output_type": "stream",
     "text": [
      "-----\n"
     ]
    },
    {
     "data": {
      "text/plain": [
       "'        77\\n      </td>\\n      <td>\\n          <a href=\"wabash-demographics\">Wabash</a>\\n      </td>\\n      <td>\\n        10,089\\n\\n      </td>\\n    </tr>\\n    '"
      ]
     },
     "metadata": {},
     "output_type": "display_data"
    },
    {
     "name": "stdout",
     "output_type": "stream",
     "text": [
      "-----\n"
     ]
    },
    {
     "data": {
      "text/plain": [
       "'        78\\n      </td>\\n      <td>\\n          <a href=\"plymouth-demographics\">Plymouth</a>\\n      </td>\\n      <td>\\n        10,054\\n\\n      </td>\\n    </tr>\\n    '"
      ]
     },
     "metadata": {},
     "output_type": "display_data"
    },
    {
     "name": "stdout",
     "output_type": "stream",
     "text": [
      "-----\n"
     ]
    },
    {
     "data": {
      "text/plain": [
       "'        79\\n      </td>\\n      <td>\\n          <a href=\"danville-demographics\">Danville</a>\\n      </td>\\n      <td>\\n        9,923\\n\\n      </td>\\n    </tr>\\n    '"
      ]
     },
     "metadata": {},
     "output_type": "display_data"
    },
    {
     "name": "stdout",
     "output_type": "stream",
     "text": [
      "-----\n"
     ]
    },
    {
     "data": {
      "text/plain": [
       "'        80\\n      </td>\\n      <td>\\n          <a href=\"bluffton-demographics\">Bluffton</a>\\n      </td>\\n      <td>\\n        9,919\\n\\n      </td>\\n    </tr>\\n    '"
      ]
     },
     "metadata": {},
     "output_type": "display_data"
    },
    {
     "name": "stdout",
     "output_type": "stream",
     "text": [
      "-----\n"
     ]
    },
    {
     "data": {
      "text/plain": [
       "'        81\\n      </td>\\n      <td>\\n          <a href=\"decatur-demographics\">Decatur</a>\\n      </td>\\n      <td>\\n        9,863\\n\\n      </td>\\n    </tr>\\n    '"
      ]
     },
     "metadata": {},
     "output_type": "display_data"
    },
    {
     "name": "stdout",
     "output_type": "stream",
     "text": [
      "-----\n"
     ]
    },
    {
     "data": {
      "text/plain": [
       "'        82\\n      </td>\\n      <td>\\n          <a href=\"mooresville-demographics\">Mooresville</a>\\n      </td>\\n      <td>\\n        9,661\\n\\n      </td>\\n    </tr>\\n    '"
      ]
     },
     "metadata": {},
     "output_type": "display_data"
    },
    {
     "name": "stdout",
     "output_type": "stream",
     "text": [
      "-----\n"
     ]
    },
    {
     "data": {
      "text/plain": [
       "'        83\\n      </td>\\n      <td>\\n          <a href=\"lowell-demographics\">Lowell</a>\\n      </td>\\n      <td>\\n        9,659\\n\\n      </td>\\n    </tr>\\n    '"
      ]
     },
     "metadata": {},
     "output_type": "display_data"
    },
    {
     "name": "stdout",
     "output_type": "stream",
     "text": [
      "-----\n"
     ]
    },
    {
     "data": {
      "text/plain": [
       "'        84\\n      </td>\\n      <td>\\n          <a href=\"kendallville-demographics\">Kendallville</a>\\n      </td>\\n      <td>\\n        9,347\\n\\n      </td>\\n    </tr>\\n    '"
      ]
     },
     "metadata": {},
     "output_type": "display_data"
    },
    {
     "name": "stdout",
     "output_type": "stream",
     "text": [
      "-----\n"
     ]
    },
    {
     "data": {
      "text/plain": [
       "'        85\\n      </td>\\n      <td>\\n          <a href=\"columbia-city-demographics\">Columbia City</a>\\n      </td>\\n      <td>\\n        9,116\\n\\n      </td>\\n    </tr>\\n    '"
      ]
     },
     "metadata": {},
     "output_type": "display_data"
    },
    {
     "name": "stdout",
     "output_type": "stream",
     "text": [
      "-----\n"
     ]
    },
    {
     "data": {
      "text/plain": [
       "'        86\\n      </td>\\n      <td>\\n          <a href=\"sellersburg-demographics\">Sellersburg</a>\\n      </td>\\n      <td>\\n        9,066\\n\\n      </td>\\n    </tr>\\n    '"
      ]
     },
     "metadata": {},
     "output_type": "display_data"
    },
    {
     "name": "stdout",
     "output_type": "stream",
     "text": [
      "-----\n"
     ]
    },
    {
     "data": {
      "text/plain": [
       "'        87\\n      </td>\\n      <td>\\n          <a href=\"princeton-demographics\">Princeton</a>\\n      </td>\\n      <td>\\n        8,684\\n\\n      </td>\\n    </tr>\\n    '"
      ]
     },
     "metadata": {},
     "output_type": "display_data"
    },
    {
     "name": "stdout",
     "output_type": "stream",
     "text": [
      "-----\n"
     ]
    },
    {
     "data": {
      "text/plain": [
       "'        88\\n      </td>\\n      <td>\\n          <a href=\"angola-demographics\">Angola</a>\\n      </td>\\n      <td>\\n        8,660\\n\\n      </td>\\n    </tr>\\n    '"
      ]
     },
     "metadata": {},
     "output_type": "display_data"
    },
    {
     "name": "stdout",
     "output_type": "stream",
     "text": [
      "-----\n"
     ]
    },
    {
     "data": {
      "text/plain": [
       "'        89\\n      </td>\\n      <td>\\n          <a href=\"elwood-demographics\">Elwood</a>\\n      </td>\\n      <td>\\n        8,441\\n\\n      </td>\\n    </tr>\\n    '"
      ]
     },
     "metadata": {},
     "output_type": "display_data"
    },
    {
     "name": "stdout",
     "output_type": "stream",
     "text": [
      "-----\n"
     ]
    },
    {
     "data": {
      "text/plain": [
       "'        90\\n      </td>\\n      <td>\\n          <a href=\"brazil-demographics\">Brazil</a>\\n      </td>\\n      <td>\\n        8,380\\n\\n      </td>\\n    </tr>\\n    '"
      ]
     },
     "metadata": {},
     "output_type": "display_data"
    },
    {
     "name": "stdout",
     "output_type": "stream",
     "text": [
      "-----\n"
     ]
    },
    {
     "data": {
      "text/plain": [
       "'        91\\n      </td>\\n      <td>\\n          <a href=\"whitestown-demographics\">Whitestown</a>\\n      </td>\\n      <td>\\n        8,312\\n\\n      </td>\\n    </tr>\\n    '"
      ]
     },
     "metadata": {},
     "output_type": "display_data"
    },
    {
     "name": "stdout",
     "output_type": "stream",
     "text": [
      "-----\n"
     ]
    },
    {
     "data": {
      "text/plain": [
       "'        92\\n      </td>\\n      <td>\\n          <a href=\"charlestown-demographics\">Charlestown</a>\\n      </td>\\n      <td>\\n        8,199\\n\\n      </td>\\n    </tr>\\n    '"
      ]
     },
     "metadata": {},
     "output_type": "display_data"
    },
    {
     "name": "stdout",
     "output_type": "stream",
     "text": [
      "-----\n"
     ]
    },
    {
     "data": {
      "text/plain": [
       "'        93\\n      </td>\\n      <td>\\n          <a href=\"tell-city-demographics\">Tell City</a>\\n      </td>\\n      <td>\\n        7,256\\n\\n      </td>\\n    </tr>\\n    '"
      ]
     },
     "metadata": {},
     "output_type": "display_data"
    },
    {
     "name": "stdout",
     "output_type": "stream",
     "text": [
      "-----\n"
     ]
    },
    {
     "data": {
      "text/plain": [
       "'        94\\n      </td>\\n      <td>\\n          <a href=\"bargersville-demographics\">Bargersville</a>\\n      </td>\\n      <td>\\n        7,085\\n\\n      </td>\\n    </tr>\\n    '"
      ]
     },
     "metadata": {},
     "output_type": "display_data"
    },
    {
     "name": "stdout",
     "output_type": "stream",
     "text": [
      "-----\n"
     ]
    },
    {
     "data": {
      "text/plain": [
       "'        95\\n      </td>\\n      <td>\\n          <a href=\"nappanee-demographics\">Nappanee</a>\\n      </td>\\n      <td>\\n        7,033\\n\\n      </td>\\n    </tr>\\n    '"
      ]
     },
     "metadata": {},
     "output_type": "display_data"
    },
    {
     "name": "stdout",
     "output_type": "stream",
     "text": [
      "-----\n"
     ]
    },
    {
     "data": {
      "text/plain": [
       "'        96\\n      </td>\\n      <td>\\n          <a href=\"mccordsville-demographics\">McCordsville</a>\\n      </td>\\n      <td>\\n        6,857\\n\\n      </td>\\n    </tr>\\n    '"
      ]
     },
     "metadata": {},
     "output_type": "display_data"
    },
    {
     "name": "stdout",
     "output_type": "stream",
     "text": [
      "-----\n"
     ]
    },
    {
     "data": {
      "text/plain": [
       "'        97\\n      </td>\\n      <td>\\n          <a href=\"lakes-of-the-four-seasons-demographics\">Lakes of the Four Seasons</a>\\n      </td>\\n      <td>\\n        6,809\\n\\n      </td>\\n    </tr>\\n    '"
      ]
     },
     "metadata": {},
     "output_type": "display_data"
    },
    {
     "name": "stdout",
     "output_type": "stream",
     "text": [
      "-----\n"
     ]
    },
    {
     "data": {
      "text/plain": [
       "'        98\\n      </td>\\n      <td>\\n          <a href=\"huntertown-demographics\">Huntertown</a>\\n      </td>\\n      <td>\\n        6,789\\n\\n      </td>\\n    </tr>\\n    '"
      ]
     },
     "metadata": {},
     "output_type": "display_data"
    },
    {
     "name": "stdout",
     "output_type": "stream",
     "text": [
      "-----\n"
     ]
    },
    {
     "data": {
      "text/plain": [
       "'        99\\n      </td>\\n      <td>\\n          <a href=\"north-vernon-demographics\">North Vernon</a>\\n      </td>\\n      <td>\\n        6,735\\n\\n      </td>\\n    </tr>\\n    '"
      ]
     },
     "metadata": {},
     "output_type": "display_data"
    },
    {
     "name": "stdout",
     "output_type": "stream",
     "text": [
      "-----\n"
     ]
    },
    {
     "data": {
      "text/plain": [
       "'        100\\n      </td>\\n      <td>\\n          <a href=\"scottsburg-demographics\">Scottsburg</a>\\n      </td>\\n      <td>\\n        6,702\\n\\n      </td>\\n    </tr>\\n    '"
      ]
     },
     "metadata": {},
     "output_type": "display_data"
    },
    {
     "name": "stdout",
     "output_type": "stream",
     "text": [
      "-----\n"
     ]
    },
    {
     "data": {
      "text/plain": [
       "'        101\\n      </td>\\n      <td>\\n          Dunlap\\n      </td>\\n      <td>\\n        6,667\\n\\n      </td>\\n    </tr>\\n    '"
      ]
     },
     "metadata": {},
     "output_type": "display_data"
    },
    {
     "name": "stdout",
     "output_type": "stream",
     "text": [
      "-----\n"
     ]
    },
    {
     "data": {
      "text/plain": [
       "\"        102\\n          <span class='badge badge-tie'>\\n            TIE\\n          </span>\\n      </td>\\n      <td>\\n          Garrett and Batesville\\n      </td>\\n      <td>\\n        6,651\\n\\n      </td>\\n    </tr>\\n    \""
      ]
     },
     "metadata": {},
     "output_type": "display_data"
    },
    {
     "name": "stdout",
     "output_type": "stream",
     "text": [
      "-----\n"
     ]
    },
    {
     "data": {
      "text/plain": [
       "'        103\\n      </td>\\n      <td>\\n          Notre Dame\\n      </td>\\n      <td>\\n        6,646\\n\\n      </td>\\n    </tr>\\n    '"
      ]
     },
     "metadata": {},
     "output_type": "display_data"
    },
    {
     "name": "stdout",
     "output_type": "stream",
     "text": [
      "-----\n"
     ]
    },
    {
     "data": {
      "text/plain": [
       "'        104\\n      </td>\\n      <td>\\n          Ellettsville\\n      </td>\\n      <td>\\n        6,642\\n\\n      </td>\\n    </tr>\\n    '"
      ]
     },
     "metadata": {},
     "output_type": "display_data"
    },
    {
     "name": "stdout",
     "output_type": "stream",
     "text": [
      "-----\n"
     ]
    },
    {
     "data": {
      "text/plain": [
       "'        105\\n      </td>\\n      <td>\\n          Mount Vernon\\n      </td>\\n      <td>\\n        6,584\\n\\n      </td>\\n    </tr>\\n    '"
      ]
     },
     "metadata": {},
     "output_type": "display_data"
    },
    {
     "name": "stdout",
     "output_type": "stream",
     "text": [
      "-----\n"
     ]
    },
    {
     "data": {
      "text/plain": [
       "'        106\\n      </td>\\n      <td>\\n          Huntingburg\\n      </td>\\n      <td>\\n        6,522\\n\\n      </td>\\n    </tr>\\n    '"
      ]
     },
     "metadata": {},
     "output_type": "display_data"
    },
    {
     "name": "stdout",
     "output_type": "stream",
     "text": [
      "-----\n"
     ]
    },
    {
     "data": {
      "text/plain": [
       "'        107\\n      </td>\\n      <td>\\n          Rensselaer\\n      </td>\\n      <td>\\n        6,324\\n\\n      </td>\\n    </tr>\\n    '"
      ]
     },
     "metadata": {},
     "output_type": "display_data"
    },
    {
     "name": "stdout",
     "output_type": "stream",
     "text": [
      "-----\n"
     ]
    },
    {
     "data": {
      "text/plain": [
       "'        108\\n      </td>\\n      <td>\\n          Boonville\\n      </td>\\n      <td>\\n        6,292\\n\\n      </td>\\n    </tr>\\n    '"
      ]
     },
     "metadata": {},
     "output_type": "display_data"
    },
    {
     "name": "stdout",
     "output_type": "stream",
     "text": [
      "-----\n"
     ]
    },
    {
     "data": {
      "text/plain": [
       "'        109\\n      </td>\\n      <td>\\n          Salem\\n      </td>\\n      <td>\\n        6,172\\n\\n      </td>\\n    </tr>\\n    '"
      ]
     },
     "metadata": {},
     "output_type": "display_data"
    },
    {
     "name": "stdout",
     "output_type": "stream",
     "text": [
      "-----\n"
     ]
    },
    {
     "data": {
      "text/plain": [
       "'        110\\n      </td>\\n      <td>\\n          New Whiteland\\n      </td>\\n      <td>\\n        6,051\\n\\n      </td>\\n    </tr>\\n    '"
      ]
     },
     "metadata": {},
     "output_type": "display_data"
    },
    {
     "name": "stdout",
     "output_type": "stream",
     "text": [
      "-----\n"
     ]
    },
    {
     "data": {
      "text/plain": [
       "'        111\\n      </td>\\n      <td>\\n          Rushville\\n      </td>\\n      <td>\\n        6,050\\n\\n      </td>\\n    </tr>\\n    '"
      ]
     },
     "metadata": {},
     "output_type": "display_data"
    },
    {
     "name": "stdout",
     "output_type": "stream",
     "text": [
      "-----\n"
     ]
    },
    {
     "data": {
      "text/plain": [
       "'        112\\n      </td>\\n      <td>\\n          Rochester\\n      </td>\\n      <td>\\n        6,045\\n\\n      </td>\\n    </tr>\\n    '"
      ]
     },
     "metadata": {},
     "output_type": "display_data"
    },
    {
     "name": "stdout",
     "output_type": "stream",
     "text": [
      "-----\n"
     ]
    },
    {
     "data": {
      "text/plain": [
       "'        113\\n      </td>\\n      <td>\\n          Portland\\n      </td>\\n      <td>\\n        5,886\\n\\n      </td>\\n    </tr>\\n    '"
      ]
     },
     "metadata": {},
     "output_type": "display_data"
    },
    {
     "name": "stdout",
     "output_type": "stream",
     "text": [
      "-----\n"
     ]
    },
    {
     "data": {
      "text/plain": [
       "'        114\\n      </td>\\n      <td>\\n          Westville\\n      </td>\\n      <td>\\n        5,848\\n\\n      </td>\\n    </tr>\\n    '"
      ]
     },
     "metadata": {},
     "output_type": "display_data"
    },
    {
     "name": "stdout",
     "output_type": "stream",
     "text": [
      "-----\n"
     ]
    },
    {
     "data": {
      "text/plain": [
       "'        115\\n      </td>\\n      <td>\\n          Hartford City\\n      </td>\\n      <td>\\n        5,831\\n\\n      </td>\\n    </tr>\\n    '"
      ]
     },
     "metadata": {},
     "output_type": "display_data"
    },
    {
     "name": "stdout",
     "output_type": "stream",
     "text": [
      "-----\n"
     ]
    },
    {
     "data": {
      "text/plain": [
       "'        116\\n      </td>\\n      <td>\\n          Bright\\n      </td>\\n      <td>\\n        5,816\\n\\n      </td>\\n    </tr>\\n    '"
      ]
     },
     "metadata": {},
     "output_type": "display_data"
    },
    {
     "name": "stdout",
     "output_type": "stream",
     "text": [
      "-----\n"
     ]
    },
    {
     "data": {
      "text/plain": [
       "'        117\\n      </td>\\n      <td>\\n          Gas City\\n      </td>\\n      <td>\\n        5,802\\n\\n      </td>\\n    </tr>\\n    '"
      ]
     },
     "metadata": {},
     "output_type": "display_data"
    },
    {
     "name": "stdout",
     "output_type": "stream",
     "text": [
      "-----\n"
     ]
    },
    {
     "data": {
      "text/plain": [
       "'        118\\n      </td>\\n      <td>\\n          Cumberland\\n      </td>\\n      <td>\\n        5,718\\n\\n      </td>\\n    </tr>\\n    '"
      ]
     },
     "metadata": {},
     "output_type": "display_data"
    },
    {
     "name": "stdout",
     "output_type": "stream",
     "text": [
      "-----\n"
     ]
    },
    {
     "data": {
      "text/plain": [
       "'        119\\n      </td>\\n      <td>\\n          North Manchester\\n      </td>\\n      <td>\\n        5,710\\n\\n      </td>\\n    </tr>\\n    '"
      ]
     },
     "metadata": {},
     "output_type": "display_data"
    },
    {
     "name": "stdout",
     "output_type": "stream",
     "text": [
      "-----\n"
     ]
    },
    {
     "data": {
      "text/plain": [
       "'        120\\n      </td>\\n      <td>\\n          Winfield\\n      </td>\\n      <td>\\n        5,705\\n\\n      </td>\\n    </tr>\\n    '"
      ]
     },
     "metadata": {},
     "output_type": "display_data"
    },
    {
     "name": "stdout",
     "output_type": "stream",
     "text": [
      "-----\n"
     ]
    },
    {
     "data": {
      "text/plain": [
       "'        121\\n      </td>\\n      <td>\\n          Hidden Valley\\n      </td>\\n      <td>\\n        5,531\\n\\n      </td>\\n    </tr>\\n    '"
      ]
     },
     "metadata": {},
     "output_type": "display_data"
    },
    {
     "name": "stdout",
     "output_type": "stream",
     "text": [
      "-----\n"
     ]
    },
    {
     "data": {
      "text/plain": [
       "'        122\\n      </td>\\n      <td>\\n          Simonton Lake\\n      </td>\\n      <td>\\n        5,362\\n\\n      </td>\\n    </tr>\\n    '"
      ]
     },
     "metadata": {},
     "output_type": "display_data"
    },
    {
     "name": "stdout",
     "output_type": "stream",
     "text": [
      "-----\n"
     ]
    },
    {
     "data": {
      "text/plain": [
       "'        123\\n      </td>\\n      <td>\\n          Monticello\\n      </td>\\n      <td>\\n        5,262\\n\\n      </td>\\n    </tr>\\n    '"
      ]
     },
     "metadata": {},
     "output_type": "display_data"
    },
    {
     "name": "stdout",
     "output_type": "stream",
     "text": [
      "-----\n"
     ]
    },
    {
     "data": {
      "text/plain": [
       "'        124\\n      </td>\\n      <td>\\n          Linton\\n      </td>\\n      <td>\\n        5,244\\n\\n      </td>\\n    </tr>\\n    '"
      ]
     },
     "metadata": {},
     "output_type": "display_data"
    },
    {
     "name": "stdout",
     "output_type": "stream",
     "text": [
      "-----\n"
     ]
    },
    {
     "data": {
      "text/plain": [
       "'        125\\n      </td>\\n      <td>\\n          South Haven\\n      </td>\\n      <td>\\n        5,092\\n\\n      </td>\\n    </tr>\\n    '"
      ]
     },
     "metadata": {},
     "output_type": "display_data"
    },
    {
     "name": "stdout",
     "output_type": "stream",
     "text": [
      "-----\n"
     ]
    },
    {
     "data": {
      "text/plain": [
       "'        126\\n      </td>\\n      <td>\\n          Alexandria\\n      </td>\\n      <td>\\n        4,988\\n\\n      </td>\\n    </tr>\\n    '"
      ]
     },
     "metadata": {},
     "output_type": "display_data"
    },
    {
     "name": "stdout",
     "output_type": "stream",
     "text": [
      "-----\n"
     ]
    },
    {
     "data": {
      "text/plain": [
       "'        127\\n      </td>\\n      <td>\\n          Lawrenceburg\\n      </td>\\n      <td>\\n        4,981\\n\\n      </td>\\n    </tr>\\n    '"
      ]
     },
     "metadata": {},
     "output_type": "display_data"
    },
    {
     "name": "stdout",
     "output_type": "stream",
     "text": [
      "-----\n"
     ]
    },
    {
     "data": {
      "text/plain": [
       "'        128\\n      </td>\\n      <td>\\n          Tipton\\n      </td>\\n      <td>\\n        4,969\\n\\n      </td>\\n    </tr>\\n    '"
      ]
     },
     "metadata": {},
     "output_type": "display_data"
    },
    {
     "name": "stdout",
     "output_type": "stream",
     "text": [
      "-----\n"
     ]
    },
    {
     "data": {
      "text/plain": [
       "'        129\\n      </td>\\n      <td>\\n          Winona Lake\\n      </td>\\n      <td>\\n        4,910\\n\\n      </td>\\n    </tr>\\n    '"
      ]
     },
     "metadata": {},
     "output_type": "display_data"
    },
    {
     "name": "stdout",
     "output_type": "stream",
     "text": [
      "-----\n"
     ]
    },
    {
     "data": {
      "text/plain": [
       "'        130\\n      </td>\\n      <td>\\n          Cicero\\n      </td>\\n      <td>\\n        4,891\\n\\n      </td>\\n    </tr>\\n    '"
      ]
     },
     "metadata": {},
     "output_type": "display_data"
    },
    {
     "name": "stdout",
     "output_type": "stream",
     "text": [
      "-----\n"
     ]
    },
    {
     "data": {
      "text/plain": [
       "'        131\\n      </td>\\n      <td>\\n          Porter\\n      </td>\\n      <td>\\n        4,817\\n\\n      </td>\\n    </tr>\\n    '"
      ]
     },
     "metadata": {},
     "output_type": "display_data"
    },
    {
     "name": "stdout",
     "output_type": "stream",
     "text": [
      "-----\n"
     ]
    },
    {
     "data": {
      "text/plain": [
       "'        132\\n      </td>\\n      <td>\\n          Whiting\\n      </td>\\n      <td>\\n        4,814\\n\\n      </td>\\n    </tr>\\n    '"
      ]
     },
     "metadata": {},
     "output_type": "display_data"
    },
    {
     "name": "stdout",
     "output_type": "stream",
     "text": [
      "-----\n"
     ]
    },
    {
     "data": {
      "text/plain": [
       "'        133\\n      </td>\\n      <td>\\n          Edinburgh\\n      </td>\\n      <td>\\n        4,792\\n\\n      </td>\\n    </tr>\\n    '"
      ]
     },
     "metadata": {},
     "output_type": "display_data"
    },
    {
     "name": "stdout",
     "output_type": "stream",
     "text": [
      "-----\n"
     ]
    },
    {
     "data": {
      "text/plain": [
       "'        134\\n      </td>\\n      <td>\\n          Winchester\\n      </td>\\n      <td>\\n        4,739\\n\\n      </td>\\n    </tr>\\n    '"
      ]
     },
     "metadata": {},
     "output_type": "display_data"
    },
    {
     "name": "stdout",
     "output_type": "stream",
     "text": [
      "-----\n"
     ]
    },
    {
     "data": {
      "text/plain": [
       "'        135\\n      </td>\\n      <td>\\n          Clinton\\n      </td>\\n      <td>\\n        4,706\\n\\n      </td>\\n    </tr>\\n    '"
      ]
     },
     "metadata": {},
     "output_type": "display_data"
    },
    {
     "name": "stdout",
     "output_type": "stream",
     "text": [
      "-----\n"
     ]
    },
    {
     "data": {
      "text/plain": [
       "'        136\\n      </td>\\n      <td>\\n          Ligonier\\n      </td>\\n      <td>\\n        4,654\\n\\n      </td>\\n    </tr>\\n    '"
      ]
     },
     "metadata": {},
     "output_type": "display_data"
    },
    {
     "name": "stdout",
     "output_type": "stream",
     "text": [
      "-----\n"
     ]
    },
    {
     "data": {
      "text/plain": [
       "'        137\\n      </td>\\n      <td>\\n          Highland CDP\\n      </td>\\n      <td>\\n        4,609\\n\\n      </td>\\n    </tr>\\n    '"
      ]
     },
     "metadata": {},
     "output_type": "display_data"
    },
    {
     "name": "stdout",
     "output_type": "stream",
     "text": [
      "-----\n"
     ]
    },
    {
     "data": {
      "text/plain": [
       "'        138\\n      </td>\\n      <td>\\n          Fortville\\n      </td>\\n      <td>\\n        4,574\\n\\n      </td>\\n    </tr>\\n    '"
      ]
     },
     "metadata": {},
     "output_type": "display_data"
    },
    {
     "name": "stdout",
     "output_type": "stream",
     "text": [
      "-----\n"
     ]
    },
    {
     "data": {
      "text/plain": [
       "'        139\\n      </td>\\n      <td>\\n          Bremen\\n      </td>\\n      <td>\\n        4,505\\n\\n      </td>\\n    </tr>\\n    '"
      ]
     },
     "metadata": {},
     "output_type": "display_data"
    },
    {
     "name": "stdout",
     "output_type": "stream",
     "text": [
      "-----\n"
     ]
    },
    {
     "data": {
      "text/plain": [
       "'        140\\n      </td>\\n      <td>\\n          Whiteland\\n      </td>\\n      <td>\\n        4,423\\n\\n      </td>\\n    </tr>\\n    '"
      ]
     },
     "metadata": {},
     "output_type": "display_data"
    },
    {
     "name": "stdout",
     "output_type": "stream",
     "text": [
      "-----\n"
     ]
    },
    {
     "data": {
      "text/plain": [
       "'        141\\n      </td>\\n      <td>\\n          North Terre Haute\\n      </td>\\n      <td>\\n        4,339\\n\\n      </td>\\n    </tr>\\n    '"
      ]
     },
     "metadata": {},
     "output_type": "display_data"
    },
    {
     "name": "stdout",
     "output_type": "stream",
     "text": [
      "-----\n"
     ]
    },
    {
     "data": {
      "text/plain": [
       "'        142\\n      </td>\\n      <td>\\n          Greendale\\n      </td>\\n      <td>\\n        4,279\\n\\n      </td>\\n    </tr>\\n    '"
      ]
     },
     "metadata": {},
     "output_type": "display_data"
    },
    {
     "name": "stdout",
     "output_type": "stream",
     "text": [
      "-----\n"
     ]
    },
    {
     "data": {
      "text/plain": [
       "'        143\\n      </td>\\n      <td>\\n          Mitchell\\n      </td>\\n      <td>\\n        4,261\\n\\n      </td>\\n    </tr>\\n    '"
      ]
     },
     "metadata": {},
     "output_type": "display_data"
    },
    {
     "name": "stdout",
     "output_type": "stream",
     "text": [
      "-----\n"
     ]
    },
    {
     "data": {
      "text/plain": [
       "'        144\\n      </td>\\n      <td>\\n          Pendleton\\n      </td>\\n      <td>\\n        4,246\\n\\n      </td>\\n    </tr>\\n    '"
      ]
     },
     "metadata": {},
     "output_type": "display_data"
    },
    {
     "name": "stdout",
     "output_type": "stream",
     "text": [
      "-----\n"
     ]
    },
    {
     "data": {
      "text/plain": [
       "'        145\\n      </td>\\n      <td>\\n          Berne\\n      </td>\\n      <td>\\n        4,235\\n\\n      </td>\\n    </tr>\\n    '"
      ]
     },
     "metadata": {},
     "output_type": "display_data"
    },
    {
     "name": "stdout",
     "output_type": "stream",
     "text": [
      "-----\n"
     ]
    },
    {
     "data": {
      "text/plain": [
       "'        146\\n      </td>\\n      <td>\\n          Sullivan\\n      </td>\\n      <td>\\n        4,082\\n\\n      </td>\\n    </tr>\\n    '"
      ]
     },
     "metadata": {},
     "output_type": "display_data"
    },
    {
     "name": "stdout",
     "output_type": "stream",
     "text": [
      "-----\n"
     ]
    },
    {
     "data": {
      "text/plain": [
       "'        147\\n      </td>\\n      <td>\\n          De Motte\\n      </td>\\n      <td>\\n        4,054\\n\\n      </td>\\n    </tr>\\n    '"
      ]
     },
     "metadata": {},
     "output_type": "display_data"
    },
    {
     "name": "stdout",
     "output_type": "stream",
     "text": [
      "-----\n"
     ]
    },
    {
     "data": {
      "text/plain": [
       "'        148\\n      </td>\\n      <td>\\n          Aurora\\n      </td>\\n      <td>\\n        3,995\\n\\n      </td>\\n    </tr>\\n    '"
      ]
     },
     "metadata": {},
     "output_type": "display_data"
    },
    {
     "name": "stdout",
     "output_type": "stream",
     "text": [
      "-----\n"
     ]
    },
    {
     "data": {
      "text/plain": [
       "'        149\\n      </td>\\n      <td>\\n          Roselawn\\n      </td>\\n      <td>\\n        3,954\\n\\n      </td>\\n    </tr>\\n    '"
      ]
     },
     "metadata": {},
     "output_type": "display_data"
    },
    {
     "name": "stdout",
     "output_type": "stream",
     "text": [
      "-----\n"
     ]
    }
   ],
   "source": [
    "# Let's see how this worked\n",
    "for i in range(0,150):\n",
    "    display(split[i]) # display works the same as having the object at the end of the cell.\n",
    "    print(\"-----\") # To better see the splits"
   ]
  },
  {
   "cell_type": "code",
   "execution_count": 15,
   "id": "wooden-loading",
   "metadata": {},
   "outputs": [
    {
     "data": {
      "text/plain": [
       "'    </td>\\n      <td>\\n          Leo-Cedarville\\n      </td>\\n      <td>\\n        3,788\\n\\n      </td>\\n    </tr>\\n   '"
      ]
     },
     "execution_count": 15,
     "metadata": {},
     "output_type": "execute_result"
    }
   ],
   "source": [
    "# Cities\n",
    "i=150 # So we can easily change the index\n",
    "cityStart = split[i].find('-demographics\">')\n",
    "cityStop = split[i].find('</a>')\n",
    "split[i][cityStart+15:cityStop]"
   ]
  },
  {
   "cell_type": "code",
   "execution_count": 14,
   "id": "british-strike",
   "metadata": {},
   "outputs": [
    {
     "data": {
      "text/plain": [
       "''"
      ]
     },
     "execution_count": 14,
     "metadata": {},
     "output_type": "execute_result"
    }
   ],
   "source": [
    "# Populations\n",
    "i=150\n",
    "cityStop = split[i].find('</a>')\n",
    "hold=split[i][cityStop:]\n",
    "popStart=hold.find(\"<td>\")\n",
    "popStop=hold.find(\"\\n\\n      </td>\\n    </tr>\")\n",
    "hold[popStart+13:popStop] "
   ]
  },
  {
   "cell_type": "markdown",
   "id": "exterior-trick",
   "metadata": {},
   "source": [
    "Now for the other cities."
   ]
  },
  {
   "cell_type": "code",
   "execution_count": 18,
   "id": "revised-andorra",
   "metadata": {},
   "outputs": [
    {
     "data": {
      "text/plain": [
       "'        101\\n      </td>\\n      <td>\\n          Dunlap\\n      </td>\\n      <td>\\n        6,667\\n\\n      </td>\\n    </tr>\\n    '"
      ]
     },
     "execution_count": 18,
     "metadata": {},
     "output_type": "execute_result"
    }
   ],
   "source": [
    "i=101\n",
    "split[i]"
   ]
  },
  {
   "cell_type": "code",
   "execution_count": 24,
   "id": "neural-quarter",
   "metadata": {},
   "outputs": [
    {
     "data": {
      "text/plain": [
       "[\"        250\\n          <span class='badge badge-tie'>\\n            TIE\\n          </span>\\n      \",\n",
       " '\\n      <td>\\n          Woodburn and Liberty\\n      ',\n",
       " '\\n      <td>\\n        1,710\\n\\n      ',\n",
       " '\\n    </tr>\\n    ']"
      ]
     },
     "execution_count": 24,
     "metadata": {},
     "output_type": "execute_result"
    }
   ],
   "source": [
    "# What about a split within a split?\n",
    "i=250\n",
    "split[i].split(\"</td>\")"
   ]
  },
  {
   "cell_type": "code",
   "execution_count": 27,
   "id": "material-saying",
   "metadata": {},
   "outputs": [
    {
     "data": {
      "text/plain": [
       "'Dunlap'"
      ]
     },
     "execution_count": 27,
     "metadata": {},
     "output_type": "execute_result"
    }
   ],
   "source": [
    "i=101\n",
    "hold = split[i].split(\"</td>\")\n",
    "cityStart = hold[1].find(\"<td>\\n          \")+len(\"<td>\\n          \")\n",
    "cityStop = hold[1].rfind(\"\\n\")\n",
    "hold[1][cityStart:cityStop]"
   ]
  },
  {
   "cell_type": "code",
   "execution_count": 29,
   "id": "inside-found",
   "metadata": {},
   "outputs": [
    {
     "data": {
      "text/plain": [
       "'1,710'"
      ]
     },
     "execution_count": 29,
     "metadata": {},
     "output_type": "execute_result"
    }
   ],
   "source": [
    "i=250\n",
    "hold = split[i].split(\"</td>\")\n",
    "popStart = hold[2].find(\"<td>\")+len(\"<td>\\n        \")\n",
    "popStop = hold[2].find(\"\\n\\n\")\n",
    "hold[2][popStart:popStop]"
   ]
  },
  {
   "cell_type": "code",
   "execution_count": 31,
   "id": "twenty-decade",
   "metadata": {},
   "outputs": [
    {
     "name": "stdout",
     "output_type": "stream",
     "text": [
      "Indianapolis\n",
      "874,005\n",
      "Fort Wayne\n",
      "265,752\n",
      "Evansville\n",
      "118,588\n",
      "South Bend\n",
      "102,037\n",
      "Carmel\n",
      "97,464\n",
      "Fishers\n",
      "90,332\n",
      "Bloomington\n",
      "84,116\n",
      "Hammond\n",
      "76,547\n",
      "Gary\n",
      "76,010\n",
      "Lafayette\n",
      "72,581\n",
      "Muncie\n",
      "68,750\n",
      "Noblesville\n",
      "63,071\n",
      "Terre Haute\n",
      "60,673\n",
      "Kokomo\n",
      "58,145\n",
      "Greenwood\n",
      "57,764\n",
      "Anderson\n",
      "54,513\n",
      "Elkhart\n",
      "52,257\n",
      "Mishawaka\n",
      "49,245\n",
      "Lawrence\n",
      "48,699\n",
      "West Lafayette\n",
      "48,551\n",
      "Columbus\n",
      "48,150\n",
      "Jeffersonville\n",
      "47,673\n",
      "Westfield\n",
      "39,610\n",
      "Portage\n",
      "36,648\n",
      "New Albany\n",
      "36,647\n",
      "Richmond\n",
      "35,539\n",
      "Merrillville\n",
      "34,889\n",
      "Goshen\n",
      "34,108\n",
      "Valparaiso\n",
      "33,355\n",
      "Plainfield\n",
      "32,879\n",
      "Michigan City\n",
      "31,118\n",
      "Granger\n",
      "30,776\n",
      "Crown Point\n",
      "29,850\n",
      "Schererville\n",
      "28,590\n",
      "East Chicago\n",
      "28,201\n",
      "Hobart\n",
      "28,049\n",
      "Marion\n",
      "27,956\n",
      "Zionsville\n",
      "27,463\n",
      "Brownsburg\n",
      "26,046\n",
      "Franklin\n",
      "25,106\n",
      "Munster\n",
      "22,689\n",
      "Highland\n",
      "22,581\n",
      "Greenfield\n",
      "22,160\n",
      "La Porte\n",
      "21,577\n",
      "Clarksville\n",
      "21,548\n",
      "Seymour\n",
      "19,623\n",
      "Shelbyville\n",
      "18,951\n",
      "Logansport\n",
      "17,966\n",
      "Avon\n",
      "17,453\n",
      "St. John\n",
      "17,426\n",
      "Vincennes\n",
      "17,304\n",
      "New Castle\n",
      "17,287\n",
      "Huntington\n",
      "17,067\n",
      "New Haven\n",
      "16,279\n",
      "Griffith\n",
      "16,228\n",
      "Crawfordsville\n",
      "16,090\n",
      "Dyer\n",
      "15,953\n",
      "Lebanon\n",
      "15,932\n",
      "Jasper\n",
      "15,827\n",
      "Frankfort\n",
      "15,634\n",
      "Warsaw\n",
      "15,458\n",
      "Beech Grove\n",
      "14,990\n",
      "Chesterton\n",
      "14,119\n",
      "Bedford\n",
      "13,272\n",
      "Connersville\n",
      "13,165\n",
      "Auburn\n",
      "13,056\n",
      "Cedar Lake\n",
      "12,491\n",
      "Washington\n",
      "12,412\n",
      "Speedway\n",
      "12,266\n",
      "Lake Station\n",
      "12,002\n",
      "Madison\n",
      "11,813\n",
      "Martinsville\n",
      "11,635\n",
      "Peru\n",
      "11,584\n",
      "Greensburg\n",
      "11,228\n",
      "Yorktown\n",
      "11,143\n",
      "Greencastle\n",
      "10,296\n",
      "Wabash\n",
      "10,089\n",
      "Plymouth\n",
      "10,054\n",
      "Danville\n",
      "9,923\n",
      "Bluffton\n",
      "9,919\n",
      "Decatur\n",
      "9,863\n",
      "Mooresville\n",
      "9,661\n",
      "Lowell\n",
      "9,659\n",
      "Kendallville\n",
      "9,347\n",
      "Columbia City\n",
      "9,116\n",
      "Sellersburg\n",
      "9,066\n",
      "Princeton\n",
      "8,684\n",
      "Angola\n",
      "8,660\n",
      "Elwood\n",
      "8,441\n",
      "Brazil\n",
      "8,380\n",
      "Whitestown\n",
      "8,312\n",
      "Charlestown\n",
      "8,199\n",
      "Tell City\n",
      "7,256\n",
      "Bargersville\n",
      "7,085\n",
      "Nappanee\n",
      "7,033\n",
      "McCordsville\n",
      "6,857\n",
      "Lakes of the Four Seasons\n",
      "6,809\n",
      "Huntertown\n",
      "6,789\n",
      "North Vernon\n",
      "6,735\n",
      "Scottsburg\n",
      "6,702\n",
      "New stuff\n",
      "Dunlap\n",
      "6,667\n",
      "New stuff\n",
      "Garrett and Batesville\n",
      "6,651\n",
      "New stuff\n",
      "Notre Dame\n",
      "6,646\n",
      "New stuff\n",
      "Ellettsville\n",
      "6,642\n",
      "New stuff\n",
      "Mount Vernon\n",
      "6,584\n",
      "New stuff\n",
      "Huntingburg\n",
      "6,522\n",
      "New stuff\n",
      "Rensselaer\n",
      "6,324\n",
      "New stuff\n",
      "Boonville\n",
      "6,292\n",
      "New stuff\n",
      "Salem\n",
      "6,172\n",
      "New stuff\n",
      "New Whiteland\n",
      "6,051\n",
      "New stuff\n",
      "Rushville\n",
      "6,050\n",
      "New stuff\n",
      "Rochester\n",
      "6,045\n",
      "New stuff\n",
      "Portland\n",
      "5,886\n",
      "New stuff\n",
      "Westville\n",
      "5,848\n",
      "New stuff\n",
      "Hartford City\n",
      "5,831\n",
      "New stuff\n",
      "Bright\n",
      "5,816\n",
      "New stuff\n",
      "Gas City\n",
      "5,802\n",
      "New stuff\n",
      "Cumberland\n",
      "5,718\n",
      "New stuff\n",
      "North Manchester\n",
      "5,710\n",
      "New stuff\n",
      "Winfield\n",
      "5,705\n",
      "New stuff\n",
      "Hidden Valley\n",
      "5,531\n",
      "New stuff\n",
      "Simonton Lake\n",
      "5,362\n",
      "New stuff\n",
      "Monticello\n",
      "5,262\n",
      "New stuff\n",
      "Linton\n",
      "5,244\n",
      "New stuff\n",
      "South Haven\n",
      "5,092\n",
      "New stuff\n",
      "Alexandria\n",
      "4,988\n",
      "New stuff\n",
      "Lawrenceburg\n",
      "4,981\n",
      "New stuff\n",
      "Tipton\n",
      "4,969\n",
      "New stuff\n",
      "Winona Lake\n",
      "4,910\n",
      "New stuff\n",
      "Cicero\n",
      "4,891\n",
      "New stuff\n",
      "Porter\n",
      "4,817\n",
      "New stuff\n",
      "Whiting\n",
      "4,814\n",
      "New stuff\n",
      "Edinburgh\n",
      "4,792\n",
      "New stuff\n",
      "Winchester\n",
      "4,739\n",
      "New stuff\n",
      "Clinton\n",
      "4,706\n",
      "New stuff\n",
      "Ligonier\n",
      "4,654\n",
      "New stuff\n",
      "Highland CDP\n",
      "4,609\n",
      "New stuff\n",
      "Fortville\n",
      "4,574\n",
      "New stuff\n",
      "Bremen\n",
      "4,505\n",
      "New stuff\n",
      "Whiteland\n",
      "4,423\n",
      "New stuff\n",
      "North Terre Haute\n",
      "4,339\n",
      "New stuff\n",
      "Greendale\n",
      "4,279\n",
      "New stuff\n",
      "Mitchell\n",
      "4,261\n",
      "New stuff\n",
      "Pendleton\n",
      "4,246\n",
      "New stuff\n",
      "Berne\n",
      "4,235\n",
      "New stuff\n",
      "Sullivan\n",
      "4,082\n",
      "New stuff\n",
      "De Motte\n",
      "4,054\n",
      "New stuff\n",
      "Aurora\n",
      "3,995\n",
      "New stuff\n",
      "Roselawn\n",
      "3,954\n",
      "New stuff\n",
      "Leo-Cedarville\n",
      "3,788\n",
      "New stuff\n",
      "Melody Hill\n",
      "3,761\n",
      "New stuff\n",
      "Upland\n",
      "3,733\n",
      "New stuff\n",
      "Austin\n",
      "3,725\n",
      "New stuff\n",
      "Hebron\n",
      "3,692\n",
      "New stuff\n",
      "Paoli\n",
      "3,665\n",
      "New stuff\n",
      "Middlebury\n",
      "3,575\n",
      "New stuff\n",
      "Knox\n",
      "3,557\n",
      "New stuff\n",
      "Hanover\n",
      "3,427\n",
      "New stuff\n",
      "Smithville-Sanders\n",
      "3,424\n",
      "New stuff\n",
      "Pittsboro\n",
      "3,396\n",
      "New stuff\n",
      "Chandler\n",
      "3,384\n",
      "New stuff\n",
      "Ossian\n",
      "3,350\n",
      "New stuff\n",
      "Union City\n",
      "3,291\n",
      "New stuff\n",
      "Georgetown\n",
      "3,268\n",
      "New stuff\n",
      "Newburgh\n",
      "3,245\n",
      "New stuff\n",
      "Attica\n",
      "3,174\n",
      "New stuff\n",
      "Corydon\n",
      "3,162\n",
      "New stuff\n",
      "Fort Branch\n",
      "3,040\n",
      "New stuff\n",
      "Bicknell\n",
      "2,978\n",
      "New stuff\n",
      "Sheridan\n",
      "2,959\n",
      "New stuff\n",
      "Delphi\n",
      "2,935\n",
      "New stuff\n",
      "Brownstown\n",
      "2,923\n",
      "New stuff\n",
      "Syracuse\n",
      "2,881\n",
      "New stuff\n",
      "Shorewood Forest\n",
      "2,825\n",
      "New stuff\n",
      "Country Squire Lakes\n",
      "2,813\n",
      "New stuff\n",
      "Lagrange\n",
      "2,789\n",
      "New stuff\n",
      "Heritage Lake\n",
      "2,782\n",
      "New stuff\n",
      "Fairmount\n",
      "2,773\n",
      "New stuff\n",
      "Butler\n",
      "2,715\n",
      "New stuff\n",
      "Osceola\n",
      "2,707\n",
      "New stuff\n",
      "Santa Claus\n",
      "2,670\n",
      "New stuff\n",
      "Winamac\n",
      "2,636\n",
      "New stuff\n",
      "Centerville\n",
      "2,579\n",
      "New stuff\n",
      "Oakland City\n",
      "2,576\n",
      "New stuff\n",
      "Loogootee\n",
      "2,575\n",
      "New stuff\n",
      "Middletown\n",
      "2,568\n",
      "New stuff\n",
      "Brookville\n",
      "2,539\n",
      "New stuff\n",
      "Avilla\n",
      "2,538\n",
      "New stuff\n",
      "Rockville\n",
      "2,533\n",
      "New stuff\n",
      "Albion\n",
      "2,477\n",
      "New stuff\n",
      "Hope\n",
      "2,474\n",
      "New stuff\n",
      "Chesterfield\n",
      "2,472\n",
      "New stuff\n",
      "Bloomfield\n",
      "2,463\n",
      "New stuff\n",
      "Grissom AFB\n",
      "2,453\n",
      "New stuff\n",
      "Covington\n",
      "2,439\n",
      "New stuff\n",
      "Rockport\n",
      "2,418\n",
      "New stuff\n",
      "Petersburg\n",
      "2,408\n",
      "New stuff\n",
      "New Palestine\n",
      "2,365\n",
      "New stuff\n",
      "Lapel\n",
      "2,358\n",
      "New stuff\n",
      "Spencer\n",
      "2,335\n",
      "New stuff\n",
      "Fowler\n",
      "2,256\n",
      "New stuff\n",
      "Fremont\n",
      "2,240\n",
      "New stuff\n",
      "Knightstown\n",
      "2,223\n",
      "New stuff\n",
      "Waterloo\n",
      "2,221\n",
      "New stuff\n",
      "Ingalls\n",
      "2,203\n",
      "New stuff\n",
      "Greentown\n",
      "2,187\n",
      "New stuff\n",
      "West Terre Haute\n",
      "2,185\n",
      "New stuff\n",
      "Walkerton\n",
      "2,174\n",
      "New stuff\n",
      "Salt Creek Commons\n",
      "2,126\n",
      "New stuff\n",
      "Edgewood\n",
      "2,107\n",
      "New stuff\n",
      "Rising Sun\n",
      "2,099\n",
      "New stuff\n",
      "Albany\n",
      "2,094\n",
      "New stuff\n",
      "Veedersburg\n",
      "2,091\n",
      "New stuff\n",
      "Frankton\n",
      "2,088\n",
      "New stuff\n",
      "North Judson\n",
      "2,074\n",
      "New stuff\n",
      "Ferdinand\n",
      "2,065\n",
      "New stuff\n",
      "Milan\n",
      "2,040\n",
      "New stuff\n",
      "Orleans and Williamsport\n",
      "2,028\n",
      "New stuff\n",
      "Bourbon\n",
      "2,023\n",
      "New stuff\n",
      "Dunkirk\n",
      "2,022\n",
      "New stuff\n",
      "Versailles\n",
      "2,021\n",
      "New stuff\n",
      "Kouts\n",
      "2,018\n",
      "New stuff\n",
      "Flora\n",
      "2,013\n",
      "New stuff\n",
      "Burns Harbor\n",
      "1,980\n",
      "New stuff\n",
      "Jasonville\n",
      "1,966\n",
      "New stuff\n",
      "Wakarusa\n",
      "1,957\n",
      "New stuff\n",
      "Hagerstown\n",
      "1,934\n",
      "New stuff\n",
      "Trail Creek\n",
      "1,917\n",
      "New stuff\n",
      "New Carlisle\n",
      "1,916\n",
      "New stuff\n",
      "Shadeland\n",
      "1,913\n",
      "New stuff\n",
      "Osgood\n",
      "1,912\n",
      "New stuff\n",
      "Southport\n",
      "1,909\n",
      "New stuff\n",
      "North Liberty and Henryville\n",
      "1,878\n",
      "New stuff\n",
      "Eaton\n",
      "1,870\n",
      "New stuff\n",
      "Battle Ground\n",
      "1,857\n",
      "New stuff\n",
      "French Lick\n",
      "1,841\n",
      "New stuff\n",
      "Churubusco\n",
      "1,837\n",
      "New stuff\n",
      "Monon\n",
      "1,833\n",
      "New stuff\n",
      "Lake Dalecarlia\n",
      "1,811\n",
      "New stuff\n",
      "Argos\n",
      "1,802\n",
      "New stuff\n",
      "Cloverdale\n",
      "1,799\n",
      "New stuff\n",
      "Crothersville\n",
      "1,788\n",
      "New stuff\n",
      "Galena\n",
      "1,780\n",
      "New stuff\n",
      "Tri-Lakes\n",
      "1,750\n",
      "New stuff\n",
      "Milford\n",
      "1,747\n",
      "New stuff\n",
      "Cambridge City\n",
      "1,744\n",
      "New stuff\n",
      "Montpelier\n",
      "1,738\n",
      "New stuff\n",
      "Kentland\n",
      "1,722\n",
      "New stuff\n",
      "Vevay\n",
      "1,717\n",
      "New stuff\n",
      "Woodburn and Liberty\n",
      "1,710\n",
      "New stuff\n",
      "Roanoke\n",
      "1,688\n",
      "New stuff\n",
      "Prince's Lakes\n",
      "1,681\n",
      "New stuff\n",
      "Daleville\n",
      "1,662\n",
      "New stuff\n",
      "Hudson Lake\n",
      "1,638\n",
      "New stuff\n",
      "New Chicago\n",
      "1,633\n",
      "New stuff\n",
      "Harlan\n",
      "1,622\n",
      "New stuff\n",
      "Monrovia\n",
      "1,610\n",
      "New stuff\n",
      "Fish Lake\n",
      "1,605\n",
      "New stuff\n",
      "Aberdeen and Arcadia\n",
      "1,591\n",
      "New stuff\n",
      "Dayton\n",
      "1,578\n",
      "New stuff\n",
      "Dillsboro\n",
      "1,569\n",
      "New stuff\n",
      "South Whitley\n",
      "1,563\n",
      "New stuff\n",
      "Rossville\n",
      "1,544\n",
      "New stuff\n",
      "Bristol\n",
      "1,518\n",
      "New stuff\n",
      "Brookston\n",
      "1,513\n",
      "New stuff\n",
      "Bass Lake\n",
      "1,510\n",
      "New stuff\n",
      "Haubstadt\n",
      "1,504\n",
      "New stuff\n",
      "New Paris\n",
      "1,503\n",
      "New stuff\n",
      "Hamilton\n",
      "1,500\n",
      "New stuff\n",
      "Redkey\n",
      "1,490\n",
      "New stuff\n",
      "Dale\n",
      "1,482\n",
      "New stuff\n",
      "Nashville\n",
      "1,479\n",
      "New stuff\n",
      "Cannelton\n",
      "1,470\n",
      "New stuff\n",
      "New Pekin\n",
      "1,458\n",
      "New stuff\n",
      "Koontz Lake\n",
      "1,445\n",
      "New stuff\n",
      "Markle\n",
      "1,435\n",
      "New stuff\n",
      "Brooklyn\n",
      "1,417\n",
      "New stuff\n",
      "Farmland\n",
      "1,416\n",
      "New stuff\n",
      "Owensville\n",
      "1,414\n",
      "New stuff\n",
      "Shelburn\n",
      "1,406\n",
      "New stuff\n",
      "Odon\n",
      "1,379\n",
      "New stuff\n",
      "Palmyra\n",
      "1,367\n",
      "New stuff\n",
      "Rome City\n",
      "1,343\n",
      "New stuff\n",
      "Lake Holiday\n",
      "1,323\n",
      "New stuff\n",
      "Fairview Park\n",
      "1,321\n",
      "New stuff\n",
      "Mulberry\n",
      "1,318\n",
      "New stuff\n",
      "Parker City\n",
      "1,315\n",
      "New stuff\n",
      "Geneva\n",
      "1,312\n",
      "New stuff\n",
      "Remington\n",
      "1,300\n",
      "New stuff\n",
      "Grabill\n",
      "1,294\n",
      "New stuff\n",
      "Sweetser\n",
      "1,292\n",
      "New stuff\n",
      "Jonesboro\n",
      "1,275\n",
      "New stuff\n",
      "Ladoga\n",
      "1,271\n",
      "New stuff\n",
      "Morristown\n",
      "1,269\n",
      "New stuff\n",
      "Cayuga\n",
      "1,263\n",
      "New stuff\n",
      "Borden\n",
      "1,244\n",
      "New stuff\n",
      "Warren\n",
      "1,240\n",
      "New stuff\n",
      "Mentone\n",
      "1,239\n",
      "New stuff\n",
      "Wanatah\n",
      "1,235\n",
      "New stuff\n",
      "Thorntown\n",
      "1,231\n",
      "New stuff\n",
      "Westport\n",
      "1,230\n",
      "New stuff\n",
      "Monroeville\n",
      "1,229\n",
      "New stuff\n",
      "Galveston\n",
      "1,226\n",
      "New stuff\n",
      "Kingsford Heights\n",
      "1,216\n",
      "New stuff\n",
      "Worthington\n",
      "1,214\n",
      "New stuff\n",
      "Patoka\n",
      "1,210\n",
      "New stuff\n",
      "Akron\n",
      "1,206\n",
      "New stuff\n",
      "Oxford\n",
      "1,189\n",
      "New stuff\n",
      "Sunman\n",
      "1,184\n",
      "New stuff\n",
      "Farmersburg\n",
      "1,180\n",
      "New stuff\n",
      "Converse\n",
      "1,167\n",
      "New stuff\n",
      "Ogden Dunes\n",
      "1,163\n",
      "New stuff\n",
      "North Webster\n",
      "1,151\n",
      "New stuff\n",
      "Lynn\n",
      "1,149\n",
      "New stuff\n",
      "Trafalgar\n",
      "1,148\n",
      "New stuff\n",
      "Morocco\n",
      "1,146\n",
      "New stuff\n",
      "Long Beach\n",
      "1,141\n",
      "New stuff\n",
      "Waynetown\n",
      "1,134\n",
      "New stuff\n",
      "Cordry Sweetwater Lakes and Darmstadt\n",
      "1,131\n",
      "New stuff\n",
      "Culver\n",
      "1,130\n",
      "New stuff\n",
      "Greenville\n",
      "1,117\n",
      "New stuff\n",
      "Clayton\n",
      "1,110\n",
      "New stuff\n",
      "Walton\n",
      "1,107\n",
      "New stuff\n",
      "Wolcott\n",
      "1,103\n",
      "New stuff\n",
      "Oolitic\n",
      "1,088\n",
      "New stuff\n",
      "Russiaville\n",
      "1,087\n",
      "New stuff\n",
      "Morgantown\n",
      "1,042\n",
      "New stuff\n",
      "Winslow and St. Paul\n",
      "1,013\n",
      "New stuff\n",
      "Brook\n",
      "1,012\n",
      "New stuff\n",
      "Goodland\n",
      "1,000\n",
      "New stuff\n",
      "Carthage\n",
      "998\n",
      "New stuff\n",
      "Grandview\n",
      "995\n",
      "New stuff\n",
      "Ashley\n",
      "993\n",
      "New stuff\n",
      "La Fontaine\n",
      "992\n",
      "New stuff\n",
      "Andrews\n",
      "990\n",
      "New stuff\n",
      "Jamestown\n",
      "989\n",
      "New stuff\n",
      "Taylorsville\n",
      "979\n",
      "New stuff\n",
      "Mexico\n",
      "978\n",
      "New stuff\n",
      "Wolcottville\n",
      "974\n",
      "New stuff\n",
      "Atlanta\n",
      "954\n",
      "New stuff\n",
      "Otterbein\n",
      "953\n",
      "New stuff\n",
      "Shirley\n",
      "952\n",
      "New stuff\n",
      "Hoagland\n",
      "951\n",
      "New stuff\n",
      "Silver Lake\n",
      "948\n",
      "New stuff\n",
      "Summitville\n",
      "947\n",
      "New stuff\n",
      "Swayzee and Shipshewana\n",
      "946\n",
      "New stuff\n",
      "Monroe\n",
      "945\n",
      "New stuff\n",
      "Lynnville\n",
      "937\n",
      "New stuff\n",
      "Topeka\n",
      "933\n",
      "New stuff\n",
      "Wheatfield\n",
      "928\n",
      "New stuff\n",
      "Kirklin\n",
      "924\n",
      "New stuff\n",
      "Francesville\n",
      "908\n",
      "New stuff\n",
      "Poseyville\n",
      "905\n",
      "New stuff\n",
      "Memphis\n",
      "891\n",
      "New stuff\n",
      "Selma\n",
      "890\n",
      "New stuff\n",
      "Van Buren\n",
      "889\n",
      "New stuff\n",
      "Montezuma\n",
      "887\n",
      "New stuff\n",
      "Dugger\n",
      "883\n",
      "New stuff\n",
      "Pierceton\n",
      "880\n",
      "New stuff\n",
      "Gaston\n",
      "875\n",
      "New stuff\n",
      "St. Leon\n",
      "872\n",
      "New stuff\n",
      "St. Mary of the Woods\n",
      "868\n",
      "New stuff\n",
      "Seelyville\n",
      "864\n",
      "New stuff\n",
      "Lake Santee\n",
      "860\n",
      "New stuff\n",
      "Darlington\n",
      "857\n",
      "New stuff\n",
      "Clay City\n",
      "852\n",
      "New stuff\n",
      "Lakeville\n",
      "851\n",
      "New stuff\n",
      "Harmony\n",
      "849\n",
      "New stuff\n",
      "Rosedale\n",
      "845\n",
      "New stuff\n",
      "Milltown\n",
      "843\n",
      "New stuff\n",
      "Hatfield\n",
      "838\n",
      "New stuff\n",
      "Gosport\n",
      "834\n",
      "New stuff\n",
      "Royal Center\n",
      "833\n",
      "New stuff\n",
      "Spiceland\n",
      "825\n",
      "New stuff\n",
      "Millersburg\n",
      "820\n",
      "New stuff\n",
      "Avoca\n",
      "816\n",
      "New stuff\n",
      "Montgomery\n",
      "814\n",
      "New stuff\n",
      "Freelandville\n",
      "800\n",
      "New stuff\n",
      "Tecumseh\n",
      "799\n",
      "New stuff\n",
      "Laurel and Dublin\n",
      "794\n",
      "New stuff\n",
      "Colfax\n",
      "787\n",
      "New stuff\n",
      "Sharpsville\n",
      "785\n",
      "New stuff\n",
      "Roachdale\n",
      "781\n",
      "New stuff\n",
      "Hymera and Leesburg\n",
      "776\n",
      "New stuff\n",
      "Lake Village\n",
      "773\n",
      "New stuff\n",
      "Clarks Hill\n",
      "763\n",
      "New stuff\n",
      "Chrisney\n",
      "742\n",
      "New stuff\n",
      "Fountain City\n",
      "740\n",
      "New stuff\n",
      "Windfall City\n",
      "739\n",
      "New stuff\n",
      "Boswell\n",
      "736\n",
      "New stuff\n",
      "Elberfeld\n",
      "732\n",
      "New stuff\n",
      "Shoals\n",
      "731\n",
      "New stuff\n",
      "Bainbridge\n",
      "728\n",
      "New stuff\n",
      "Pennville\n",
      "724\n",
      "New stuff\n",
      "New Washington\n",
      "720\n",
      "New stuff\n",
      "New Harmony\n",
      "719\n",
      "New stuff\n",
      "Town of Pines\n",
      "717\n",
      "New stuff\n",
      "Zanesville and Monroe City\n",
      "715\n",
      "New stuff\n",
      "English\n",
      "711\n",
      "New stuff\n",
      "Knightsville\n",
      "707\n",
      "New stuff\n",
      "Medaryville\n",
      "701\n",
      "New stuff\n",
      "Buffalo\n",
      "698\n",
      "New stuff\n",
      "Linden\n",
      "690\n",
      "New stuff\n",
      "Harrodsburg\n",
      "686\n",
      "New stuff\n",
      "Van Bibber Lake\n",
      "679\n",
      "New stuff\n",
      "Campbellsburg, Lyons, and Moores Hill\n",
      "676\n",
      "New stuff\n",
      "Holland\n",
      "673\n",
      "New stuff\n",
      "West Lebanon\n",
      "664\n",
      "New stuff\n",
      "Carlisle\n",
      "660\n",
      "New stuff\n",
      "St. Meinrad\n",
      "658\n",
      "New stuff\n",
      "Marengo\n",
      "656\n",
      "New stuff\n",
      "Waldron\n",
      "647\n",
      "New stuff\n",
      "Elnora\n",
      "642\n",
      "New stuff\n",
      "Francisco and Utica\n",
      "639\n",
      "New stuff\n",
      "Matthews\n",
      "622\n",
      "New stuff\n",
      "Medora\n",
      "618\n",
      "New stuff\n",
      "Lanesville\n",
      "615\n",
      "New stuff\n",
      "Oaktown\n",
      "614\n",
      "New stuff\n",
      "Fairland\n",
      "612\n",
      "New stuff\n",
      "Cynthiana and New Market\n",
      "599\n",
      "New stuff\n",
      "Michigantown\n",
      "592\n",
      "New stuff\n",
      "New Salisbury\n",
      "590\n",
      "New stuff\n",
      "Hayden\n",
      "589\n",
      "New stuff\n",
      "Dana\n",
      "586\n",
      "New stuff\n",
      "Etna Green\n",
      "582\n",
      "New stuff\n",
      "Camden\n",
      "580\n",
      "New stuff\n",
      "Fillmore\n",
      "575\n",
      "New stuff\n",
      "Hamlet and Kimmell\n",
      "574\n",
      "New stuff\n",
      "Lizton\n",
      "573\n",
      "New stuff\n",
      "West College Corner\n",
      "570\n",
      "New stuff\n",
      "Paragon\n",
      "567\n",
      "New stuff\n",
      "Orestes\n",
      "566\n",
      "New stuff\n",
      "La Paz\n",
      "562\n",
      "New stuff\n",
      "Hudson\n",
      "557\n",
      "New stuff\n",
      "Coatesville\n",
      "555\n",
      "New stuff\n",
      "La Crosse\n",
      "549\n",
      "New stuff\n",
      "Collegeville\n",
      "547\n",
      "New stuff\n",
      "Ridgeville\n",
      "544\n",
      "New stuff\n",
      "Kennard\n",
      "540\n",
      "New stuff\n",
      "Elizabethtown\n",
      "538\n",
      "New stuff\n",
      "Parkers Settlement\n",
      "537\n",
      "New stuff\n",
      "Claypool\n",
      "534\n",
      "New stuff\n",
      "Painted Hills\n",
      "532\n",
      "New stuff\n",
      "Birdseye\n",
      "529\n",
      "New stuff\n",
      "Burlington\n",
      "528\n",
      "New stuff\n",
      "Patriot and Hillsboro\n",
      "527\n",
      "New stuff\n",
      "Waveland\n",
      "522\n",
      "New stuff\n",
      "Kewanna\n",
      "519\n",
      "New stuff\n",
      "Beverly Shores\n",
      "516\n",
      "New stuff\n",
      "Bunker Hill\n",
      "513\n",
      "New stuff\n",
      "Milroy and West Baden Springs\n",
      "511\n",
      "New stuff\n",
      "Reynolds\n",
      "505\n",
      "New stuff\n",
      "Mount Summit\n",
      "502\n",
      "New stuff\n",
      "Holton\n",
      "500\n",
      "New stuff\n",
      "Perrysville\n",
      "497\n",
      "New stuff\n",
      "Amo\n",
      "493\n",
      "New stuff\n",
      "Owensburg\n",
      "483\n",
      "New stuff\n",
      "St. Joe\n",
      "481\n",
      "New stuff\n",
      "Cromwell\n",
      "476\n",
      "New stuff\n",
      "Wheatland\n",
      "474\n",
      "New stuff\n",
      "Roseland and West Point\n",
      "465\n",
      "New stuff\n",
      "Rolling Prairie, St. Bernice, and Markleville\n",
      "463\n",
      "New stuff\n",
      "Advance and Oldenburg\n",
      "458\n",
      "New stuff\n",
      "Spring Grove\n",
      "456\n",
      "New stuff\n",
      "Fontanet and New Ross\n",
      "455\n",
      "New stuff\n",
      "Laketon\n",
      "454\n",
      "New stuff\n",
      "Lagro\n",
      "450\n",
      "New stuff\n",
      "Chalmers\n",
      "445\n",
      "New stuff\n",
      "Denver\n",
      "436\n",
      "New stuff\n",
      "Stockwell\n",
      "435\n",
      "New stuff\n",
      "New Goshen\n",
      "434\n",
      "New stuff\n",
      "Kingman\n",
      "433\n",
      "New stuff\n",
      "Greens Fork\n",
      "430\n",
      "New stuff\n",
      "Orland\n",
      "425\n",
      "New stuff\n",
      "Lewisville\n",
      "424\n",
      "New stuff\n",
      "North Salem\n",
      "423\n",
      "New stuff\n",
      "Somerset\n",
      "420\n",
      "New stuff\n",
      "Wilkinson\n",
      "413\n",
      "New stuff\n",
      "Burnettsville\n",
      "409\n",
      "New stuff\n",
      "Hartsville\n",
      "407\n",
      "New stuff\n",
      "Carbon\n",
      "402\n",
      "New stuff\n",
      "Manilla\n",
      "401\n",
      "New stuff\n",
      "Amboy\n",
      "400\n",
      "New stuff\n",
      "Clear Lake and Richland\n",
      "398\n",
      "New stuff\n",
      "Idaville and Shelby\n",
      "397\n",
      "New stuff\n",
      "Otwell\n",
      "390\n",
      "New stuff\n",
      "Vallonia\n",
      "388\n",
      "New stuff\n",
      "Troy and Staunton\n",
      "384\n",
      "New stuff\n",
      "Newport\n",
      "375\n",
      "New stuff\n",
      "Earl Park\n",
      "373\n",
      "New stuff\n",
      "New Point\n",
      "372\n",
      "New stuff\n",
      "Hazleton\n",
      "369\n",
      "New stuff\n",
      "Mecca and Russellville\n",
      "365\n",
      "New stuff\n",
      "Bloomingdale\n",
      "363\n",
      "New stuff\n",
      "Altona and Fulton\n",
      "358\n",
      "New stuff\n",
      "Norway\n",
      "355\n",
      "New stuff\n",
      "Roann\n",
      "352\n",
      "New stuff\n",
      "Milton\n",
      "351\n",
      "New stuff\n",
      "Monterey\n",
      "350\n",
      "New stuff\n",
      "Montmorenci\n",
      "348\n",
      "New stuff\n",
      "Kempton, Switz City, and Somerville\n",
      "343\n",
      "New stuff\n",
      "Plainville\n",
      "341\n",
      "New stuff\n",
      "Edwardsport\n",
      "340\n",
      "New stuff\n",
      "Freetown\n",
      "337\n",
      "New stuff\n",
      "Sulphur Springs\n",
      "335\n",
      "New stuff\n",
      "New Richmond\n",
      "333\n",
      "New stuff\n",
      "Leavenworth\n",
      "328\n",
      "New stuff\n",
      "East Germantown\n",
      "327\n",
      "New stuff\n",
      "Vernon\n",
      "326\n",
      "New stuff\n",
      "Universal\n",
      "325\n",
      "New stuff\n",
      "Dupont\n",
      "324\n",
      "New stuff\n",
      "Riley\n",
      "321\n",
      "New stuff\n",
      "Bruceville\n",
      "318\n",
      "New stuff\n",
      "Sandborn\n",
      "317\n",
      "New stuff\n",
      "Wheeler\n",
      "313\n",
      "New stuff\n",
      "Arlington\n",
      "312\n",
      "New stuff\n",
      "Larwill\n",
      "305\n",
      "New stuff\n",
      "Coalmont\n",
      "304\n",
      "New stuff\n",
      "Gentryville and Hanna\n",
      "295\n",
      "New stuff\n",
      "Michiana Shores\n",
      "294\n",
      "New stuff\n",
      "Marshall\n",
      "293\n",
      "New stuff\n",
      "Americus\n",
      "292\n",
      "New stuff\n",
      "Uniondale\n",
      "289\n",
      "New stuff\n",
      "Saratoga\n",
      "288\n",
      "New stuff\n",
      "Colburn\n",
      "287\n",
      "New stuff\n",
      "New Trenton\n",
      "283\n",
      "New stuff\n",
      "Clifford\n",
      "276\n",
      "New stuff\n",
      "West Harrison\n",
      "274\n",
      "New stuff\n",
      "Howe and Mooreland\n",
      "270\n",
      "New stuff\n",
      "Wingate\n",
      "268\n",
      "New stuff\n",
      "Center Point\n",
      "267\n",
      "New stuff\n",
      "Pottawattamie Park\n",
      "266\n",
      "New stuff\n",
      "Ragsdale\n",
      "265\n",
      "New stuff\n",
      "Fowlerton and Little York\n",
      "262\n",
      "New stuff\n",
      "Straughn\n",
      "260\n",
      "New stuff\n",
      "Ambia and Corunna\n",
      "255\n",
      "New stuff\n",
      "Glenwood\n",
      "254\n",
      "New stuff\n",
      "Shamrock Lakes\n",
      "252\n",
      "New stuff\n",
      "Macy\n",
      "250\n",
      "New stuff\n",
      "Tennyson\n",
      "248\n",
      "New stuff\n",
      "Jonesville\n",
      "247\n",
      "New stuff\n",
      "Decker\n",
      "241\n",
      "New stuff\n",
      "Williams and Stilesville\n",
      "235\n",
      "New stuff\n",
      "Napoleon and Schneider\n",
      "234\n",
      "New stuff\n",
      "Newtown\n",
      "230\n",
      "New stuff\n",
      "Blanford\n",
      "226\n",
      "New stuff\n",
      "Cadiz\n",
      "222\n",
      "New stuff\n",
      "Crane and East Enterprise\n",
      "219\n",
      "New stuff\n",
      "Pine Village\n",
      "218\n",
      "New stuff\n",
      "Toad Hop\n",
      "216\n",
      "New stuff\n",
      "Spring Lake\n",
      "214\n",
      "New stuff\n",
      "Stinesville\n",
      "213\n",
      "New stuff\n",
      "Jalapa\n",
      "212\n",
      "New stuff\n",
      "Dubois\n",
      "207\n",
      "New stuff\n",
      "Newberry\n",
      "199\n",
      "New stuff\n",
      "Dune Acres\n",
      "198\n",
      "New stuff\n",
      "Losantville\n",
      "197\n",
      "New stuff\n",
      "Merom\n",
      "193\n",
      "New stuff\n",
      "Ulen and Scotland\n",
      "192\n",
      "New stuff\n",
      "Modoc\n",
      "190\n",
      "New stuff\n",
      "Kingsbury\n",
      "186\n",
      "New stuff\n",
      "Butlerville\n",
      "181\n",
      "New stuff\n",
      "Point Isabel\n",
      "179\n",
      "New stuff\n",
      "Bryant\n",
      "177\n",
      "New stuff\n",
      "Indian Village and Poneto\n",
      "175\n",
      "New stuff\n",
      "State Line City\n",
      "173\n",
      "New stuff\n",
      "Star City\n",
      "171\n",
      "New stuff\n",
      "Fredericksburg\n",
      "168\n",
      "New stuff\n",
      "Cedar Grove\n",
      "167\n",
      "New stuff\n",
      "Millhousen\n",
      "164\n",
      "New stuff\n",
      "Buck Creek\n",
      "162\n",
      "New stuff\n",
      "Scipio\n",
      "158\n",
      "New stuff\n",
      "Elizabeth and Springport\n",
      "156\n",
      "New stuff\n",
      "Griffin\n",
      "152\n",
      "New stuff\n",
      "Metamora\n",
      "151\n",
      "New stuff\n",
      "Boston\n",
      "149\n",
      "New stuff\n",
      "Salamonia\n",
      "147\n",
      "New stuff\n",
      "Mount Etna\n",
      "145\n",
      "New stuff\n",
      "Herbst\n",
      "143\n",
      "New stuff\n",
      "Greensboro\n",
      "142\n",
      "New stuff\n",
      "Mellott\n",
      "140\n",
      "New stuff\n",
      "Crandall and Spurgeon\n",
      "139\n",
      "New stuff\n",
      "Dunreith\n",
      "138\n",
      "New stuff\n",
      "Hardinsburg\n",
      "137\n",
      "New stuff\n",
      "Economy\n",
      "135\n",
      "New stuff\n",
      "Yeoman\n",
      "134\n",
      "New stuff\n",
      "Mackey\n",
      "131\n",
      "New stuff\n",
      "Shepardsville\n",
      "130\n",
      "New stuff\n",
      "Cannelburg and Landess\n",
      "119\n",
      "New stuff\n",
      "Emison\n",
      "118\n",
      "New stuff\n",
      "Burket, New Middletown, and Brooksburg\n",
      "113\n",
      "New stuff\n",
      "Mount Ayr\n",
      "110\n",
      "New stuff\n",
      "Saltillo and Sims\n",
      "106\n",
      "New stuff\n",
      "Mount Auburn\n",
      "103\n",
      "New stuff\n",
      "Country Club Heights\n",
      "102\n",
      "New stuff\n",
      "Onward\n",
      "100\n",
      "New stuff\n",
      "Vera Cruz\n",
      "97\n",
      "New stuff\n",
      "Burns City and Livonia\n",
      "90\n",
      "New stuff\n",
      "Woodlawn Heights\n",
      "87\n",
      "New stuff\n",
      "San Pierre\n",
      "86\n",
      "New stuff\n",
      "Blountsville\n",
      "76\n",
      "New stuff\n",
      "Wallace\n",
      "74\n",
      "New stuff\n",
      "Canaan and Westphalia\n",
      "71\n",
      "New stuff\n",
      "Whitewater\n",
      "70\n",
      "New stuff\n",
      "Kent\n",
      "68\n",
      "New stuff\n",
      "Bethany\n",
      "62\n",
      "New stuff\n",
      "Sidney\n",
      "51\n",
      "New stuff\n",
      "Alfordsville\n",
      "49\n",
      "New stuff\n",
      "Deputy and Laconia\n",
      "47\n",
      "New stuff\n",
      "Mauckport and Clarksburg\n",
      "46\n",
      "New stuff\n",
      "Alamo\n",
      "43\n",
      "New stuff\n",
      "Mier\n",
      "41\n",
      "New stuff\n",
      "Dresser\n",
      "38\n",
      "New stuff\n",
      "Alton\n",
      "34\n",
      "New stuff\n",
      "Florence\n",
      "29\n",
      "New stuff\n",
      "Dover Hill\n",
      "26\n",
      "New stuff\n",
      "New Amsterdam\n",
      "15\n",
      "New stuff\n",
      "River Forest\n",
      "12\n",
      "New stuff\n",
      "Mount Carmel\n",
      "10\n"
     ]
    }
   ],
   "source": [
    "for i in range(1,len(split)):\n",
    "    if split[i].find('-demographics\">')>-1:\n",
    "        cityStart = split[i].find('-demographics\">')\n",
    "        cityStop = split[i].find('</a>')\n",
    "        city = split[i][cityStart+15:cityStop]\n",
    "        \n",
    "        hold=split[i][cityStop:]\n",
    "        popStart=hold.find(\"<td>\")\n",
    "        popStop=hold.find(\"\\n\\n      </td>\\n    </tr>\")\n",
    "        pop = hold[popStart+13:popStop]  \n",
    "    else:\n",
    "        print(\"-----New stuff-----------\")\n",
    "        hold = split[i].split(\"</td>\")\n",
    "        cityStart = hold[1].find(\"<td>\\n          \")+len(\"<td>\\n          \")\n",
    "        cityStop = hold[1].rfind(\"\\n\")\n",
    "        city = hold[1][cityStart:cityStop]\n",
    "        popStart = hold[2].find(\"<td>\")+len(\"<td>\\n        \")\n",
    "        popStop = hold[2].find(\"\\n\\n\")\n",
    "        pop=hold[2][popStart:popStop]\n",
    "    print(city)\n",
    "    print(pop)"
   ]
  },
  {
   "cell_type": "markdown",
   "id": "ranking-conditions",
   "metadata": {},
   "source": [
    "When starting out, it might help you to use string manipulation to parse html as it will familiarize you with html structure."
   ]
  },
  {
   "cell_type": "code",
   "execution_count": null,
   "id": "equal-telling",
   "metadata": {},
   "outputs": [],
   "source": []
  }
 ],
 "metadata": {
  "kernelspec": {
   "display_name": "Python 3",
   "language": "python",
   "name": "python3"
  },
  "language_info": {
   "codemirror_mode": {
    "name": "ipython",
    "version": 3
   },
   "file_extension": ".py",
   "mimetype": "text/x-python",
   "name": "python",
   "nbconvert_exporter": "python",
   "pygments_lexer": "ipython3",
   "version": "3.8.5"
  }
 },
 "nbformat": 4,
 "nbformat_minor": 5
}
